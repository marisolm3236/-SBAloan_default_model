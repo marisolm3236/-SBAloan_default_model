{
  "nbformat": 4,
  "nbformat_minor": 0,
  "metadata": {
    "colab": {
      "name": "SmallBusinessLoans.ipynb",
      "provenance": [],
      "collapsed_sections": [
        "AZNkEIjDgsEi",
        "D-FOfhbJUIcy",
        "0UX_VVx9UKiM",
        "stvTFZBQUatE",
        "X_4LQGdlUefp",
        "elMeOuiiGFRo",
        "AKwpluuiGZMe",
        "dNcBO0urGfF8",
        "FXUiixdHNwHm"
      ],
      "include_colab_link": true
    },
    "kernelspec": {
      "name": "python3",
      "display_name": "Python 3"
    }
  },
  "cells": [
    {
      "cell_type": "markdown",
      "metadata": {
        "id": "view-in-github",
        "colab_type": "text"
      },
      "source": [
        "<a href=\"https://colab.research.google.com/github/marisolm3236/-SBAloan_default_model/blob/main/SmallBusinessLoans.ipynb\" target=\"_parent\"><img src=\"https://colab.research.google.com/assets/colab-badge.svg\" alt=\"Open In Colab\"/></a>"
      ]
    },
    {
      "cell_type": "markdown",
      "metadata": {
        "id": "AZNkEIjDgsEi"
      },
      "source": [
        "# Small Business Loans"
      ]
    },
    {
      "cell_type": "markdown",
      "metadata": {
        "id": "JO46ES7NUrDu"
      },
      "source": [
        "Our overall objectives are to determine what factors tend to cause a loan to be defaulted on and to create a model to predict which approved loan applications will default on their loan. Our target audience consists of consultants who help small businesses grow. In particular, we want to help guide them from an initial idea to the point where they can qualify for a small business loan and be successful enough to not default on it."
      ]
    },
    {
      "cell_type": "markdown",
      "metadata": {
        "id": "D-FOfhbJUIcy"
      },
      "source": [
        "# Imports"
      ]
    },
    {
      "cell_type": "code",
      "metadata": {
        "id": "JZH8n3m9R0eq",
        "outputId": "c6989655-5991-4352-f66f-789a74619c5c",
        "colab": {
          "base_uri": "https://localhost:8080/",
          "height": 32
        }
      },
      "source": [
        "import pandas as pd\n",
        "import numpy as np\n",
        "\n",
        "from matplotlib import pyplot as plt\n",
        "import seaborn as sns\n",
        "\n",
        "from sklearn.linear_model import LogisticRegression\n",
        "from sklearn.model_selection import train_test_split\n",
        "from sklearn.preprocessing import LabelEncoder\n",
        "from sklearn.metrics import classification_report\n",
        "\n",
        "from google.colab import drive\n",
        "drive.mount('/content/drive')\n",
        "drive_dir = '/content/drive/Shared drives/Project 2 (MATH 3439)/'"
      ],
      "execution_count": null,
      "outputs": [
        {
          "output_type": "stream",
          "text": [
            "Drive already mounted at /content/drive; to attempt to forcibly remount, call drive.mount(\"/content/drive\", force_remount=True).\n"
          ],
          "name": "stdout"
        }
      ]
    },
    {
      "cell_type": "markdown",
      "metadata": {
        "id": "0UX_VVx9UKiM"
      },
      "source": [
        "# Loading the Data"
      ]
    },
    {
      "cell_type": "code",
      "metadata": {
        "id": "m4gIXPUrg1bm",
        "outputId": "f03cbd54-6409-4022-aa84-0e5123320a01",
        "colab": {
          "base_uri": "https://localhost:8080/",
          "height": 69
        }
      },
      "source": [
        "df = pd.read_csv(drive_dir + 'SBAnational.csv')"
      ],
      "execution_count": null,
      "outputs": [
        {
          "output_type": "stream",
          "text": [
            "/usr/local/lib/python3.6/dist-packages/IPython/core/interactiveshell.py:2718: DtypeWarning: Columns (9) have mixed types.Specify dtype option on import or set low_memory=False.\n",
            "  interactivity=interactivity, compiler=compiler, result=result)\n"
          ],
          "name": "stderr"
        }
      ]
    },
    {
      "cell_type": "code",
      "metadata": {
        "id": "zTOZ8JtDVKWb",
        "outputId": "03b91353-39a7-4ef7-d9ce-1a88ac79b727",
        "colab": {
          "base_uri": "https://localhost:8080/",
          "height": 451
        }
      },
      "source": [
        "df.head()"
      ],
      "execution_count": null,
      "outputs": [
        {
          "output_type": "execute_result",
          "data": {
            "text/html": [
              "<div>\n",
              "<style scoped>\n",
              "    .dataframe tbody tr th:only-of-type {\n",
              "        vertical-align: middle;\n",
              "    }\n",
              "\n",
              "    .dataframe tbody tr th {\n",
              "        vertical-align: top;\n",
              "    }\n",
              "\n",
              "    .dataframe thead th {\n",
              "        text-align: right;\n",
              "    }\n",
              "</style>\n",
              "<table border=\"1\" class=\"dataframe\">\n",
              "  <thead>\n",
              "    <tr style=\"text-align: right;\">\n",
              "      <th></th>\n",
              "      <th>LoanNr_ChkDgt</th>\n",
              "      <th>Name</th>\n",
              "      <th>City</th>\n",
              "      <th>State</th>\n",
              "      <th>Zip</th>\n",
              "      <th>Bank</th>\n",
              "      <th>BankState</th>\n",
              "      <th>NAICS</th>\n",
              "      <th>ApprovalDate</th>\n",
              "      <th>ApprovalFY</th>\n",
              "      <th>Term</th>\n",
              "      <th>NoEmp</th>\n",
              "      <th>NewExist</th>\n",
              "      <th>CreateJob</th>\n",
              "      <th>RetainedJob</th>\n",
              "      <th>FranchiseCode</th>\n",
              "      <th>UrbanRural</th>\n",
              "      <th>RevLineCr</th>\n",
              "      <th>LowDoc</th>\n",
              "      <th>ChgOffDate</th>\n",
              "      <th>DisbursementDate</th>\n",
              "      <th>DisbursementGross</th>\n",
              "      <th>BalanceGross</th>\n",
              "      <th>MIS_Status</th>\n",
              "      <th>ChgOffPrinGr</th>\n",
              "      <th>GrAppv</th>\n",
              "      <th>SBA_Appv</th>\n",
              "    </tr>\n",
              "  </thead>\n",
              "  <tbody>\n",
              "    <tr>\n",
              "      <th>0</th>\n",
              "      <td>1000014003</td>\n",
              "      <td>ABC HOBBYCRAFT</td>\n",
              "      <td>EVANSVILLE</td>\n",
              "      <td>IN</td>\n",
              "      <td>47711</td>\n",
              "      <td>FIFTH THIRD BANK</td>\n",
              "      <td>OH</td>\n",
              "      <td>451120</td>\n",
              "      <td>28-Feb-97</td>\n",
              "      <td>1997</td>\n",
              "      <td>84</td>\n",
              "      <td>4</td>\n",
              "      <td>2.0</td>\n",
              "      <td>0</td>\n",
              "      <td>0</td>\n",
              "      <td>1</td>\n",
              "      <td>0</td>\n",
              "      <td>N</td>\n",
              "      <td>Y</td>\n",
              "      <td>NaN</td>\n",
              "      <td>28-Feb-99</td>\n",
              "      <td>$60,000.00</td>\n",
              "      <td>$0.00</td>\n",
              "      <td>P I F</td>\n",
              "      <td>$0.00</td>\n",
              "      <td>$60,000.00</td>\n",
              "      <td>$48,000.00</td>\n",
              "    </tr>\n",
              "    <tr>\n",
              "      <th>1</th>\n",
              "      <td>1000024006</td>\n",
              "      <td>LANDMARK BAR &amp; GRILLE (THE)</td>\n",
              "      <td>NEW PARIS</td>\n",
              "      <td>IN</td>\n",
              "      <td>46526</td>\n",
              "      <td>1ST SOURCE BANK</td>\n",
              "      <td>IN</td>\n",
              "      <td>722410</td>\n",
              "      <td>28-Feb-97</td>\n",
              "      <td>1997</td>\n",
              "      <td>60</td>\n",
              "      <td>2</td>\n",
              "      <td>2.0</td>\n",
              "      <td>0</td>\n",
              "      <td>0</td>\n",
              "      <td>1</td>\n",
              "      <td>0</td>\n",
              "      <td>N</td>\n",
              "      <td>Y</td>\n",
              "      <td>NaN</td>\n",
              "      <td>31-May-97</td>\n",
              "      <td>$40,000.00</td>\n",
              "      <td>$0.00</td>\n",
              "      <td>P I F</td>\n",
              "      <td>$0.00</td>\n",
              "      <td>$40,000.00</td>\n",
              "      <td>$32,000.00</td>\n",
              "    </tr>\n",
              "    <tr>\n",
              "      <th>2</th>\n",
              "      <td>1000034009</td>\n",
              "      <td>WHITLOCK DDS, TODD M.</td>\n",
              "      <td>BLOOMINGTON</td>\n",
              "      <td>IN</td>\n",
              "      <td>47401</td>\n",
              "      <td>GRANT COUNTY STATE BANK</td>\n",
              "      <td>IN</td>\n",
              "      <td>621210</td>\n",
              "      <td>28-Feb-97</td>\n",
              "      <td>1997</td>\n",
              "      <td>180</td>\n",
              "      <td>7</td>\n",
              "      <td>1.0</td>\n",
              "      <td>0</td>\n",
              "      <td>0</td>\n",
              "      <td>1</td>\n",
              "      <td>0</td>\n",
              "      <td>N</td>\n",
              "      <td>N</td>\n",
              "      <td>NaN</td>\n",
              "      <td>31-Dec-97</td>\n",
              "      <td>$287,000.00</td>\n",
              "      <td>$0.00</td>\n",
              "      <td>P I F</td>\n",
              "      <td>$0.00</td>\n",
              "      <td>$287,000.00</td>\n",
              "      <td>$215,250.00</td>\n",
              "    </tr>\n",
              "    <tr>\n",
              "      <th>3</th>\n",
              "      <td>1000044001</td>\n",
              "      <td>BIG BUCKS PAWN &amp; JEWELRY, LLC</td>\n",
              "      <td>BROKEN ARROW</td>\n",
              "      <td>OK</td>\n",
              "      <td>74012</td>\n",
              "      <td>1ST NATL BK &amp; TR CO OF BROKEN</td>\n",
              "      <td>OK</td>\n",
              "      <td>0</td>\n",
              "      <td>28-Feb-97</td>\n",
              "      <td>1997</td>\n",
              "      <td>60</td>\n",
              "      <td>2</td>\n",
              "      <td>1.0</td>\n",
              "      <td>0</td>\n",
              "      <td>0</td>\n",
              "      <td>1</td>\n",
              "      <td>0</td>\n",
              "      <td>N</td>\n",
              "      <td>Y</td>\n",
              "      <td>NaN</td>\n",
              "      <td>30-Jun-97</td>\n",
              "      <td>$35,000.00</td>\n",
              "      <td>$0.00</td>\n",
              "      <td>P I F</td>\n",
              "      <td>$0.00</td>\n",
              "      <td>$35,000.00</td>\n",
              "      <td>$28,000.00</td>\n",
              "    </tr>\n",
              "    <tr>\n",
              "      <th>4</th>\n",
              "      <td>1000054004</td>\n",
              "      <td>ANASTASIA CONFECTIONS, INC.</td>\n",
              "      <td>ORLANDO</td>\n",
              "      <td>FL</td>\n",
              "      <td>32801</td>\n",
              "      <td>FLORIDA BUS. DEVEL CORP</td>\n",
              "      <td>FL</td>\n",
              "      <td>0</td>\n",
              "      <td>28-Feb-97</td>\n",
              "      <td>1997</td>\n",
              "      <td>240</td>\n",
              "      <td>14</td>\n",
              "      <td>1.0</td>\n",
              "      <td>7</td>\n",
              "      <td>7</td>\n",
              "      <td>1</td>\n",
              "      <td>0</td>\n",
              "      <td>N</td>\n",
              "      <td>N</td>\n",
              "      <td>NaN</td>\n",
              "      <td>14-May-97</td>\n",
              "      <td>$229,000.00</td>\n",
              "      <td>$0.00</td>\n",
              "      <td>P I F</td>\n",
              "      <td>$0.00</td>\n",
              "      <td>$229,000.00</td>\n",
              "      <td>$229,000.00</td>\n",
              "    </tr>\n",
              "  </tbody>\n",
              "</table>\n",
              "</div>"
            ],
            "text/plain": [
              "   LoanNr_ChkDgt                           Name  ...        GrAppv      SBA_Appv\n",
              "0     1000014003                 ABC HOBBYCRAFT  ...   $60,000.00    $48,000.00 \n",
              "1     1000024006    LANDMARK BAR & GRILLE (THE)  ...   $40,000.00    $32,000.00 \n",
              "2     1000034009          WHITLOCK DDS, TODD M.  ...  $287,000.00   $215,250.00 \n",
              "3     1000044001  BIG BUCKS PAWN & JEWELRY, LLC  ...   $35,000.00    $28,000.00 \n",
              "4     1000054004    ANASTASIA CONFECTIONS, INC.  ...  $229,000.00   $229,000.00 \n",
              "\n",
              "[5 rows x 27 columns]"
            ]
          },
          "metadata": {
            "tags": []
          },
          "execution_count": 4
        }
      ]
    },
    {
      "cell_type": "markdown",
      "metadata": {
        "id": "stvTFZBQUatE"
      },
      "source": [
        "# Describing the Data and Initial Cleaning"
      ]
    },
    {
      "cell_type": "code",
      "metadata": {
        "id": "3F7DiwJbVJZL",
        "outputId": "d526cc3f-4825-46d4-c2ff-cb14fe0cce20",
        "colab": {
          "base_uri": "https://localhost:8080/",
          "height": 451
        }
      },
      "source": [
        "df.head()"
      ],
      "execution_count": null,
      "outputs": [
        {
          "output_type": "execute_result",
          "data": {
            "text/html": [
              "<div>\n",
              "<style scoped>\n",
              "    .dataframe tbody tr th:only-of-type {\n",
              "        vertical-align: middle;\n",
              "    }\n",
              "\n",
              "    .dataframe tbody tr th {\n",
              "        vertical-align: top;\n",
              "    }\n",
              "\n",
              "    .dataframe thead th {\n",
              "        text-align: right;\n",
              "    }\n",
              "</style>\n",
              "<table border=\"1\" class=\"dataframe\">\n",
              "  <thead>\n",
              "    <tr style=\"text-align: right;\">\n",
              "      <th></th>\n",
              "      <th>LoanNr_ChkDgt</th>\n",
              "      <th>Name</th>\n",
              "      <th>City</th>\n",
              "      <th>State</th>\n",
              "      <th>Zip</th>\n",
              "      <th>Bank</th>\n",
              "      <th>BankState</th>\n",
              "      <th>NAICS</th>\n",
              "      <th>ApprovalDate</th>\n",
              "      <th>ApprovalFY</th>\n",
              "      <th>Term</th>\n",
              "      <th>NoEmp</th>\n",
              "      <th>NewExist</th>\n",
              "      <th>CreateJob</th>\n",
              "      <th>RetainedJob</th>\n",
              "      <th>FranchiseCode</th>\n",
              "      <th>UrbanRural</th>\n",
              "      <th>RevLineCr</th>\n",
              "      <th>LowDoc</th>\n",
              "      <th>ChgOffDate</th>\n",
              "      <th>DisbursementDate</th>\n",
              "      <th>DisbursementGross</th>\n",
              "      <th>BalanceGross</th>\n",
              "      <th>MIS_Status</th>\n",
              "      <th>ChgOffPrinGr</th>\n",
              "      <th>GrAppv</th>\n",
              "      <th>SBA_Appv</th>\n",
              "    </tr>\n",
              "  </thead>\n",
              "  <tbody>\n",
              "    <tr>\n",
              "      <th>0</th>\n",
              "      <td>1000014003</td>\n",
              "      <td>ABC HOBBYCRAFT</td>\n",
              "      <td>EVANSVILLE</td>\n",
              "      <td>IN</td>\n",
              "      <td>47711</td>\n",
              "      <td>FIFTH THIRD BANK</td>\n",
              "      <td>OH</td>\n",
              "      <td>451120</td>\n",
              "      <td>28-Feb-97</td>\n",
              "      <td>1997</td>\n",
              "      <td>84</td>\n",
              "      <td>4</td>\n",
              "      <td>2.0</td>\n",
              "      <td>0</td>\n",
              "      <td>0</td>\n",
              "      <td>1</td>\n",
              "      <td>0</td>\n",
              "      <td>N</td>\n",
              "      <td>Y</td>\n",
              "      <td>NaN</td>\n",
              "      <td>28-Feb-99</td>\n",
              "      <td>$60,000.00</td>\n",
              "      <td>$0.00</td>\n",
              "      <td>P I F</td>\n",
              "      <td>$0.00</td>\n",
              "      <td>$60,000.00</td>\n",
              "      <td>$48,000.00</td>\n",
              "    </tr>\n",
              "    <tr>\n",
              "      <th>1</th>\n",
              "      <td>1000024006</td>\n",
              "      <td>LANDMARK BAR &amp; GRILLE (THE)</td>\n",
              "      <td>NEW PARIS</td>\n",
              "      <td>IN</td>\n",
              "      <td>46526</td>\n",
              "      <td>1ST SOURCE BANK</td>\n",
              "      <td>IN</td>\n",
              "      <td>722410</td>\n",
              "      <td>28-Feb-97</td>\n",
              "      <td>1997</td>\n",
              "      <td>60</td>\n",
              "      <td>2</td>\n",
              "      <td>2.0</td>\n",
              "      <td>0</td>\n",
              "      <td>0</td>\n",
              "      <td>1</td>\n",
              "      <td>0</td>\n",
              "      <td>N</td>\n",
              "      <td>Y</td>\n",
              "      <td>NaN</td>\n",
              "      <td>31-May-97</td>\n",
              "      <td>$40,000.00</td>\n",
              "      <td>$0.00</td>\n",
              "      <td>P I F</td>\n",
              "      <td>$0.00</td>\n",
              "      <td>$40,000.00</td>\n",
              "      <td>$32,000.00</td>\n",
              "    </tr>\n",
              "    <tr>\n",
              "      <th>2</th>\n",
              "      <td>1000034009</td>\n",
              "      <td>WHITLOCK DDS, TODD M.</td>\n",
              "      <td>BLOOMINGTON</td>\n",
              "      <td>IN</td>\n",
              "      <td>47401</td>\n",
              "      <td>GRANT COUNTY STATE BANK</td>\n",
              "      <td>IN</td>\n",
              "      <td>621210</td>\n",
              "      <td>28-Feb-97</td>\n",
              "      <td>1997</td>\n",
              "      <td>180</td>\n",
              "      <td>7</td>\n",
              "      <td>1.0</td>\n",
              "      <td>0</td>\n",
              "      <td>0</td>\n",
              "      <td>1</td>\n",
              "      <td>0</td>\n",
              "      <td>N</td>\n",
              "      <td>N</td>\n",
              "      <td>NaN</td>\n",
              "      <td>31-Dec-97</td>\n",
              "      <td>$287,000.00</td>\n",
              "      <td>$0.00</td>\n",
              "      <td>P I F</td>\n",
              "      <td>$0.00</td>\n",
              "      <td>$287,000.00</td>\n",
              "      <td>$215,250.00</td>\n",
              "    </tr>\n",
              "    <tr>\n",
              "      <th>3</th>\n",
              "      <td>1000044001</td>\n",
              "      <td>BIG BUCKS PAWN &amp; JEWELRY, LLC</td>\n",
              "      <td>BROKEN ARROW</td>\n",
              "      <td>OK</td>\n",
              "      <td>74012</td>\n",
              "      <td>1ST NATL BK &amp; TR CO OF BROKEN</td>\n",
              "      <td>OK</td>\n",
              "      <td>0</td>\n",
              "      <td>28-Feb-97</td>\n",
              "      <td>1997</td>\n",
              "      <td>60</td>\n",
              "      <td>2</td>\n",
              "      <td>1.0</td>\n",
              "      <td>0</td>\n",
              "      <td>0</td>\n",
              "      <td>1</td>\n",
              "      <td>0</td>\n",
              "      <td>N</td>\n",
              "      <td>Y</td>\n",
              "      <td>NaN</td>\n",
              "      <td>30-Jun-97</td>\n",
              "      <td>$35,000.00</td>\n",
              "      <td>$0.00</td>\n",
              "      <td>P I F</td>\n",
              "      <td>$0.00</td>\n",
              "      <td>$35,000.00</td>\n",
              "      <td>$28,000.00</td>\n",
              "    </tr>\n",
              "    <tr>\n",
              "      <th>4</th>\n",
              "      <td>1000054004</td>\n",
              "      <td>ANASTASIA CONFECTIONS, INC.</td>\n",
              "      <td>ORLANDO</td>\n",
              "      <td>FL</td>\n",
              "      <td>32801</td>\n",
              "      <td>FLORIDA BUS. DEVEL CORP</td>\n",
              "      <td>FL</td>\n",
              "      <td>0</td>\n",
              "      <td>28-Feb-97</td>\n",
              "      <td>1997</td>\n",
              "      <td>240</td>\n",
              "      <td>14</td>\n",
              "      <td>1.0</td>\n",
              "      <td>7</td>\n",
              "      <td>7</td>\n",
              "      <td>1</td>\n",
              "      <td>0</td>\n",
              "      <td>N</td>\n",
              "      <td>N</td>\n",
              "      <td>NaN</td>\n",
              "      <td>14-May-97</td>\n",
              "      <td>$229,000.00</td>\n",
              "      <td>$0.00</td>\n",
              "      <td>P I F</td>\n",
              "      <td>$0.00</td>\n",
              "      <td>$229,000.00</td>\n",
              "      <td>$229,000.00</td>\n",
              "    </tr>\n",
              "  </tbody>\n",
              "</table>\n",
              "</div>"
            ],
            "text/plain": [
              "   LoanNr_ChkDgt                           Name  ...        GrAppv      SBA_Appv\n",
              "0     1000014003                 ABC HOBBYCRAFT  ...   $60,000.00    $48,000.00 \n",
              "1     1000024006    LANDMARK BAR & GRILLE (THE)  ...   $40,000.00    $32,000.00 \n",
              "2     1000034009          WHITLOCK DDS, TODD M.  ...  $287,000.00   $215,250.00 \n",
              "3     1000044001  BIG BUCKS PAWN & JEWELRY, LLC  ...   $35,000.00    $28,000.00 \n",
              "4     1000054004    ANASTASIA CONFECTIONS, INC.  ...  $229,000.00   $229,000.00 \n",
              "\n",
              "[5 rows x 27 columns]"
            ]
          },
          "metadata": {
            "tags": []
          },
          "execution_count": 5
        }
      ]
    },
    {
      "cell_type": "code",
      "metadata": {
        "id": "oaA1Irg2VQjL",
        "outputId": "eab5e60f-14c1-4bec-f751-f197744139c0",
        "colab": {
          "base_uri": "https://localhost:8080/",
          "height": 52
        }
      },
      "source": [
        "df.shape"
      ],
      "execution_count": null,
      "outputs": [
        {
          "output_type": "execute_result",
          "data": {
            "text/plain": [
              "(899164, 27)"
            ]
          },
          "metadata": {
            "tags": []
          },
          "execution_count": 6
        }
      ]
    },
    {
      "cell_type": "markdown",
      "metadata": {
        "id": "ztw-pMuaesxI"
      },
      "source": [
        "Show the 10 most occuring borrower cities."
      ]
    },
    {
      "cell_type": "code",
      "metadata": {
        "id": "kgcfW4JnVwA8",
        "outputId": "4649966d-17d0-4c34-c41d-4bb256ccdfaa",
        "colab": {
          "base_uri": "https://localhost:8080/",
          "height": 217
        }
      },
      "source": [
        "df['City'].value_counts()[:10]"
      ],
      "execution_count": null,
      "outputs": [
        {
          "output_type": "execute_result",
          "data": {
            "text/plain": [
              "LOS ANGELES    11558\n",
              "HOUSTON        10247\n",
              "NEW YORK        7846\n",
              "CHICAGO         6036\n",
              "MIAMI           5594\n",
              "SAN DIEGO       5363\n",
              "DALLAS          5085\n",
              "PHOENIX         4493\n",
              "LAS VEGAS       4390\n",
              "SPRINGFIELD     3738\n",
              "Name: City, dtype: int64"
            ]
          },
          "metadata": {
            "tags": []
          },
          "execution_count": 7
        }
      ]
    },
    {
      "cell_type": "markdown",
      "metadata": {
        "id": "eDaG8bUFe4iT"
      },
      "source": [
        "There are 51 borrower states (50 states + Washington, D.C.) total."
      ]
    },
    {
      "cell_type": "code",
      "metadata": {
        "id": "8RTP9p-kV1a4",
        "outputId": "fa7c063c-b8b5-49cb-9485-a31ff17ff90d",
        "colab": {
          "base_uri": "https://localhost:8080/",
          "height": 52
        }
      },
      "source": [
        "df['State'].nunique()"
      ],
      "execution_count": null,
      "outputs": [
        {
          "output_type": "execute_result",
          "data": {
            "text/plain": [
              "51"
            ]
          },
          "metadata": {
            "tags": []
          },
          "execution_count": 8
        }
      ]
    },
    {
      "cell_type": "code",
      "metadata": {
        "id": "HgWpykQPV8h5",
        "outputId": "0dae1356-1fd2-437a-cf9d-484d027bb023",
        "colab": {
          "base_uri": "https://localhost:8080/",
          "height": 892
        }
      },
      "source": [
        "df['State'].value_counts()"
      ],
      "execution_count": null,
      "outputs": [
        {
          "output_type": "execute_result",
          "data": {
            "text/plain": [
              "CA    130619\n",
              "TX     70458\n",
              "NY     57693\n",
              "FL     41212\n",
              "PA     35170\n",
              "OH     32622\n",
              "IL     29669\n",
              "MA     25272\n",
              "MN     24373\n",
              "NJ     24035\n",
              "WA     23263\n",
              "GA     22277\n",
              "WI     21040\n",
              "MO     20678\n",
              "CO     20605\n",
              "MI     20545\n",
              "UT     18776\n",
              "AZ     17631\n",
              "NC     14294\n",
              "IN     14132\n",
              "MD     13269\n",
              "VA     13264\n",
              "CT     12229\n",
              "NH     12109\n",
              "IA     11996\n",
              "KS     11464\n",
              "OR     11051\n",
              "OK      9950\n",
              "LA      9576\n",
              "ID      9498\n",
              "TN      9403\n",
              "RI      9028\n",
              "MT      8749\n",
              "AL      8362\n",
              "NV      8024\n",
              "KY      7723\n",
              "MS      7686\n",
              "NE      6386\n",
              "AR      6341\n",
              "NM      6033\n",
              "ME      5944\n",
              "SC      5597\n",
              "VT      5454\n",
              "ND      5245\n",
              "SD      4431\n",
              "HI      3610\n",
              "WV      3287\n",
              "WY      2839\n",
              "AK      2405\n",
              "DE      2220\n",
              "DC      1613\n",
              "Name: State, dtype: int64"
            ]
          },
          "metadata": {
            "tags": []
          },
          "execution_count": 9
        }
      ]
    },
    {
      "cell_type": "markdown",
      "metadata": {
        "id": "qdUgy9pPfD4I"
      },
      "source": [
        "Find the 10 most occurring borrower zipcodes."
      ]
    },
    {
      "cell_type": "code",
      "metadata": {
        "id": "PfDmo-wIWB0L",
        "outputId": "a6465373-0742-418d-d056-bc5190066c6d",
        "colab": {
          "base_uri": "https://localhost:8080/",
          "height": 217
        }
      },
      "source": [
        "df['Zip'].value_counts()[:10]"
      ],
      "execution_count": null,
      "outputs": [
        {
          "output_type": "execute_result",
          "data": {
            "text/plain": [
              "10001    933\n",
              "90015    926\n",
              "93401    806\n",
              "90010    733\n",
              "33166    671\n",
              "90021    666\n",
              "59601    640\n",
              "65804    599\n",
              "3801     581\n",
              "59101    578\n",
              "Name: Zip, dtype: int64"
            ]
          },
          "metadata": {
            "tags": []
          },
          "execution_count": 10
        }
      ]
    },
    {
      "cell_type": "markdown",
      "metadata": {
        "id": "UamVPXrAfI-h"
      },
      "source": [
        "Find the 10 banks that gave out the highest number of small business loans."
      ]
    },
    {
      "cell_type": "code",
      "metadata": {
        "id": "_33GcboEWVSR",
        "outputId": "63122b2f-3aca-4c7a-e7e8-d367a59832ad",
        "colab": {
          "base_uri": "https://localhost:8080/",
          "height": 217
        }
      },
      "source": [
        "df['Bank'].value_counts()[:10]"
      ],
      "execution_count": null,
      "outputs": [
        {
          "output_type": "execute_result",
          "data": {
            "text/plain": [
              "BANK OF AMERICA NATL ASSOC        86853\n",
              "WELLS FARGO BANK NATL ASSOC       63503\n",
              "JPMORGAN CHASE BANK NATL ASSOC    48167\n",
              "U.S. BANK NATIONAL ASSOCIATION    35143\n",
              "CITIZENS BANK NATL ASSOC          35054\n",
              "PNC BANK, NATIONAL ASSOCIATION    27351\n",
              "BBCN BANK                         22978\n",
              "CAPITAL ONE NATL ASSOC            22248\n",
              "MANUFACTURERS & TRADERS TR CO     11265\n",
              "READYCAP LENDING, LLC             10664\n",
              "Name: Bank, dtype: int64"
            ]
          },
          "metadata": {
            "tags": []
          },
          "execution_count": 11
        }
      ]
    },
    {
      "cell_type": "markdown",
      "metadata": {
        "id": "dK58SwRqfVGH"
      },
      "source": [
        "There are 56 bank states."
      ]
    },
    {
      "cell_type": "code",
      "metadata": {
        "id": "S6gKqeHaWfSW",
        "outputId": "cbff4e8f-683f-4b21-9230-e833772cfaf5",
        "colab": {
          "base_uri": "https://localhost:8080/",
          "height": 52
        }
      },
      "source": [
        "df['BankState'].nunique()"
      ],
      "execution_count": null,
      "outputs": [
        {
          "output_type": "execute_result",
          "data": {
            "text/plain": [
              "56"
            ]
          },
          "metadata": {
            "tags": []
          },
          "execution_count": 12
        }
      ]
    },
    {
      "cell_type": "markdown",
      "metadata": {
        "id": "MY_PwHJDfgX0"
      },
      "source": [
        "The 6 additional states include Washington, D.C. (DC), Puerto Rico (PR), Guam (GU), **?** (EN), U.S. Virgin Islands (VI), and **?** (AN)."
      ]
    },
    {
      "cell_type": "code",
      "metadata": {
        "id": "wq_KQouTfd5o",
        "outputId": "48ceb311-e623-44cb-8f8e-e12664b3c584",
        "colab": {
          "base_uri": "https://localhost:8080/",
          "height": 975
        }
      },
      "source": [
        "df['BankState'].value_counts()"
      ],
      "execution_count": null,
      "outputs": [
        {
          "output_type": "execute_result",
          "data": {
            "text/plain": [
              "CA    118116\n",
              "NC     79514\n",
              "IL     65908\n",
              "OH     58461\n",
              "SD     51095\n",
              "TX     47790\n",
              "RI     45366\n",
              "NY     39592\n",
              "VA     29002\n",
              "DE     24537\n",
              "MN     19960\n",
              "UT     18997\n",
              "PA     17081\n",
              "WI     15416\n",
              "MO     14861\n",
              "MA     13913\n",
              "GA     13812\n",
              "FL     13810\n",
              "AL     12134\n",
              "OR     11374\n",
              "WA     10693\n",
              "CO     10582\n",
              "CT      9917\n",
              "IA      9866\n",
              "NJ      9436\n",
              "KS      8876\n",
              "MT      7860\n",
              "IN      7623\n",
              "SC      7472\n",
              "MI      7369\n",
              "OK      7326\n",
              "MD      7016\n",
              "NH      6807\n",
              "AR      6322\n",
              "MS      5942\n",
              "TN      5620\n",
              "NE      5337\n",
              "ND      5113\n",
              "LA      5062\n",
              "VT      4757\n",
              "NM      4422\n",
              "KY      4382\n",
              "NV      4325\n",
              "ID      4314\n",
              "DC      4003\n",
              "AZ      3957\n",
              "ME      3691\n",
              "HI      2991\n",
              "WY      2168\n",
              "WV      2007\n",
              "AK      1439\n",
              "PR       156\n",
              "GU         5\n",
              "EN         1\n",
              "AN         1\n",
              "VI         1\n",
              "Name: BankState, dtype: int64"
            ]
          },
          "metadata": {
            "tags": []
          },
          "execution_count": 13
        }
      ]
    },
    {
      "cell_type": "markdown",
      "metadata": {
        "id": "JyXkJH4AXLiI"
      },
      "source": [
        "Removing `AN` and `EN` becuase they are not states."
      ]
    },
    {
      "cell_type": "code",
      "metadata": {
        "id": "gPOalj1LBKHR"
      },
      "source": [
        "indextodrop = df[(df['BankState'] == 'AN') | (df['BankState'] == 'EN')].index"
      ],
      "execution_count": null,
      "outputs": []
    },
    {
      "cell_type": "code",
      "metadata": {
        "id": "v-eO9hikSzYv"
      },
      "source": [
        "df.drop(indextodrop, inplace=True)"
      ],
      "execution_count": null,
      "outputs": []
    },
    {
      "cell_type": "code",
      "metadata": {
        "id": "0x2H1L08ETO6",
        "outputId": "539d2c35-aa8f-478c-a031-abefd6e030f6",
        "colab": {
          "base_uri": "https://localhost:8080/",
          "height": 52
        }
      },
      "source": [
        "df['BankState'].nunique()"
      ],
      "execution_count": null,
      "outputs": [
        {
          "output_type": "execute_result",
          "data": {
            "text/plain": [
              "54"
            ]
          },
          "metadata": {
            "tags": []
          },
          "execution_count": 16
        }
      ]
    },
    {
      "cell_type": "markdown",
      "metadata": {
        "id": "QKANcuDzg5fg"
      },
      "source": [
        "`NAICS` is the North American industry classification system code. The sector can be determined by the first two digits of this code. (For example, codes that start with 23 belong to the construction sector.) We can potentially create a new column later with sectors based on this code. There are 1312 unique NAICS codes. 0 is the most entered code, with 722110 (accommodation and food services) being second."
      ]
    },
    {
      "cell_type": "code",
      "metadata": {
        "id": "bcRgP6leW3FH",
        "outputId": "538d29d6-26c3-4030-d196-6c9e6fd975c1",
        "colab": {
          "base_uri": "https://localhost:8080/",
          "height": 52
        }
      },
      "source": [
        "df['NAICS'].nunique()"
      ],
      "execution_count": null,
      "outputs": [
        {
          "output_type": "execute_result",
          "data": {
            "text/plain": [
              "1312"
            ]
          },
          "metadata": {
            "tags": []
          },
          "execution_count": 17
        }
      ]
    },
    {
      "cell_type": "code",
      "metadata": {
        "id": "Y__AIaofW5eT",
        "outputId": "d4243c0d-0208-4ed2-cf17-d7da10e7bcf4",
        "colab": {
          "base_uri": "https://localhost:8080/",
          "height": 217
        }
      },
      "source": [
        "df['NAICS'].value_counts()[:10]"
      ],
      "execution_count": null,
      "outputs": [
        {
          "output_type": "execute_result",
          "data": {
            "text/plain": [
              "0         201947\n",
              "722110     27989\n",
              "722211     19448\n",
              "811111     14585\n",
              "621210     14048\n",
              "624410     10111\n",
              "812112      9230\n",
              "561730      8935\n",
              "621310      8733\n",
              "812320      7894\n",
              "Name: NAICS, dtype: int64"
            ]
          },
          "metadata": {
            "tags": []
          },
          "execution_count": 18
        }
      ]
    },
    {
      "cell_type": "markdown",
      "metadata": {
        "id": "wUmmpDqXh_cG"
      },
      "source": [
        "Next we want to look at the approval date, so to get statistics we have to convert this to a datetime to make things easier."
      ]
    },
    {
      "cell_type": "code",
      "metadata": {
        "id": "GcJ5MQipXLgN",
        "outputId": "f20c0e6c-e4db-4ed9-c3ca-35a42dce6df7",
        "colab": {
          "base_uri": "https://localhost:8080/",
          "height": 497
        }
      },
      "source": [
        "df.dtypes"
      ],
      "execution_count": null,
      "outputs": [
        {
          "output_type": "execute_result",
          "data": {
            "text/plain": [
              "LoanNr_ChkDgt          int64\n",
              "Name                  object\n",
              "City                  object\n",
              "State                 object\n",
              "Zip                    int64\n",
              "Bank                  object\n",
              "BankState             object\n",
              "NAICS                  int64\n",
              "ApprovalDate          object\n",
              "ApprovalFY            object\n",
              "Term                   int64\n",
              "NoEmp                  int64\n",
              "NewExist             float64\n",
              "CreateJob              int64\n",
              "RetainedJob            int64\n",
              "FranchiseCode          int64\n",
              "UrbanRural             int64\n",
              "RevLineCr             object\n",
              "LowDoc                object\n",
              "ChgOffDate            object\n",
              "DisbursementDate      object\n",
              "DisbursementGross     object\n",
              "BalanceGross          object\n",
              "MIS_Status            object\n",
              "ChgOffPrinGr          object\n",
              "GrAppv                object\n",
              "SBA_Appv              object\n",
              "dtype: object"
            ]
          },
          "metadata": {
            "tags": []
          },
          "execution_count": 19
        }
      ]
    },
    {
      "cell_type": "code",
      "metadata": {
        "id": "pvRkz8WVXF3w"
      },
      "source": [
        "df['ApprovalDate'] = pd.to_datetime(df['ApprovalDate'])"
      ],
      "execution_count": null,
      "outputs": []
    },
    {
      "cell_type": "markdown",
      "metadata": {
        "id": "5Go6ljYziIrA"
      },
      "source": [
        "The first approval date in this dataset occurred in February of 1970 with the last one occurring in 2069."
      ]
    },
    {
      "cell_type": "code",
      "metadata": {
        "id": "FePKdk6TXUcK",
        "outputId": "40b3ce03-94c0-4f88-8fdb-4d92d829af52",
        "colab": {
          "base_uri": "https://localhost:8080/",
          "height": 184
        }
      },
      "source": [
        "df['ApprovalDate'].describe()"
      ],
      "execution_count": null,
      "outputs": [
        {
          "output_type": "stream",
          "text": [
            "/usr/local/lib/python3.6/dist-packages/ipykernel_launcher.py:1: FutureWarning: Treating datetime data as categorical rather than numeric in `.describe` is deprecated and will be removed in a future version of pandas. Specify `datetime_is_numeric=True` to silence this warning and adopt the future behavior now.\n",
            "  \"\"\"Entry point for launching an IPython kernel.\n"
          ],
          "name": "stderr"
        },
        {
          "output_type": "execute_result",
          "data": {
            "text/plain": [
              "count                  899162\n",
              "unique                   9859\n",
              "top       1993-07-07 00:00:00\n",
              "freq                     1131\n",
              "first     1970-02-11 00:00:00\n",
              "last      2069-10-13 00:00:00\n",
              "Name: ApprovalDate, dtype: object"
            ]
          },
          "metadata": {
            "tags": []
          },
          "execution_count": 21
        }
      ]
    },
    {
      "cell_type": "markdown",
      "metadata": {
        "id": "wmHJWZviiaN0"
      },
      "source": [
        "We removed all `ApprovalDate`s after 2020"
      ]
    },
    {
      "cell_type": "code",
      "metadata": {
        "id": "TsdeGoDT5Atg",
        "outputId": "4674d956-d2c0-44b3-b230-e8d150caddd6",
        "colab": {
          "base_uri": "https://localhost:8080/",
          "height": 52
        }
      },
      "source": [
        "sum(df['ApprovalDate'].dt.year > 2020)"
      ],
      "execution_count": null,
      "outputs": [
        {
          "output_type": "execute_result",
          "data": {
            "text/plain": [
              "13"
            ]
          },
          "metadata": {
            "tags": []
          },
          "execution_count": 22
        }
      ]
    },
    {
      "cell_type": "code",
      "metadata": {
        "id": "M9JSD9yHC1zQ"
      },
      "source": [
        "df = df[(df['ApprovalDate'].dt.year <= 2020)]"
      ],
      "execution_count": null,
      "outputs": []
    },
    {
      "cell_type": "code",
      "metadata": {
        "id": "W91GDnb7E04N",
        "outputId": "ba263437-ada0-4dda-accf-f9cebfe43e9f",
        "colab": {
          "base_uri": "https://localhost:8080/",
          "height": 184
        }
      },
      "source": [
        "df['ApprovalDate'].describe()"
      ],
      "execution_count": null,
      "outputs": [
        {
          "output_type": "stream",
          "text": [
            "/usr/local/lib/python3.6/dist-packages/ipykernel_launcher.py:1: FutureWarning: Treating datetime data as categorical rather than numeric in `.describe` is deprecated and will be removed in a future version of pandas. Specify `datetime_is_numeric=True` to silence this warning and adopt the future behavior now.\n",
            "  \"\"\"Entry point for launching an IPython kernel.\n"
          ],
          "name": "stderr"
        },
        {
          "output_type": "execute_result",
          "data": {
            "text/plain": [
              "count                  899149\n",
              "unique                   9846\n",
              "top       1993-07-07 00:00:00\n",
              "freq                     1131\n",
              "first     1970-02-11 00:00:00\n",
              "last      2014-06-25 00:00:00\n",
              "Name: ApprovalDate, dtype: object"
            ]
          },
          "metadata": {
            "tags": []
          },
          "execution_count": 24
        }
      ]
    },
    {
      "cell_type": "code",
      "metadata": {
        "id": "W_SuVgU-XrSx",
        "outputId": "6eb046cb-f896-41be-a54f-308f992834d8",
        "colab": {
          "base_uri": "https://localhost:8080/",
          "height": 118
        }
      },
      "source": [
        "df['ApprovalFY'].describe()"
      ],
      "execution_count": null,
      "outputs": [
        {
          "output_type": "execute_result",
          "data": {
            "text/plain": [
              "count     899149\n",
              "unique        62\n",
              "top         2006\n",
              "freq       76040\n",
              "Name: ApprovalFY, dtype: int64"
            ]
          },
          "metadata": {
            "tags": []
          },
          "execution_count": 25
        }
      ]
    },
    {
      "cell_type": "markdown",
      "metadata": {
        "id": "NGmD3tUdjSvc"
      },
      "source": [
        "`Term` refers to the loan term in months. The mean is 110.8 months, the minimum is 0 months, the median is 84 months, and the maximum is 569 months."
      ]
    },
    {
      "cell_type": "code",
      "metadata": {
        "id": "42mdTY-XX-UF",
        "outputId": "ee412dc3-f7fb-4d7c-93cb-6fbb16257b13",
        "colab": {
          "base_uri": "https://localhost:8080/",
          "height": 184
        }
      },
      "source": [
        "df['Term'].describe()"
      ],
      "execution_count": null,
      "outputs": [
        {
          "output_type": "execute_result",
          "data": {
            "text/plain": [
              "count    899149.00000\n",
              "mean        110.77230\n",
              "std          78.85682\n",
              "min           0.00000\n",
              "25%          60.00000\n",
              "50%          84.00000\n",
              "75%         120.00000\n",
              "max         569.00000\n",
              "Name: Term, dtype: float64"
            ]
          },
          "metadata": {
            "tags": []
          },
          "execution_count": 26
        }
      ]
    },
    {
      "cell_type": "markdown",
      "metadata": {
        "id": "G9u4bYrLjeWY"
      },
      "source": [
        "`NoEmp` refers to the number of employees."
      ]
    },
    {
      "cell_type": "code",
      "metadata": {
        "id": "_C6wB0q1YHVH",
        "outputId": "a5b38e8f-7315-4290-d1c5-b9f8cb67c3d7",
        "colab": {
          "base_uri": "https://localhost:8080/",
          "height": 184
        }
      },
      "source": [
        "df['NoEmp'].describe()"
      ],
      "execution_count": null,
      "outputs": [
        {
          "output_type": "execute_result",
          "data": {
            "text/plain": [
              "count    899149.000000\n",
              "mean         11.411169\n",
              "std          74.108675\n",
              "min           0.000000\n",
              "25%           2.000000\n",
              "50%           4.000000\n",
              "75%          10.000000\n",
              "max        9999.000000\n",
              "Name: NoEmp, dtype: float64"
            ]
          },
          "metadata": {
            "tags": []
          },
          "execution_count": 27
        }
      ]
    },
    {
      "cell_type": "markdown",
      "metadata": {
        "id": "inCwTTiZjkm8"
      },
      "source": [
        "`NewExist` refers to whether the business is an existing business (1) or a new business (2)."
      ]
    },
    {
      "cell_type": "code",
      "metadata": {
        "id": "cEomO8GvYXqi",
        "outputId": "26d2f9ad-69bc-45f2-acac-65cd9d36b390",
        "colab": {
          "base_uri": "https://localhost:8080/",
          "height": 102
        }
      },
      "source": [
        "df['NewExist'].value_counts()"
      ],
      "execution_count": null,
      "outputs": [
        {
          "output_type": "execute_result",
          "data": {
            "text/plain": [
              "1.0    644866\n",
              "2.0    253123\n",
              "0.0      1024\n",
              "Name: NewExist, dtype: int64"
            ]
          },
          "metadata": {
            "tags": []
          },
          "execution_count": 28
        }
      ]
    },
    {
      "cell_type": "markdown",
      "metadata": {
        "id": "ke-yDIXPXcex"
      },
      "source": [
        "Removing values associated with `0.0`"
      ]
    },
    {
      "cell_type": "code",
      "metadata": {
        "id": "DBvOIzTpFVMS"
      },
      "source": [
        "df = df[df['NewExist'] != 0]"
      ],
      "execution_count": null,
      "outputs": []
    },
    {
      "cell_type": "code",
      "metadata": {
        "id": "Ugbfls7xF9CG",
        "outputId": "0d2f0f0c-339b-48ab-8f52-53300533aff3",
        "colab": {
          "base_uri": "https://localhost:8080/",
          "height": 85
        }
      },
      "source": [
        "df['NewExist'].value_counts()"
      ],
      "execution_count": null,
      "outputs": [
        {
          "output_type": "execute_result",
          "data": {
            "text/plain": [
              "1.0    644866\n",
              "2.0    253123\n",
              "Name: NewExist, dtype: int64"
            ]
          },
          "metadata": {
            "tags": []
          },
          "execution_count": 30
        }
      ]
    },
    {
      "cell_type": "markdown",
      "metadata": {
        "id": "QEIkoxa7j4SL"
      },
      "source": [
        "`CreateJob` refers to the number of jobs created."
      ]
    },
    {
      "cell_type": "code",
      "metadata": {
        "id": "6VQaL1G1Yjus",
        "outputId": "c373cf58-c8f6-4aa1-de0a-6a595dbb8046",
        "colab": {
          "base_uri": "https://localhost:8080/",
          "height": 184
        }
      },
      "source": [
        "df['CreateJob'].describe()"
      ],
      "execution_count": null,
      "outputs": [
        {
          "output_type": "execute_result",
          "data": {
            "text/plain": [
              "count    898125.000000\n",
              "mean          8.404199\n",
              "std         236.256511\n",
              "min           0.000000\n",
              "25%           0.000000\n",
              "50%           0.000000\n",
              "75%           1.000000\n",
              "max        8800.000000\n",
              "Name: CreateJob, dtype: float64"
            ]
          },
          "metadata": {
            "tags": []
          },
          "execution_count": 31
        }
      ]
    },
    {
      "cell_type": "code",
      "metadata": {
        "id": "RvgNDr8G5hPq",
        "outputId": "83e89f41-9ff9-4777-c75d-8c2307437856",
        "colab": {
          "base_uri": "https://localhost:8080/",
          "height": 69
        }
      },
      "source": [
        "df['CreateJob'].plot( kind = 'hist')"
      ],
      "execution_count": null,
      "outputs": [
        {
          "output_type": "execute_result",
          "data": {
            "text/plain": [
              "<matplotlib.axes._subplots.AxesSubplot at 0x7fbe776bca90>"
            ]
          },
          "metadata": {
            "tags": []
          },
          "execution_count": 32
        },
        {
          "output_type": "display_data",
          "data": {
            "image/png": "[encoded data removed]",
            "text/plain": [
              "<Figure size 432x288 with 1 Axes>"
            ]
          },
          "metadata": {
            "tags": [],
            "needs_background": "light"
          }
        }
      ]
    },
    {
      "cell_type": "markdown",
      "metadata": {
        "id": "wfVZ4IdHkYRE"
      },
      "source": [
        "`RetainedJob` refers to the number of jobs retained."
      ]
    },
    {
      "cell_type": "code",
      "metadata": {
        "id": "FLB6o4xdYmsg",
        "outputId": "e72ee580-ca5d-4af2-ee2d-c8b5cd219194",
        "colab": {
          "base_uri": "https://localhost:8080/",
          "height": 184
        }
      },
      "source": [
        "df['RetainedJob'].describe()"
      ],
      "execution_count": null,
      "outputs": [
        {
          "output_type": "execute_result",
          "data": {
            "text/plain": [
              "count    898125.000000\n",
              "mean         10.777277\n",
              "std         236.712846\n",
              "min           0.000000\n",
              "25%           0.000000\n",
              "50%           1.000000\n",
              "75%           4.000000\n",
              "max        9500.000000\n",
              "Name: RetainedJob, dtype: float64"
            ]
          },
          "metadata": {
            "tags": []
          },
          "execution_count": 33
        }
      ]
    },
    {
      "cell_type": "markdown",
      "metadata": {
        "id": "N_4UN6NYkj3h"
      },
      "source": [
        "0 and 1 both mean not a franchise."
      ]
    },
    {
      "cell_type": "code",
      "metadata": {
        "id": "zmy9wvAJYwQU",
        "outputId": "671a7dd6-6ff3-4323-cabc-841be6a577f8",
        "colab": {
          "base_uri": "https://localhost:8080/",
          "height": 217
        }
      },
      "source": [
        "df['FranchiseCode'].value_counts()[:10]"
      ],
      "execution_count": null,
      "outputs": [
        {
          "output_type": "execute_result",
          "data": {
            "text/plain": [
              "1        637648\n",
              "0        208775\n",
              "78760      3364\n",
              "68020      1918\n",
              "50564      1032\n",
              "21780      1001\n",
              "25650       714\n",
              "79140       659\n",
              "22470       614\n",
              "17998       606\n",
              "Name: FranchiseCode, dtype: int64"
            ]
          },
          "metadata": {
            "tags": []
          },
          "execution_count": 34
        }
      ]
    },
    {
      "cell_type": "markdown",
      "metadata": {
        "id": "engBZk_kkqsT"
      },
      "source": [
        "`UrbanRural` refers to if the small business is located in an urban or rural location. `1` means urban, `2` means rural, while `0` means undefined."
      ]
    },
    {
      "cell_type": "code",
      "metadata": {
        "id": "SZhEAhVOY5V4",
        "outputId": "c5269270-4e1e-4328-971c-fab17732af90",
        "colab": {
          "base_uri": "https://localhost:8080/",
          "height": 102
        }
      },
      "source": [
        "df['UrbanRural'].value_counts()"
      ],
      "execution_count": null,
      "outputs": [
        {
          "output_type": "execute_result",
          "data": {
            "text/plain": [
              "1    470290\n",
              "0    322649\n",
              "2    105186\n",
              "Name: UrbanRural, dtype: int64"
            ]
          },
          "metadata": {
            "tags": []
          },
          "execution_count": 35
        }
      ]
    },
    {
      "cell_type": "markdown",
      "metadata": {
        "id": "X8VqpUgmk8H9"
      },
      "source": [
        "`RevLineCr` means revolving line of credit. `Y` means yes and `N` means no."
      ]
    },
    {
      "cell_type": "code",
      "metadata": {
        "id": "YPygB7OXY7Ww",
        "outputId": "601b81d6-e337-4e35-b0dd-2efcf7518fe8",
        "colab": {
          "base_uri": "https://localhost:8080/",
          "height": 349
        }
      },
      "source": [
        "df['RevLineCr'].value_counts()"
      ],
      "execution_count": null,
      "outputs": [
        {
          "output_type": "execute_result",
          "data": {
            "text/plain": [
              "N    419348\n",
              "0    257546\n",
              "Y    201364\n",
              "T     15278\n",
              "1        22\n",
              "R        14\n",
              "`        11\n",
              "2         6\n",
              "C         2\n",
              ",         1\n",
              "A         1\n",
              "3         1\n",
              "4         1\n",
              "7         1\n",
              ".         1\n",
              "-         1\n",
              "Q         1\n",
              "5         1\n",
              "Name: RevLineCr, dtype: int64"
            ]
          },
          "metadata": {
            "tags": []
          },
          "execution_count": 36
        }
      ]
    },
    {
      "cell_type": "markdown",
      "metadata": {
        "id": "oM7fu80RlKxx"
      },
      "source": [
        "`LowDoc` refers to the LowDoc loan program. `Y` means yes and `N` means no."
      ]
    },
    {
      "cell_type": "code",
      "metadata": {
        "id": "v5JHPzc6ZIae",
        "outputId": "da674934-75ac-43ec-e625-7097dc40efdb",
        "colab": {
          "base_uri": "https://localhost:8080/",
          "height": 184
        }
      },
      "source": [
        "df['LowDoc'].value_counts()"
      ],
      "execution_count": null,
      "outputs": [
        {
          "output_type": "execute_result",
          "data": {
            "text/plain": [
              "N    781913\n",
              "Y    110210\n",
              "0      1490\n",
              "C       754\n",
              "S       603\n",
              "A       497\n",
              "R        75\n",
              "1         1\n",
              "Name: LowDoc, dtype: int64"
            ]
          },
          "metadata": {
            "tags": []
          },
          "execution_count": 37
        }
      ]
    },
    {
      "cell_type": "markdown",
      "metadata": {
        "id": "AOEFF0OplV8H"
      },
      "source": [
        "Next we want to analyze `ChgOffDate` so we want to convert this to a datetime. It is the date when a loan is declared to be in default."
      ]
    },
    {
      "cell_type": "code",
      "metadata": {
        "id": "El6I5vcLaVZ9",
        "outputId": "2e2519ae-95ea-47b6-fed4-5735a2c9dd28",
        "colab": {
          "base_uri": "https://localhost:8080/",
          "height": 497
        }
      },
      "source": [
        "df.dtypes"
      ],
      "execution_count": null,
      "outputs": [
        {
          "output_type": "execute_result",
          "data": {
            "text/plain": [
              "LoanNr_ChkDgt                 int64\n",
              "Name                         object\n",
              "City                         object\n",
              "State                        object\n",
              "Zip                           int64\n",
              "Bank                         object\n",
              "BankState                    object\n",
              "NAICS                         int64\n",
              "ApprovalDate         datetime64[ns]\n",
              "ApprovalFY                   object\n",
              "Term                          int64\n",
              "NoEmp                         int64\n",
              "NewExist                    float64\n",
              "CreateJob                     int64\n",
              "RetainedJob                   int64\n",
              "FranchiseCode                 int64\n",
              "UrbanRural                    int64\n",
              "RevLineCr                    object\n",
              "LowDoc                       object\n",
              "ChgOffDate                   object\n",
              "DisbursementDate             object\n",
              "DisbursementGross            object\n",
              "BalanceGross                 object\n",
              "MIS_Status                   object\n",
              "ChgOffPrinGr                 object\n",
              "GrAppv                       object\n",
              "SBA_Appv                     object\n",
              "dtype: object"
            ]
          },
          "metadata": {
            "tags": []
          },
          "execution_count": 38
        }
      ]
    },
    {
      "cell_type": "code",
      "metadata": {
        "id": "VTemAl5xaXnO"
      },
      "source": [
        "df['ChgOffDate'] = pd.to_datetime(df['ChgOffDate'])"
      ],
      "execution_count": null,
      "outputs": []
    },
    {
      "cell_type": "code",
      "metadata": {
        "id": "x4e7pYuXZL7G",
        "outputId": "31583406-950c-4531-fba8-dffc3e404ec5",
        "colab": {
          "base_uri": "https://localhost:8080/",
          "height": 52
        }
      },
      "source": [
        "df['ChgOffDate'].nunique()"
      ],
      "execution_count": null,
      "outputs": [
        {
          "output_type": "execute_result",
          "data": {
            "text/plain": [
              "6445"
            ]
          },
          "metadata": {
            "tags": []
          },
          "execution_count": 40
        }
      ]
    },
    {
      "cell_type": "markdown",
      "metadata": {
        "id": "-TdBXHbEli7-"
      },
      "source": [
        "The first default occured in 1988 and the last one occurred in 2026."
      ]
    },
    {
      "cell_type": "code",
      "metadata": {
        "id": "JHAFgmqiZ4qy",
        "outputId": "7050be7c-8f7a-4e38-af8d-0ddb6ceec671",
        "colab": {
          "base_uri": "https://localhost:8080/",
          "height": 184
        }
      },
      "source": [
        "df['ChgOffDate'].describe()"
      ],
      "execution_count": null,
      "outputs": [
        {
          "output_type": "stream",
          "text": [
            "/usr/local/lib/python3.6/dist-packages/ipykernel_launcher.py:1: FutureWarning: Treating datetime data as categorical rather than numeric in `.describe` is deprecated and will be removed in a future version of pandas. Specify `datetime_is_numeric=True` to silence this warning and adopt the future behavior now.\n",
            "  \"\"\"Entry point for launching an IPython kernel.\n"
          ],
          "name": "stderr"
        },
        {
          "output_type": "execute_result",
          "data": {
            "text/plain": [
              "count                  162622\n",
              "unique                   6445\n",
              "top       2010-03-13 00:00:00\n",
              "freq                      734\n",
              "first     1988-10-03 00:00:00\n",
              "last      2026-10-22 00:00:00\n",
              "Name: ChgOffDate, dtype: object"
            ]
          },
          "metadata": {
            "tags": []
          },
          "execution_count": 41
        }
      ]
    },
    {
      "cell_type": "code",
      "metadata": {
        "id": "t0QWxZEEaLoz"
      },
      "source": [
        "df['DisbursementDate'] = pd.to_datetime(df['DisbursementDate'])"
      ],
      "execution_count": null,
      "outputs": []
    },
    {
      "cell_type": "markdown",
      "metadata": {
        "id": "lEiQThcXlz5x"
      },
      "source": [
        "As we can see again, the last disbursement date occurs in 2048."
      ]
    },
    {
      "cell_type": "code",
      "metadata": {
        "id": "d98KTt1vbCWn",
        "outputId": "fc332e71-52d8-43a2-84ba-90cc991aa45c",
        "colab": {
          "base_uri": "https://localhost:8080/",
          "height": 184
        }
      },
      "source": [
        "df['DisbursementDate'].describe()"
      ],
      "execution_count": null,
      "outputs": [
        {
          "output_type": "stream",
          "text": [
            "/usr/local/lib/python3.6/dist-packages/ipykernel_launcher.py:1: FutureWarning: Treating datetime data as categorical rather than numeric in `.describe` is deprecated and will be removed in a future version of pandas. Specify `datetime_is_numeric=True` to silence this warning and adopt the future behavior now.\n",
            "  \"\"\"Entry point for launching an IPython kernel.\n"
          ],
          "name": "stderr"
        },
        {
          "output_type": "execute_result",
          "data": {
            "text/plain": [
              "count                  895764\n",
              "unique                   8456\n",
              "top       1995-07-31 00:00:00\n",
              "freq                    10352\n",
              "first     1970-02-26 00:00:00\n",
              "last      2048-09-17 00:00:00\n",
              "Name: DisbursementDate, dtype: object"
            ]
          },
          "metadata": {
            "tags": []
          },
          "execution_count": 43
        }
      ]
    },
    {
      "cell_type": "code",
      "metadata": {
        "id": "2xMYVL8MYXN_",
        "outputId": "0db6ab9e-e8bc-4b30-e936-04dc11077fa9",
        "colab": {
          "base_uri": "https://localhost:8080/",
          "height": 52
        }
      },
      "source": [
        "sum(df['DisbursementDate'].dt.year > 2020)"
      ],
      "execution_count": null,
      "outputs": [
        {
          "output_type": "execute_result",
          "data": {
            "text/plain": [
              "2"
            ]
          },
          "metadata": {
            "tags": []
          },
          "execution_count": 44
        }
      ]
    },
    {
      "cell_type": "markdown",
      "metadata": {
        "id": "dRNQbEY5Yw1U"
      },
      "source": [
        "Removed values > 2020"
      ]
    },
    {
      "cell_type": "code",
      "metadata": {
        "id": "yYU6N_zLXxqb"
      },
      "source": [
        "df = df[(df['DisbursementDate'].dt.year <= 2020)]"
      ],
      "execution_count": null,
      "outputs": []
    },
    {
      "cell_type": "code",
      "metadata": {
        "id": "oVYkw5CDYEif",
        "outputId": "99809d9e-dcb9-4b2a-eac6-d368cac7a0ec",
        "colab": {
          "base_uri": "https://localhost:8080/",
          "height": 184
        }
      },
      "source": [
        "df['DisbursementDate'].describe()"
      ],
      "execution_count": null,
      "outputs": [
        {
          "output_type": "stream",
          "text": [
            "/usr/local/lib/python3.6/dist-packages/ipykernel_launcher.py:1: FutureWarning: Treating datetime data as categorical rather than numeric in `.describe` is deprecated and will be removed in a future version of pandas. Specify `datetime_is_numeric=True` to silence this warning and adopt the future behavior now.\n",
            "  \"\"\"Entry point for launching an IPython kernel.\n"
          ],
          "name": "stderr"
        },
        {
          "output_type": "execute_result",
          "data": {
            "text/plain": [
              "count                  895762\n",
              "unique                   8454\n",
              "top       1995-07-31 00:00:00\n",
              "freq                    10352\n",
              "first     1970-02-26 00:00:00\n",
              "last      2020-04-14 00:00:00\n",
              "Name: DisbursementDate, dtype: object"
            ]
          },
          "metadata": {
            "tags": []
          },
          "execution_count": 46
        }
      ]
    },
    {
      "cell_type": "markdown",
      "metadata": {
        "id": "20mzKEpcm6-3"
      },
      "source": [
        "`MIS_Status` refers to the loan status. `P I F` means paid in full while `CHGOFF` means charged off."
      ]
    },
    {
      "cell_type": "code",
      "metadata": {
        "id": "JBxS_3cLeEbr",
        "outputId": "076344cf-0cf4-4a9b-bd42-c6e5d757c0ec",
        "colab": {
          "base_uri": "https://localhost:8080/",
          "height": 85
        }
      },
      "source": [
        "df['MIS_Status'].value_counts()"
      ],
      "execution_count": null,
      "outputs": [
        {
          "output_type": "execute_result",
          "data": {
            "text/plain": [
              "P I F     736792\n",
              "CHGOFF    157166\n",
              "Name: MIS_Status, dtype: int64"
            ]
          },
          "metadata": {
            "tags": []
          },
          "execution_count": 47
        }
      ]
    },
    {
      "cell_type": "markdown",
      "metadata": {
        "id": "LZ75dXRMoDqL"
      },
      "source": [
        "As for the columns `DisbursementGross`, `ChgOffPrinGr`, `GrAppv`, and `SBA_Approv`, we will have to strip the dollar sign from it and convert these to floats to describe this data. This will be done in the next section."
      ]
    },
    {
      "cell_type": "markdown",
      "metadata": {
        "id": "X_4LQGdlUefp"
      },
      "source": [
        "# Cleaning the Data, Cont'd"
      ]
    },
    {
      "cell_type": "code",
      "metadata": {
        "id": "TY94_TqL4fxx",
        "outputId": "3a739554-28b9-40f9-bf44-9c6ecfab35eb",
        "colab": {
          "base_uri": "https://localhost:8080/",
          "height": 451
        }
      },
      "source": [
        "df.head()"
      ],
      "execution_count": null,
      "outputs": [
        {
          "output_type": "execute_result",
          "data": {
            "text/html": [
              "<div>\n",
              "<style scoped>\n",
              "    .dataframe tbody tr th:only-of-type {\n",
              "        vertical-align: middle;\n",
              "    }\n",
              "\n",
              "    .dataframe tbody tr th {\n",
              "        vertical-align: top;\n",
              "    }\n",
              "\n",
              "    .dataframe thead th {\n",
              "        text-align: right;\n",
              "    }\n",
              "</style>\n",
              "<table border=\"1\" class=\"dataframe\">\n",
              "  <thead>\n",
              "    <tr style=\"text-align: right;\">\n",
              "      <th></th>\n",
              "      <th>LoanNr_ChkDgt</th>\n",
              "      <th>Name</th>\n",
              "      <th>City</th>\n",
              "      <th>State</th>\n",
              "      <th>Zip</th>\n",
              "      <th>Bank</th>\n",
              "      <th>BankState</th>\n",
              "      <th>NAICS</th>\n",
              "      <th>ApprovalDate</th>\n",
              "      <th>ApprovalFY</th>\n",
              "      <th>Term</th>\n",
              "      <th>NoEmp</th>\n",
              "      <th>NewExist</th>\n",
              "      <th>CreateJob</th>\n",
              "      <th>RetainedJob</th>\n",
              "      <th>FranchiseCode</th>\n",
              "      <th>UrbanRural</th>\n",
              "      <th>RevLineCr</th>\n",
              "      <th>LowDoc</th>\n",
              "      <th>ChgOffDate</th>\n",
              "      <th>DisbursementDate</th>\n",
              "      <th>DisbursementGross</th>\n",
              "      <th>BalanceGross</th>\n",
              "      <th>MIS_Status</th>\n",
              "      <th>ChgOffPrinGr</th>\n",
              "      <th>GrAppv</th>\n",
              "      <th>SBA_Appv</th>\n",
              "    </tr>\n",
              "  </thead>\n",
              "  <tbody>\n",
              "    <tr>\n",
              "      <th>0</th>\n",
              "      <td>1000014003</td>\n",
              "      <td>ABC HOBBYCRAFT</td>\n",
              "      <td>EVANSVILLE</td>\n",
              "      <td>IN</td>\n",
              "      <td>47711</td>\n",
              "      <td>FIFTH THIRD BANK</td>\n",
              "      <td>OH</td>\n",
              "      <td>451120</td>\n",
              "      <td>1997-02-28</td>\n",
              "      <td>1997</td>\n",
              "      <td>84</td>\n",
              "      <td>4</td>\n",
              "      <td>2.0</td>\n",
              "      <td>0</td>\n",
              "      <td>0</td>\n",
              "      <td>1</td>\n",
              "      <td>0</td>\n",
              "      <td>N</td>\n",
              "      <td>Y</td>\n",
              "      <td>NaT</td>\n",
              "      <td>1999-02-28</td>\n",
              "      <td>$60,000.00</td>\n",
              "      <td>$0.00</td>\n",
              "      <td>P I F</td>\n",
              "      <td>$0.00</td>\n",
              "      <td>$60,000.00</td>\n",
              "      <td>$48,000.00</td>\n",
              "    </tr>\n",
              "    <tr>\n",
              "      <th>1</th>\n",
              "      <td>1000024006</td>\n",
              "      <td>LANDMARK BAR &amp; GRILLE (THE)</td>\n",
              "      <td>NEW PARIS</td>\n",
              "      <td>IN</td>\n",
              "      <td>46526</td>\n",
              "      <td>1ST SOURCE BANK</td>\n",
              "      <td>IN</td>\n",
              "      <td>722410</td>\n",
              "      <td>1997-02-28</td>\n",
              "      <td>1997</td>\n",
              "      <td>60</td>\n",
              "      <td>2</td>\n",
              "      <td>2.0</td>\n",
              "      <td>0</td>\n",
              "      <td>0</td>\n",
              "      <td>1</td>\n",
              "      <td>0</td>\n",
              "      <td>N</td>\n",
              "      <td>Y</td>\n",
              "      <td>NaT</td>\n",
              "      <td>1997-05-31</td>\n",
              "      <td>$40,000.00</td>\n",
              "      <td>$0.00</td>\n",
              "      <td>P I F</td>\n",
              "      <td>$0.00</td>\n",
              "      <td>$40,000.00</td>\n",
              "      <td>$32,000.00</td>\n",
              "    </tr>\n",
              "    <tr>\n",
              "      <th>2</th>\n",
              "      <td>1000034009</td>\n",
              "      <td>WHITLOCK DDS, TODD M.</td>\n",
              "      <td>BLOOMINGTON</td>\n",
              "      <td>IN</td>\n",
              "      <td>47401</td>\n",
              "      <td>GRANT COUNTY STATE BANK</td>\n",
              "      <td>IN</td>\n",
              "      <td>621210</td>\n",
              "      <td>1997-02-28</td>\n",
              "      <td>1997</td>\n",
              "      <td>180</td>\n",
              "      <td>7</td>\n",
              "      <td>1.0</td>\n",
              "      <td>0</td>\n",
              "      <td>0</td>\n",
              "      <td>1</td>\n",
              "      <td>0</td>\n",
              "      <td>N</td>\n",
              "      <td>N</td>\n",
              "      <td>NaT</td>\n",
              "      <td>1997-12-31</td>\n",
              "      <td>$287,000.00</td>\n",
              "      <td>$0.00</td>\n",
              "      <td>P I F</td>\n",
              "      <td>$0.00</td>\n",
              "      <td>$287,000.00</td>\n",
              "      <td>$215,250.00</td>\n",
              "    </tr>\n",
              "    <tr>\n",
              "      <th>3</th>\n",
              "      <td>1000044001</td>\n",
              "      <td>BIG BUCKS PAWN &amp; JEWELRY, LLC</td>\n",
              "      <td>BROKEN ARROW</td>\n",
              "      <td>OK</td>\n",
              "      <td>74012</td>\n",
              "      <td>1ST NATL BK &amp; TR CO OF BROKEN</td>\n",
              "      <td>OK</td>\n",
              "      <td>0</td>\n",
              "      <td>1997-02-28</td>\n",
              "      <td>1997</td>\n",
              "      <td>60</td>\n",
              "      <td>2</td>\n",
              "      <td>1.0</td>\n",
              "      <td>0</td>\n",
              "      <td>0</td>\n",
              "      <td>1</td>\n",
              "      <td>0</td>\n",
              "      <td>N</td>\n",
              "      <td>Y</td>\n",
              "      <td>NaT</td>\n",
              "      <td>1997-06-30</td>\n",
              "      <td>$35,000.00</td>\n",
              "      <td>$0.00</td>\n",
              "      <td>P I F</td>\n",
              "      <td>$0.00</td>\n",
              "      <td>$35,000.00</td>\n",
              "      <td>$28,000.00</td>\n",
              "    </tr>\n",
              "    <tr>\n",
              "      <th>4</th>\n",
              "      <td>1000054004</td>\n",
              "      <td>ANASTASIA CONFECTIONS, INC.</td>\n",
              "      <td>ORLANDO</td>\n",
              "      <td>FL</td>\n",
              "      <td>32801</td>\n",
              "      <td>FLORIDA BUS. DEVEL CORP</td>\n",
              "      <td>FL</td>\n",
              "      <td>0</td>\n",
              "      <td>1997-02-28</td>\n",
              "      <td>1997</td>\n",
              "      <td>240</td>\n",
              "      <td>14</td>\n",
              "      <td>1.0</td>\n",
              "      <td>7</td>\n",
              "      <td>7</td>\n",
              "      <td>1</td>\n",
              "      <td>0</td>\n",
              "      <td>N</td>\n",
              "      <td>N</td>\n",
              "      <td>NaT</td>\n",
              "      <td>1997-05-14</td>\n",
              "      <td>$229,000.00</td>\n",
              "      <td>$0.00</td>\n",
              "      <td>P I F</td>\n",
              "      <td>$0.00</td>\n",
              "      <td>$229,000.00</td>\n",
              "      <td>$229,000.00</td>\n",
              "    </tr>\n",
              "  </tbody>\n",
              "</table>\n",
              "</div>"
            ],
            "text/plain": [
              "   LoanNr_ChkDgt                           Name  ...        GrAppv      SBA_Appv\n",
              "0     1000014003                 ABC HOBBYCRAFT  ...   $60,000.00    $48,000.00 \n",
              "1     1000024006    LANDMARK BAR & GRILLE (THE)  ...   $40,000.00    $32,000.00 \n",
              "2     1000034009          WHITLOCK DDS, TODD M.  ...  $287,000.00   $215,250.00 \n",
              "3     1000044001  BIG BUCKS PAWN & JEWELRY, LLC  ...   $35,000.00    $28,000.00 \n",
              "4     1000054004    ANASTASIA CONFECTIONS, INC.  ...  $229,000.00   $229,000.00 \n",
              "\n",
              "[5 rows x 27 columns]"
            ]
          },
          "metadata": {
            "tags": []
          },
          "execution_count": 48
        }
      ]
    },
    {
      "cell_type": "markdown",
      "metadata": {
        "id": "npUVE_IAVDqr"
      },
      "source": [
        "Changing dollar amounts from objects to floats by deleting dollar signs and commas\n"
      ]
    },
    {
      "cell_type": "code",
      "metadata": {
        "id": "Kwep0HlMpUY7",
        "outputId": "3b08eb95-9071-43d1-9c2a-f81b430651f5",
        "colab": {
          "base_uri": "https://localhost:8080/",
          "height": 451
        }
      },
      "source": [
        "df['DisbursementGross'] = df['DisbursementGross'].str.replace(r'$', '').str.replace(r',', '').astype(float)\n",
        "df['BalanceGross'] = df['BalanceGross'].str.replace(r'$', '').str.replace(r',', '').astype(float)\n",
        "df['ChgOffPrinGr'] = df['ChgOffPrinGr'].str.replace(r'$', '').str.replace(r',', '').astype(float)\n",
        "df['GrAppv'] = df['GrAppv'].str.replace(r'$', '').str.replace(r',', '').astype(float)\n",
        "df['SBA_Appv'] = df['SBA_Appv'].str.replace(r'$', '').str.replace(',', '').astype(float)\n",
        "df.head()"
      ],
      "execution_count": null,
      "outputs": [
        {
          "output_type": "execute_result",
          "data": {
            "text/html": [
              "<div>\n",
              "<style scoped>\n",
              "    .dataframe tbody tr th:only-of-type {\n",
              "        vertical-align: middle;\n",
              "    }\n",
              "\n",
              "    .dataframe tbody tr th {\n",
              "        vertical-align: top;\n",
              "    }\n",
              "\n",
              "    .dataframe thead th {\n",
              "        text-align: right;\n",
              "    }\n",
              "</style>\n",
              "<table border=\"1\" class=\"dataframe\">\n",
              "  <thead>\n",
              "    <tr style=\"text-align: right;\">\n",
              "      <th></th>\n",
              "      <th>LoanNr_ChkDgt</th>\n",
              "      <th>Name</th>\n",
              "      <th>City</th>\n",
              "      <th>State</th>\n",
              "      <th>Zip</th>\n",
              "      <th>Bank</th>\n",
              "      <th>BankState</th>\n",
              "      <th>NAICS</th>\n",
              "      <th>ApprovalDate</th>\n",
              "      <th>ApprovalFY</th>\n",
              "      <th>Term</th>\n",
              "      <th>NoEmp</th>\n",
              "      <th>NewExist</th>\n",
              "      <th>CreateJob</th>\n",
              "      <th>RetainedJob</th>\n",
              "      <th>FranchiseCode</th>\n",
              "      <th>UrbanRural</th>\n",
              "      <th>RevLineCr</th>\n",
              "      <th>LowDoc</th>\n",
              "      <th>ChgOffDate</th>\n",
              "      <th>DisbursementDate</th>\n",
              "      <th>DisbursementGross</th>\n",
              "      <th>BalanceGross</th>\n",
              "      <th>MIS_Status</th>\n",
              "      <th>ChgOffPrinGr</th>\n",
              "      <th>GrAppv</th>\n",
              "      <th>SBA_Appv</th>\n",
              "    </tr>\n",
              "  </thead>\n",
              "  <tbody>\n",
              "    <tr>\n",
              "      <th>0</th>\n",
              "      <td>1000014003</td>\n",
              "      <td>ABC HOBBYCRAFT</td>\n",
              "      <td>EVANSVILLE</td>\n",
              "      <td>IN</td>\n",
              "      <td>47711</td>\n",
              "      <td>FIFTH THIRD BANK</td>\n",
              "      <td>OH</td>\n",
              "      <td>451120</td>\n",
              "      <td>1997-02-28</td>\n",
              "      <td>1997</td>\n",
              "      <td>84</td>\n",
              "      <td>4</td>\n",
              "      <td>2.0</td>\n",
              "      <td>0</td>\n",
              "      <td>0</td>\n",
              "      <td>1</td>\n",
              "      <td>0</td>\n",
              "      <td>N</td>\n",
              "      <td>Y</td>\n",
              "      <td>NaT</td>\n",
              "      <td>1999-02-28</td>\n",
              "      <td>60000.0</td>\n",
              "      <td>0.0</td>\n",
              "      <td>P I F</td>\n",
              "      <td>0.0</td>\n",
              "      <td>60000.0</td>\n",
              "      <td>48000.0</td>\n",
              "    </tr>\n",
              "    <tr>\n",
              "      <th>1</th>\n",
              "      <td>1000024006</td>\n",
              "      <td>LANDMARK BAR &amp; GRILLE (THE)</td>\n",
              "      <td>NEW PARIS</td>\n",
              "      <td>IN</td>\n",
              "      <td>46526</td>\n",
              "      <td>1ST SOURCE BANK</td>\n",
              "      <td>IN</td>\n",
              "      <td>722410</td>\n",
              "      <td>1997-02-28</td>\n",
              "      <td>1997</td>\n",
              "      <td>60</td>\n",
              "      <td>2</td>\n",
              "      <td>2.0</td>\n",
              "      <td>0</td>\n",
              "      <td>0</td>\n",
              "      <td>1</td>\n",
              "      <td>0</td>\n",
              "      <td>N</td>\n",
              "      <td>Y</td>\n",
              "      <td>NaT</td>\n",
              "      <td>1997-05-31</td>\n",
              "      <td>40000.0</td>\n",
              "      <td>0.0</td>\n",
              "      <td>P I F</td>\n",
              "      <td>0.0</td>\n",
              "      <td>40000.0</td>\n",
              "      <td>32000.0</td>\n",
              "    </tr>\n",
              "    <tr>\n",
              "      <th>2</th>\n",
              "      <td>1000034009</td>\n",
              "      <td>WHITLOCK DDS, TODD M.</td>\n",
              "      <td>BLOOMINGTON</td>\n",
              "      <td>IN</td>\n",
              "      <td>47401</td>\n",
              "      <td>GRANT COUNTY STATE BANK</td>\n",
              "      <td>IN</td>\n",
              "      <td>621210</td>\n",
              "      <td>1997-02-28</td>\n",
              "      <td>1997</td>\n",
              "      <td>180</td>\n",
              "      <td>7</td>\n",
              "      <td>1.0</td>\n",
              "      <td>0</td>\n",
              "      <td>0</td>\n",
              "      <td>1</td>\n",
              "      <td>0</td>\n",
              "      <td>N</td>\n",
              "      <td>N</td>\n",
              "      <td>NaT</td>\n",
              "      <td>1997-12-31</td>\n",
              "      <td>287000.0</td>\n",
              "      <td>0.0</td>\n",
              "      <td>P I F</td>\n",
              "      <td>0.0</td>\n",
              "      <td>287000.0</td>\n",
              "      <td>215250.0</td>\n",
              "    </tr>\n",
              "    <tr>\n",
              "      <th>3</th>\n",
              "      <td>1000044001</td>\n",
              "      <td>BIG BUCKS PAWN &amp; JEWELRY, LLC</td>\n",
              "      <td>BROKEN ARROW</td>\n",
              "      <td>OK</td>\n",
              "      <td>74012</td>\n",
              "      <td>1ST NATL BK &amp; TR CO OF BROKEN</td>\n",
              "      <td>OK</td>\n",
              "      <td>0</td>\n",
              "      <td>1997-02-28</td>\n",
              "      <td>1997</td>\n",
              "      <td>60</td>\n",
              "      <td>2</td>\n",
              "      <td>1.0</td>\n",
              "      <td>0</td>\n",
              "      <td>0</td>\n",
              "      <td>1</td>\n",
              "      <td>0</td>\n",
              "      <td>N</td>\n",
              "      <td>Y</td>\n",
              "      <td>NaT</td>\n",
              "      <td>1997-06-30</td>\n",
              "      <td>35000.0</td>\n",
              "      <td>0.0</td>\n",
              "      <td>P I F</td>\n",
              "      <td>0.0</td>\n",
              "      <td>35000.0</td>\n",
              "      <td>28000.0</td>\n",
              "    </tr>\n",
              "    <tr>\n",
              "      <th>4</th>\n",
              "      <td>1000054004</td>\n",
              "      <td>ANASTASIA CONFECTIONS, INC.</td>\n",
              "      <td>ORLANDO</td>\n",
              "      <td>FL</td>\n",
              "      <td>32801</td>\n",
              "      <td>FLORIDA BUS. DEVEL CORP</td>\n",
              "      <td>FL</td>\n",
              "      <td>0</td>\n",
              "      <td>1997-02-28</td>\n",
              "      <td>1997</td>\n",
              "      <td>240</td>\n",
              "      <td>14</td>\n",
              "      <td>1.0</td>\n",
              "      <td>7</td>\n",
              "      <td>7</td>\n",
              "      <td>1</td>\n",
              "      <td>0</td>\n",
              "      <td>N</td>\n",
              "      <td>N</td>\n",
              "      <td>NaT</td>\n",
              "      <td>1997-05-14</td>\n",
              "      <td>229000.0</td>\n",
              "      <td>0.0</td>\n",
              "      <td>P I F</td>\n",
              "      <td>0.0</td>\n",
              "      <td>229000.0</td>\n",
              "      <td>229000.0</td>\n",
              "    </tr>\n",
              "  </tbody>\n",
              "</table>\n",
              "</div>"
            ],
            "text/plain": [
              "   LoanNr_ChkDgt                           Name  ...    GrAppv  SBA_Appv\n",
              "0     1000014003                 ABC HOBBYCRAFT  ...   60000.0   48000.0\n",
              "1     1000024006    LANDMARK BAR & GRILLE (THE)  ...   40000.0   32000.0\n",
              "2     1000034009          WHITLOCK DDS, TODD M.  ...  287000.0  215250.0\n",
              "3     1000044001  BIG BUCKS PAWN & JEWELRY, LLC  ...   35000.0   28000.0\n",
              "4     1000054004    ANASTASIA CONFECTIONS, INC.  ...  229000.0  229000.0\n",
              "\n",
              "[5 rows x 27 columns]"
            ]
          },
          "metadata": {
            "tags": []
          },
          "execution_count": 49
        }
      ]
    },
    {
      "cell_type": "markdown",
      "metadata": {
        "id": "KumDEGVsDRnD"
      },
      "source": [
        "Changing columns to lower case and replacing spaces with under scores"
      ]
    },
    {
      "cell_type": "code",
      "metadata": {
        "id": "40LYGN_-89sr"
      },
      "source": [
        "def clean_col(col):\n",
        "    col = col.strip()\n",
        "    col = col.replace(\" \", \"_\") \n",
        "    col = col.lower()\n",
        "    return col\n",
        "df.columns = [clean_col(c) for c in df.columns]"
      ],
      "execution_count": null,
      "outputs": []
    },
    {
      "cell_type": "code",
      "metadata": {
        "id": "5jND8rVOhens",
        "outputId": "386531ef-83b8-4b49-867a-45ca79118f57",
        "colab": {
          "base_uri": "https://localhost:8080/",
          "height": 497
        }
      },
      "source": [
        "df.dtypes"
      ],
      "execution_count": null,
      "outputs": [
        {
          "output_type": "execute_result",
          "data": {
            "text/plain": [
              "loannr_chkdgt                 int64\n",
              "name                         object\n",
              "city                         object\n",
              "state                        object\n",
              "zip                           int64\n",
              "bank                         object\n",
              "bankstate                    object\n",
              "naics                         int64\n",
              "approvaldate         datetime64[ns]\n",
              "approvalfy                   object\n",
              "term                          int64\n",
              "noemp                         int64\n",
              "newexist                    float64\n",
              "createjob                     int64\n",
              "retainedjob                   int64\n",
              "franchisecode                 int64\n",
              "urbanrural                    int64\n",
              "revlinecr                    object\n",
              "lowdoc                       object\n",
              "chgoffdate           datetime64[ns]\n",
              "disbursementdate     datetime64[ns]\n",
              "disbursementgross           float64\n",
              "balancegross                float64\n",
              "mis_status                   object\n",
              "chgoffpringr                float64\n",
              "grappv                      float64\n",
              "sba_appv                    float64\n",
              "dtype: object"
            ]
          },
          "metadata": {
            "tags": []
          },
          "execution_count": 51
        }
      ]
    },
    {
      "cell_type": "markdown",
      "metadata": {
        "id": "5MYnxLZ7HUco"
      },
      "source": [
        "Creating a new column `default` that tells us whether a business defaulted (1) or not (0)."
      ]
    },
    {
      "cell_type": "code",
      "metadata": {
        "id": "dhaGWe7vIPY9"
      },
      "source": [
        "def change_default(col, new_name, df):\n",
        "  df[new_name] = df[col]\n",
        "  df = df.drop(col, axis='columns')\n",
        "  df[new_name] = df[new_name].replace(['P I F', 'CHGOFF'], [0,1])\n",
        "  df = df.dropna(subset=[new_name], how='any')\n",
        "  df[new_name] = df[new_name].astype('int')\n",
        "\n",
        "  return df"
      ],
      "execution_count": null,
      "outputs": []
    },
    {
      "cell_type": "code",
      "metadata": {
        "id": "iTeHtPW5IRLO"
      },
      "source": [
        "df = change_default(col='mis_status', new_name='default', df=df)"
      ],
      "execution_count": null,
      "outputs": []
    },
    {
      "cell_type": "code",
      "metadata": {
        "id": "_tEHns2BJH2y",
        "outputId": "e1034f17-9d1a-429f-ee12-1229cf33b8d0",
        "colab": {
          "base_uri": "https://localhost:8080/",
          "height": 451
        }
      },
      "source": [
        "df.head()"
      ],
      "execution_count": null,
      "outputs": [
        {
          "output_type": "execute_result",
          "data": {
            "text/html": [
              "<div>\n",
              "<style scoped>\n",
              "    .dataframe tbody tr th:only-of-type {\n",
              "        vertical-align: middle;\n",
              "    }\n",
              "\n",
              "    .dataframe tbody tr th {\n",
              "        vertical-align: top;\n",
              "    }\n",
              "\n",
              "    .dataframe thead th {\n",
              "        text-align: right;\n",
              "    }\n",
              "</style>\n",
              "<table border=\"1\" class=\"dataframe\">\n",
              "  <thead>\n",
              "    <tr style=\"text-align: right;\">\n",
              "      <th></th>\n",
              "      <th>loannr_chkdgt</th>\n",
              "      <th>name</th>\n",
              "      <th>city</th>\n",
              "      <th>state</th>\n",
              "      <th>zip</th>\n",
              "      <th>bank</th>\n",
              "      <th>bankstate</th>\n",
              "      <th>naics</th>\n",
              "      <th>approvaldate</th>\n",
              "      <th>approvalfy</th>\n",
              "      <th>term</th>\n",
              "      <th>noemp</th>\n",
              "      <th>newexist</th>\n",
              "      <th>createjob</th>\n",
              "      <th>retainedjob</th>\n",
              "      <th>franchisecode</th>\n",
              "      <th>urbanrural</th>\n",
              "      <th>revlinecr</th>\n",
              "      <th>lowdoc</th>\n",
              "      <th>chgoffdate</th>\n",
              "      <th>disbursementdate</th>\n",
              "      <th>disbursementgross</th>\n",
              "      <th>balancegross</th>\n",
              "      <th>chgoffpringr</th>\n",
              "      <th>grappv</th>\n",
              "      <th>sba_appv</th>\n",
              "      <th>default</th>\n",
              "    </tr>\n",
              "  </thead>\n",
              "  <tbody>\n",
              "    <tr>\n",
              "      <th>0</th>\n",
              "      <td>1000014003</td>\n",
              "      <td>ABC HOBBYCRAFT</td>\n",
              "      <td>EVANSVILLE</td>\n",
              "      <td>IN</td>\n",
              "      <td>47711</td>\n",
              "      <td>FIFTH THIRD BANK</td>\n",
              "      <td>OH</td>\n",
              "      <td>451120</td>\n",
              "      <td>1997-02-28</td>\n",
              "      <td>1997</td>\n",
              "      <td>84</td>\n",
              "      <td>4</td>\n",
              "      <td>2.0</td>\n",
              "      <td>0</td>\n",
              "      <td>0</td>\n",
              "      <td>1</td>\n",
              "      <td>0</td>\n",
              "      <td>N</td>\n",
              "      <td>Y</td>\n",
              "      <td>NaT</td>\n",
              "      <td>1999-02-28</td>\n",
              "      <td>60000.0</td>\n",
              "      <td>0.0</td>\n",
              "      <td>0.0</td>\n",
              "      <td>60000.0</td>\n",
              "      <td>48000.0</td>\n",
              "      <td>0</td>\n",
              "    </tr>\n",
              "    <tr>\n",
              "      <th>1</th>\n",
              "      <td>1000024006</td>\n",
              "      <td>LANDMARK BAR &amp; GRILLE (THE)</td>\n",
              "      <td>NEW PARIS</td>\n",
              "      <td>IN</td>\n",
              "      <td>46526</td>\n",
              "      <td>1ST SOURCE BANK</td>\n",
              "      <td>IN</td>\n",
              "      <td>722410</td>\n",
              "      <td>1997-02-28</td>\n",
              "      <td>1997</td>\n",
              "      <td>60</td>\n",
              "      <td>2</td>\n",
              "      <td>2.0</td>\n",
              "      <td>0</td>\n",
              "      <td>0</td>\n",
              "      <td>1</td>\n",
              "      <td>0</td>\n",
              "      <td>N</td>\n",
              "      <td>Y</td>\n",
              "      <td>NaT</td>\n",
              "      <td>1997-05-31</td>\n",
              "      <td>40000.0</td>\n",
              "      <td>0.0</td>\n",
              "      <td>0.0</td>\n",
              "      <td>40000.0</td>\n",
              "      <td>32000.0</td>\n",
              "      <td>0</td>\n",
              "    </tr>\n",
              "    <tr>\n",
              "      <th>2</th>\n",
              "      <td>1000034009</td>\n",
              "      <td>WHITLOCK DDS, TODD M.</td>\n",
              "      <td>BLOOMINGTON</td>\n",
              "      <td>IN</td>\n",
              "      <td>47401</td>\n",
              "      <td>GRANT COUNTY STATE BANK</td>\n",
              "      <td>IN</td>\n",
              "      <td>621210</td>\n",
              "      <td>1997-02-28</td>\n",
              "      <td>1997</td>\n",
              "      <td>180</td>\n",
              "      <td>7</td>\n",
              "      <td>1.0</td>\n",
              "      <td>0</td>\n",
              "      <td>0</td>\n",
              "      <td>1</td>\n",
              "      <td>0</td>\n",
              "      <td>N</td>\n",
              "      <td>N</td>\n",
              "      <td>NaT</td>\n",
              "      <td>1997-12-31</td>\n",
              "      <td>287000.0</td>\n",
              "      <td>0.0</td>\n",
              "      <td>0.0</td>\n",
              "      <td>287000.0</td>\n",
              "      <td>215250.0</td>\n",
              "      <td>0</td>\n",
              "    </tr>\n",
              "    <tr>\n",
              "      <th>3</th>\n",
              "      <td>1000044001</td>\n",
              "      <td>BIG BUCKS PAWN &amp; JEWELRY, LLC</td>\n",
              "      <td>BROKEN ARROW</td>\n",
              "      <td>OK</td>\n",
              "      <td>74012</td>\n",
              "      <td>1ST NATL BK &amp; TR CO OF BROKEN</td>\n",
              "      <td>OK</td>\n",
              "      <td>0</td>\n",
              "      <td>1997-02-28</td>\n",
              "      <td>1997</td>\n",
              "      <td>60</td>\n",
              "      <td>2</td>\n",
              "      <td>1.0</td>\n",
              "      <td>0</td>\n",
              "      <td>0</td>\n",
              "      <td>1</td>\n",
              "      <td>0</td>\n",
              "      <td>N</td>\n",
              "      <td>Y</td>\n",
              "      <td>NaT</td>\n",
              "      <td>1997-06-30</td>\n",
              "      <td>35000.0</td>\n",
              "      <td>0.0</td>\n",
              "      <td>0.0</td>\n",
              "      <td>35000.0</td>\n",
              "      <td>28000.0</td>\n",
              "      <td>0</td>\n",
              "    </tr>\n",
              "    <tr>\n",
              "      <th>4</th>\n",
              "      <td>1000054004</td>\n",
              "      <td>ANASTASIA CONFECTIONS, INC.</td>\n",
              "      <td>ORLANDO</td>\n",
              "      <td>FL</td>\n",
              "      <td>32801</td>\n",
              "      <td>FLORIDA BUS. DEVEL CORP</td>\n",
              "      <td>FL</td>\n",
              "      <td>0</td>\n",
              "      <td>1997-02-28</td>\n",
              "      <td>1997</td>\n",
              "      <td>240</td>\n",
              "      <td>14</td>\n",
              "      <td>1.0</td>\n",
              "      <td>7</td>\n",
              "      <td>7</td>\n",
              "      <td>1</td>\n",
              "      <td>0</td>\n",
              "      <td>N</td>\n",
              "      <td>N</td>\n",
              "      <td>NaT</td>\n",
              "      <td>1997-05-14</td>\n",
              "      <td>229000.0</td>\n",
              "      <td>0.0</td>\n",
              "      <td>0.0</td>\n",
              "      <td>229000.0</td>\n",
              "      <td>229000.0</td>\n",
              "      <td>0</td>\n",
              "    </tr>\n",
              "  </tbody>\n",
              "</table>\n",
              "</div>"
            ],
            "text/plain": [
              "   loannr_chkdgt                           name  ...  sba_appv default\n",
              "0     1000014003                 ABC HOBBYCRAFT  ...   48000.0       0\n",
              "1     1000024006    LANDMARK BAR & GRILLE (THE)  ...   32000.0       0\n",
              "2     1000034009          WHITLOCK DDS, TODD M.  ...  215250.0       0\n",
              "3     1000044001  BIG BUCKS PAWN & JEWELRY, LLC  ...   28000.0       0\n",
              "4     1000054004    ANASTASIA CONFECTIONS, INC.  ...  229000.0       0\n",
              "\n",
              "[5 rows x 27 columns]"
            ]
          },
          "metadata": {
            "tags": []
          },
          "execution_count": 54
        }
      ]
    },
    {
      "cell_type": "markdown",
      "metadata": {
        "id": "Gb0J8Eqn-_dr"
      },
      "source": [
        "Creating a new column for sector name based on first two digits of NAICS code"
      ]
    },
    {
      "cell_type": "code",
      "metadata": {
        "id": "9l_g498j-9AS"
      },
      "source": [
        "df['industry'] = df['naics'].astype('str').apply(lambda x: x[:2])"
      ],
      "execution_count": null,
      "outputs": []
    },
    {
      "cell_type": "code",
      "metadata": {
        "id": "cnODbc-5_JYR",
        "outputId": "a40684fe-2fa5-4c13-de5d-f57e74160590",
        "colab": {
          "base_uri": "https://localhost:8080/",
          "height": 85
        }
      },
      "source": [
        "df['industry'].unique()"
      ],
      "execution_count": null,
      "outputs": [
        {
          "output_type": "execute_result",
          "data": {
            "text/plain": [
              "array(['45', '72', '62', '0', '33', '81', '23', '44', '42', '61', '53',\n",
              "       '54', '31', '51', '71', '52', '21', '32', '56', '48', '11', '92',\n",
              "       '22', '49', '55'], dtype=object)"
            ]
          },
          "metadata": {
            "tags": []
          },
          "execution_count": 56
        }
      ]
    },
    {
      "cell_type": "code",
      "metadata": {
        "id": "MGjCH-CE_Ld7"
      },
      "source": [
        "naics_dict = {'11': 'agriculture, forestry, fishing, hunting', \n",
        "              '21': 'mining, quarrying, oil/gas extraction', \n",
        "              '22': 'utilities', \n",
        "              '23': 'construction', \n",
        "              '31': 'manufacturing', \n",
        "              '32': 'manufacturing', \n",
        "              '33': 'manufacturing', \n",
        "              '42': 'wholesale trade',\n",
        "              '44': 'retail trade', \n",
        "              '45': 'retail trade', \n",
        "              '48': 'transportation, warehousing', \n",
        "              '49': 'transportation, warehousing',\n",
        "              '51': 'information',\n",
        "              '52': 'finance, insurance',\n",
        "              '53': 'real estate, rental, leasing',\n",
        "              '54': 'professional, scientific, technical services',\n",
        "              '55': 'management of companies/enterprises',\n",
        "              '56': 'administrative, support, waste management, remediation services',\n",
        "              '61': 'educational services',\n",
        "              '62': 'health care, social assistance',\n",
        "              '71': 'arts, entertainment, recreation',\n",
        "              '72': 'accommodation, food services',\n",
        "              '81': 'other (except public administration)',\n",
        "              '92': 'public administration'}\n",
        "df['industry'] = df['industry'].map(naics_dict)"
      ],
      "execution_count": null,
      "outputs": []
    },
    {
      "cell_type": "code",
      "metadata": {
        "id": "HomdIRa9_v2H",
        "outputId": "50b0cf5d-b019-47b3-b8a7-3650adb92b2d",
        "colab": {
          "base_uri": "https://localhost:8080/",
          "height": 451
        }
      },
      "source": [
        "df.head()"
      ],
      "execution_count": null,
      "outputs": [
        {
          "output_type": "execute_result",
          "data": {
            "text/html": [
              "<div>\n",
              "<style scoped>\n",
              "    .dataframe tbody tr th:only-of-type {\n",
              "        vertical-align: middle;\n",
              "    }\n",
              "\n",
              "    .dataframe tbody tr th {\n",
              "        vertical-align: top;\n",
              "    }\n",
              "\n",
              "    .dataframe thead th {\n",
              "        text-align: right;\n",
              "    }\n",
              "</style>\n",
              "<table border=\"1\" class=\"dataframe\">\n",
              "  <thead>\n",
              "    <tr style=\"text-align: right;\">\n",
              "      <th></th>\n",
              "      <th>loannr_chkdgt</th>\n",
              "      <th>name</th>\n",
              "      <th>city</th>\n",
              "      <th>state</th>\n",
              "      <th>zip</th>\n",
              "      <th>bank</th>\n",
              "      <th>bankstate</th>\n",
              "      <th>naics</th>\n",
              "      <th>approvaldate</th>\n",
              "      <th>approvalfy</th>\n",
              "      <th>term</th>\n",
              "      <th>noemp</th>\n",
              "      <th>newexist</th>\n",
              "      <th>createjob</th>\n",
              "      <th>retainedjob</th>\n",
              "      <th>franchisecode</th>\n",
              "      <th>urbanrural</th>\n",
              "      <th>revlinecr</th>\n",
              "      <th>lowdoc</th>\n",
              "      <th>chgoffdate</th>\n",
              "      <th>disbursementdate</th>\n",
              "      <th>disbursementgross</th>\n",
              "      <th>balancegross</th>\n",
              "      <th>chgoffpringr</th>\n",
              "      <th>grappv</th>\n",
              "      <th>sba_appv</th>\n",
              "      <th>default</th>\n",
              "      <th>industry</th>\n",
              "    </tr>\n",
              "  </thead>\n",
              "  <tbody>\n",
              "    <tr>\n",
              "      <th>0</th>\n",
              "      <td>1000014003</td>\n",
              "      <td>ABC HOBBYCRAFT</td>\n",
              "      <td>EVANSVILLE</td>\n",
              "      <td>IN</td>\n",
              "      <td>47711</td>\n",
              "      <td>FIFTH THIRD BANK</td>\n",
              "      <td>OH</td>\n",
              "      <td>451120</td>\n",
              "      <td>1997-02-28</td>\n",
              "      <td>1997</td>\n",
              "      <td>84</td>\n",
              "      <td>4</td>\n",
              "      <td>2.0</td>\n",
              "      <td>0</td>\n",
              "      <td>0</td>\n",
              "      <td>1</td>\n",
              "      <td>0</td>\n",
              "      <td>N</td>\n",
              "      <td>Y</td>\n",
              "      <td>NaT</td>\n",
              "      <td>1999-02-28</td>\n",
              "      <td>60000.0</td>\n",
              "      <td>0.0</td>\n",
              "      <td>0.0</td>\n",
              "      <td>60000.0</td>\n",
              "      <td>48000.0</td>\n",
              "      <td>0</td>\n",
              "      <td>retail trade</td>\n",
              "    </tr>\n",
              "    <tr>\n",
              "      <th>1</th>\n",
              "      <td>1000024006</td>\n",
              "      <td>LANDMARK BAR &amp; GRILLE (THE)</td>\n",
              "      <td>NEW PARIS</td>\n",
              "      <td>IN</td>\n",
              "      <td>46526</td>\n",
              "      <td>1ST SOURCE BANK</td>\n",
              "      <td>IN</td>\n",
              "      <td>722410</td>\n",
              "      <td>1997-02-28</td>\n",
              "      <td>1997</td>\n",
              "      <td>60</td>\n",
              "      <td>2</td>\n",
              "      <td>2.0</td>\n",
              "      <td>0</td>\n",
              "      <td>0</td>\n",
              "      <td>1</td>\n",
              "      <td>0</td>\n",
              "      <td>N</td>\n",
              "      <td>Y</td>\n",
              "      <td>NaT</td>\n",
              "      <td>1997-05-31</td>\n",
              "      <td>40000.0</td>\n",
              "      <td>0.0</td>\n",
              "      <td>0.0</td>\n",
              "      <td>40000.0</td>\n",
              "      <td>32000.0</td>\n",
              "      <td>0</td>\n",
              "      <td>accommodation, food services</td>\n",
              "    </tr>\n",
              "    <tr>\n",
              "      <th>2</th>\n",
              "      <td>1000034009</td>\n",
              "      <td>WHITLOCK DDS, TODD M.</td>\n",
              "      <td>BLOOMINGTON</td>\n",
              "      <td>IN</td>\n",
              "      <td>47401</td>\n",
              "      <td>GRANT COUNTY STATE BANK</td>\n",
              "      <td>IN</td>\n",
              "      <td>621210</td>\n",
              "      <td>1997-02-28</td>\n",
              "      <td>1997</td>\n",
              "      <td>180</td>\n",
              "      <td>7</td>\n",
              "      <td>1.0</td>\n",
              "      <td>0</td>\n",
              "      <td>0</td>\n",
              "      <td>1</td>\n",
              "      <td>0</td>\n",
              "      <td>N</td>\n",
              "      <td>N</td>\n",
              "      <td>NaT</td>\n",
              "      <td>1997-12-31</td>\n",
              "      <td>287000.0</td>\n",
              "      <td>0.0</td>\n",
              "      <td>0.0</td>\n",
              "      <td>287000.0</td>\n",
              "      <td>215250.0</td>\n",
              "      <td>0</td>\n",
              "      <td>health care, social assistance</td>\n",
              "    </tr>\n",
              "    <tr>\n",
              "      <th>3</th>\n",
              "      <td>1000044001</td>\n",
              "      <td>BIG BUCKS PAWN &amp; JEWELRY, LLC</td>\n",
              "      <td>BROKEN ARROW</td>\n",
              "      <td>OK</td>\n",
              "      <td>74012</td>\n",
              "      <td>1ST NATL BK &amp; TR CO OF BROKEN</td>\n",
              "      <td>OK</td>\n",
              "      <td>0</td>\n",
              "      <td>1997-02-28</td>\n",
              "      <td>1997</td>\n",
              "      <td>60</td>\n",
              "      <td>2</td>\n",
              "      <td>1.0</td>\n",
              "      <td>0</td>\n",
              "      <td>0</td>\n",
              "      <td>1</td>\n",
              "      <td>0</td>\n",
              "      <td>N</td>\n",
              "      <td>Y</td>\n",
              "      <td>NaT</td>\n",
              "      <td>1997-06-30</td>\n",
              "      <td>35000.0</td>\n",
              "      <td>0.0</td>\n",
              "      <td>0.0</td>\n",
              "      <td>35000.0</td>\n",
              "      <td>28000.0</td>\n",
              "      <td>0</td>\n",
              "      <td>NaN</td>\n",
              "    </tr>\n",
              "    <tr>\n",
              "      <th>4</th>\n",
              "      <td>1000054004</td>\n",
              "      <td>ANASTASIA CONFECTIONS, INC.</td>\n",
              "      <td>ORLANDO</td>\n",
              "      <td>FL</td>\n",
              "      <td>32801</td>\n",
              "      <td>FLORIDA BUS. DEVEL CORP</td>\n",
              "      <td>FL</td>\n",
              "      <td>0</td>\n",
              "      <td>1997-02-28</td>\n",
              "      <td>1997</td>\n",
              "      <td>240</td>\n",
              "      <td>14</td>\n",
              "      <td>1.0</td>\n",
              "      <td>7</td>\n",
              "      <td>7</td>\n",
              "      <td>1</td>\n",
              "      <td>0</td>\n",
              "      <td>N</td>\n",
              "      <td>N</td>\n",
              "      <td>NaT</td>\n",
              "      <td>1997-05-14</td>\n",
              "      <td>229000.0</td>\n",
              "      <td>0.0</td>\n",
              "      <td>0.0</td>\n",
              "      <td>229000.0</td>\n",
              "      <td>229000.0</td>\n",
              "      <td>0</td>\n",
              "      <td>NaN</td>\n",
              "    </tr>\n",
              "  </tbody>\n",
              "</table>\n",
              "</div>"
            ],
            "text/plain": [
              "   loannr_chkdgt  ...                        industry\n",
              "0     1000014003  ...                    retail trade\n",
              "1     1000024006  ...    accommodation, food services\n",
              "2     1000034009  ...  health care, social assistance\n",
              "3     1000044001  ...                             NaN\n",
              "4     1000054004  ...                             NaN\n",
              "\n",
              "[5 rows x 28 columns]"
            ]
          },
          "metadata": {
            "tags": []
          },
          "execution_count": 58
        }
      ]
    },
    {
      "cell_type": "markdown",
      "metadata": {
        "id": "p31RWSOvHjob"
      },
      "source": [
        "Now we deal with missing values."
      ]
    },
    {
      "cell_type": "code",
      "metadata": {
        "id": "Ky8Z0ZyXXMS1",
        "outputId": "9d26c64c-302f-4882-8a85-c05fe9cc1785",
        "colab": {
          "base_uri": "https://localhost:8080/",
          "height": 201
        }
      },
      "source": [
        "for c in df.columns:\n",
        "    num_missing = df[c].isna().sum()\n",
        "    if num_missing > 0:\n",
        "      print(f'{c}: {num_missing} ({100*num_missing / df.shape[0]:.2f}%) missing values')"
      ],
      "execution_count": null,
      "outputs": [
        {
          "output_type": "stream",
          "text": [
            "name: 14 (0.00%) missing values\n",
            "city: 30 (0.00%) missing values\n",
            "state: 12 (0.00%) missing values\n",
            "bank: 1502 (0.17%) missing values\n",
            "bankstate: 1509 (0.17%) missing values\n",
            "newexist: 134 (0.01%) missing values\n",
            "revlinecr: 4515 (0.51%) missing values\n",
            "lowdoc: 2546 (0.28%) missing values\n",
            "chgoffdate: 731926 (81.87%) missing values\n",
            "industry: 201066 (22.49%) missing values\n"
          ],
          "name": "stdout"
        }
      ]
    },
    {
      "cell_type": "code",
      "metadata": {
        "id": "kKz_c37MVyPo"
      },
      "source": [
        "df['industry'] = df['industry'].fillna('Unknown')\n",
        "df['revlinecr'] = df['revlinecr'].fillna('Unknown')\n",
        "df_default = df[df['default'] == 1]\n",
        "df_nondefault = df[df['default'] == 0]\n",
        "df = df.drop(['naics', 'balancegross','chgoffdate'], axis=1)\n",
        "df = df.dropna(how = 'any')"
      ],
      "execution_count": null,
      "outputs": []
    },
    {
      "cell_type": "code",
      "metadata": {
        "id": "DNoKNLiR_JB1",
        "outputId": "0167885c-f68e-49d9-ac29-274f4caa9488",
        "colab": {
          "base_uri": "https://localhost:8080/",
          "height": 464
        }
      },
      "source": [
        "df.isna().sum()"
      ],
      "execution_count": null,
      "outputs": [
        {
          "output_type": "execute_result",
          "data": {
            "text/plain": [
              "loannr_chkdgt        0\n",
              "name                 0\n",
              "city                 0\n",
              "state                0\n",
              "zip                  0\n",
              "bank                 0\n",
              "bankstate            0\n",
              "approvaldate         0\n",
              "approvalfy           0\n",
              "term                 0\n",
              "noemp                0\n",
              "newexist             0\n",
              "createjob            0\n",
              "retainedjob          0\n",
              "franchisecode        0\n",
              "urbanrural           0\n",
              "revlinecr            0\n",
              "lowdoc               0\n",
              "disbursementdate     0\n",
              "disbursementgross    0\n",
              "chgoffpringr         0\n",
              "grappv               0\n",
              "sba_appv             0\n",
              "default              0\n",
              "industry             0\n",
              "dtype: int64"
            ]
          },
          "metadata": {
            "tags": []
          },
          "execution_count": 61
        }
      ]
    },
    {
      "cell_type": "markdown",
      "metadata": {
        "id": "Xy82B_UQH5Md"
      },
      "source": [
        "Dealing with weird values."
      ]
    },
    {
      "cell_type": "code",
      "metadata": {
        "id": "lN3bigzMY4sw",
        "outputId": "e075fa15-e19d-4616-f187-e12d4649752b",
        "colab": {
          "base_uri": "https://localhost:8080/",
          "height": 365
        }
      },
      "source": [
        "df['revlinecr'].value_counts()"
      ],
      "execution_count": null,
      "outputs": [
        {
          "output_type": "execute_result",
          "data": {
            "text/plain": [
              "N          414506\n",
              "0          257307\n",
              "Y          198235\n",
              "T           15100\n",
              "Unknown      4506\n",
              "1              22\n",
              "R              14\n",
              "`              11\n",
              "2               6\n",
              "C               2\n",
              ",               1\n",
              "A               1\n",
              "3               1\n",
              "4               1\n",
              "7               1\n",
              ".               1\n",
              "-               1\n",
              "Q               1\n",
              "5               1\n",
              "Name: revlinecr, dtype: int64"
            ]
          },
          "metadata": {
            "tags": []
          },
          "execution_count": 62
        }
      ]
    },
    {
      "cell_type": "code",
      "metadata": {
        "id": "gL99BljhC7gB"
      },
      "source": [
        "df['revlinecr'] = df['revlinecr'].replace('0', 'N')\n",
        "df['revlinecr'] = df['revlinecr'].replace('1', 'Y')"
      ],
      "execution_count": null,
      "outputs": []
    },
    {
      "cell_type": "code",
      "metadata": {
        "id": "7W9iP4yPD9kc"
      },
      "source": [
        "df = df[(df['revlinecr']== 'N') | (df['revlinecr']== 'Y')]"
      ],
      "execution_count": null,
      "outputs": []
    },
    {
      "cell_type": "code",
      "metadata": {
        "id": "mqMTvyJtIVN4",
        "outputId": "5ff5d0be-6918-4974-d076-340b608a3f70",
        "colab": {
          "base_uri": "https://localhost:8080/",
          "height": 85
        }
      },
      "source": [
        "df['revlinecr'].value_counts()"
      ],
      "execution_count": null,
      "outputs": [
        {
          "output_type": "execute_result",
          "data": {
            "text/plain": [
              "N    671813\n",
              "Y    198257\n",
              "Name: revlinecr, dtype: int64"
            ]
          },
          "metadata": {
            "tags": []
          },
          "execution_count": 65
        }
      ]
    },
    {
      "cell_type": "code",
      "metadata": {
        "id": "baiGo1OsYuUr",
        "outputId": "786835f2-2344-4dc8-8680-a084b8e8f459",
        "colab": {
          "base_uri": "https://localhost:8080/",
          "height": 184
        }
      },
      "source": [
        "df['lowdoc'].value_counts()"
      ],
      "execution_count": null,
      "outputs": [
        {
          "output_type": "execute_result",
          "data": {
            "text/plain": [
              "N    759171\n",
              "Y    107756\n",
              "0      1235\n",
              "C       751\n",
              "S       595\n",
              "A       488\n",
              "R        73\n",
              "1         1\n",
              "Name: lowdoc, dtype: int64"
            ]
          },
          "metadata": {
            "tags": []
          },
          "execution_count": 66
        }
      ]
    },
    {
      "cell_type": "code",
      "metadata": {
        "id": "tjjPA3l9Y_5O"
      },
      "source": [
        "df = df[(df['lowdoc']== 'N') | (df['lowdoc']== 'Y')]"
      ],
      "execution_count": null,
      "outputs": []
    },
    {
      "cell_type": "code",
      "metadata": {
        "id": "UmTbudQ5IaCC",
        "outputId": "9aa60da8-82b5-4acc-e7e1-72f320cc02b0",
        "colab": {
          "base_uri": "https://localhost:8080/",
          "height": 85
        }
      },
      "source": [
        "df['lowdoc'].value_counts()"
      ],
      "execution_count": null,
      "outputs": [
        {
          "output_type": "execute_result",
          "data": {
            "text/plain": [
              "N    759171\n",
              "Y    107756\n",
              "Name: lowdoc, dtype: int64"
            ]
          },
          "metadata": {
            "tags": []
          },
          "execution_count": 68
        }
      ]
    },
    {
      "cell_type": "code",
      "metadata": {
        "id": "eHrXCXpVsvSC"
      },
      "source": [
        "df = df[df['approvalfy'] != '1976A']"
      ],
      "execution_count": null,
      "outputs": []
    },
    {
      "cell_type": "code",
      "metadata": {
        "id": "KnU5BAyXJl3S",
        "outputId": "d271eb56-413f-488e-f873-d0400bc6f2e2",
        "colab": {
          "base_uri": "https://localhost:8080/",
          "height": 52
        }
      },
      "source": [
        "sum(df['default'])"
      ],
      "execution_count": null,
      "outputs": [
        {
          "output_type": "execute_result",
          "data": {
            "text/plain": [
              "148853"
            ]
          },
          "metadata": {
            "tags": []
          },
          "execution_count": 70
        }
      ]
    },
    {
      "cell_type": "code",
      "metadata": {
        "id": "Kx42H7JfKcgh",
        "outputId": "17639bb3-5add-4ad0-ff29-01e858201818",
        "colab": {
          "base_uri": "https://localhost:8080/",
          "height": 52
        }
      },
      "source": [
        "df['default'].shape"
      ],
      "execution_count": null,
      "outputs": [
        {
          "output_type": "execute_result",
          "data": {
            "text/plain": [
              "(866912,)"
            ]
          },
          "metadata": {
            "tags": []
          },
          "execution_count": 71
        }
      ]
    },
    {
      "cell_type": "code",
      "metadata": {
        "id": "er5R9QHV1OhJ",
        "outputId": "2e09fa11-1961-46a3-f69c-9f1f2e40c7ad",
        "colab": {
          "base_uri": "https://localhost:8080/",
          "height": 52
        }
      },
      "source": [
        "num_missing_rows = df.shape[0] - df.dropna(axis='index').shape[0]\n",
        "print(f'{num_missing_rows} rows with missing data ({100 * num_missing_rows / df.shape[0]:.2f}%)')"
      ],
      "execution_count": null,
      "outputs": [
        {
          "output_type": "stream",
          "text": [
            "0 rows with missing data (0.00%)\n"
          ],
          "name": "stdout"
        }
      ]
    },
    {
      "cell_type": "code",
      "metadata": {
        "id": "bhHMnbn6_w0m"
      },
      "source": [
        "df.to_csv(drive_dir + 'clean_data.csv', index = False)"
      ],
      "execution_count": null,
      "outputs": []
    },
    {
      "cell_type": "markdown",
      "metadata": {
        "id": "mqwwBA8oG1GY"
      },
      "source": [
        "# Analysis"
      ]
    },
    {
      "cell_type": "markdown",
      "metadata": {
        "id": "bqbSKPq6lvkz"
      },
      "source": [
        "We suspect that columns like term, approval date, bank, industry, gross approval and franchise will have an affect on whether or not a loan will default. We will look into that here."
      ]
    },
    {
      "cell_type": "markdown",
      "metadata": {
        "id": "Hxszr3j_SoCF"
      },
      "source": [
        "Let's take a look at how many of the SBA loans are for existing businesses or new businesses. "
      ]
    },
    {
      "cell_type": "code",
      "metadata": {
        "id": "JOzbMr8yS6yl",
        "outputId": "6e1d71b2-8aed-4bd9-c923-07e28c7bb8a9",
        "colab": {
          "base_uri": "https://localhost:8080/",
          "height": 523
        }
      },
      "source": [
        "plt.figure(figsize=(12,8))\n",
        "plt.bar(df['newexist'].value_counts().index, df['newexist'].value_counts()/df['newexist'].shape*100, alpha=.5)\n",
        "plt.ylabel('Percentage', fontsize=14)\n",
        "plt.xticks([1,2], ['Existing Business', 'New Business'],  fontsize=14)\n",
        "plt.yticks(fontsize=12)\n",
        "plt.title('Existing vs New Businesses with SBA Loans', fontsize=20)"
      ],
      "execution_count": null,
      "outputs": [
        {
          "output_type": "execute_result",
          "data": {
            "text/plain": [
              "Text(0.5, 1.0, 'Existing vs New Businesses with SBA Loans')"
            ]
          },
          "metadata": {
            "tags": []
          },
          "execution_count": 74
        },
        {
          "output_type": "display_data",
          "data": {
            "image/png": "[encoded data removed]",
            "text/plain": [
              "<Figure size 864x576 with 1 Axes>"
            ]
          },
          "metadata": {
            "tags": [],
            "needs_background": "light"
          }
        }
      ]
    },
    {
      "cell_type": "markdown",
      "metadata": {
        "id": "OA7-ZQ5kl-z6"
      },
      "source": [
        "First, let's look at industry."
      ]
    },
    {
      "cell_type": "code",
      "metadata": {
        "id": "ZR-AZE3wJukH"
      },
      "source": [
        "df_default = df[df['default']==1]\n",
        "df_nondefault = df[df['default']==0]"
      ],
      "execution_count": null,
      "outputs": []
    },
    {
      "cell_type": "code",
      "metadata": {
        "id": "CCZFoQoSG79k"
      },
      "source": [
        "industry_def = df_default.groupby(['industry'])  #Groupby the industry for defaults\n",
        "total_def_industry = industry_def['default'].count()    #Now add up the total per industry"
      ],
      "execution_count": null,
      "outputs": []
    },
    {
      "cell_type": "code",
      "metadata": {
        "id": "-WDyrZOlkBs2"
      },
      "source": [
        "industry_no = df_nondefault.groupby(['industry'])   #Groupby the industry for non-defaults\n",
        "total_no_industry = industry_no['default'].count()    #Now add up the total per industry"
      ],
      "execution_count": null,
      "outputs": []
    },
    {
      "cell_type": "markdown",
      "metadata": {
        "id": "FIeXR19-mksk"
      },
      "source": [
        "Next, find the total percentage of defaults per industry and sort them."
      ]
    },
    {
      "cell_type": "code",
      "metadata": {
        "id": "uGN_V8HMkKHL"
      },
      "source": [
        "total = (total_def_industry / (total_def_industry+total_no_industry)*100).sort_values(ascending=True) "
      ],
      "execution_count": null,
      "outputs": []
    },
    {
      "cell_type": "markdown",
      "metadata": {
        "id": "D8rOYpgMmrS-"
      },
      "source": [
        "Now we can plot this."
      ]
    },
    {
      "cell_type": "code",
      "metadata": {
        "id": "gDgO6l-7kRoW",
        "outputId": "3d84228a-365b-4619-a358-26960ff4d30a",
        "colab": {
          "base_uri": "https://localhost:8080/",
          "height": 555
        }
      },
      "source": [
        "plt.figure(figsize=(12,8))\n",
        "plt.barh(total.index, total, alpha=0.5, )\n",
        "plt.grid()\n",
        "plt.title('Default Percentage per Industry', fontsize =20)\n",
        "plt.xlabel('Percentage', fontsize=16)\n",
        "plt.yticks(fontsize=12)"
      ],
      "execution_count": null,
      "outputs": [
        {
          "output_type": "execute_result",
          "data": {
            "text/plain": [
              "([0, 1, 2, 3, 4, 5, 6, 7, 8, 9, 10, 11, 12, 13, 14, 15, 16, 17, 18, 19, 20],\n",
              " <a list of 21 Text major ticklabel objects>)"
            ]
          },
          "metadata": {
            "tags": []
          },
          "execution_count": 79
        },
        {
          "output_type": "display_data",
          "data": {
            "image/png": "[encoded data removed]",
            "text/plain": [
              "<Figure size 864x576 with 1 Axes>"
            ]
          },
          "metadata": {
            "tags": [],
            "needs_background": "light"
          }
        }
      ]
    },
    {
      "cell_type": "markdown",
      "metadata": {
        "id": "-7IRFvGAK_DR"
      },
      "source": [
        "Now let's look at `approvalfy`"
      ]
    },
    {
      "cell_type": "code",
      "metadata": {
        "id": "L8IjohbT0kew"
      },
      "source": [
        "df['approvalfy'] = df['approvalfy'].astype(int)"
      ],
      "execution_count": null,
      "outputs": []
    },
    {
      "cell_type": "code",
      "metadata": {
        "id": "3RyDg3I3K5dA"
      },
      "source": [
        "df_default = df[df['default']==1]\n",
        "df_nondefault = df[df['default']==0]"
      ],
      "execution_count": null,
      "outputs": []
    },
    {
      "cell_type": "code",
      "metadata": {
        "id": "Q37zyrtzyPl8",
        "outputId": "0a7a4546-6904-45dd-c83e-18cec086d959",
        "colab": {
          "base_uri": "https://localhost:8080/",
          "height": 214
        }
      },
      "source": [
        "df_default['approvalfy'] = df_default['approvalfy'].sort_values(ascending=True)\n",
        "df_nondefault['approvalfy'] = df_nondefault['approvalfy'].sort_values(ascending=True)\n",
        "year_default = df_default.groupby(['approvalfy'])\n",
        "year_nondefault = df_nondefault.groupby(['approvalfy'])"
      ],
      "execution_count": null,
      "outputs": [
        {
          "output_type": "stream",
          "text": [
            "/usr/local/lib/python3.6/dist-packages/ipykernel_launcher.py:1: SettingWithCopyWarning: \n",
            "A value is trying to be set on a copy of a slice from a DataFrame.\n",
            "Try using .loc[row_indexer,col_indexer] = value instead\n",
            "\n",
            "See the caveats in the documentation: https://pandas.pydata.org/pandas-docs/stable/user_guide/indexing.html#returning-a-view-versus-a-copy\n",
            "  \"\"\"Entry point for launching an IPython kernel.\n",
            "/usr/local/lib/python3.6/dist-packages/ipykernel_launcher.py:2: SettingWithCopyWarning: \n",
            "A value is trying to be set on a copy of a slice from a DataFrame.\n",
            "Try using .loc[row_indexer,col_indexer] = value instead\n",
            "\n",
            "See the caveats in the documentation: https://pandas.pydata.org/pandas-docs/stable/user_guide/indexing.html#returning-a-view-versus-a-copy\n",
            "  \n"
          ],
          "name": "stderr"
        }
      ]
    },
    {
      "cell_type": "code",
      "metadata": {
        "id": "lY1HUYznzW42"
      },
      "source": [
        "default = year_default['approvalfy'].count() /  (year_default['approvalfy'].count() + year_nondefault['approvalfy'].count())*100\n",
        "default = default.iloc[20:] #We only want 1990-2015"
      ],
      "execution_count": null,
      "outputs": []
    },
    {
      "cell_type": "code",
      "metadata": {
        "id": "Ie8vbIc1q7id",
        "outputId": "820de9f6-a7a9-474f-f671-48eb4f6fedec",
        "colab": {
          "base_uri": "https://localhost:8080/",
          "height": 611
        }
      },
      "source": [
        "fig = plt.figure(figsize=(12, 8)) \n",
        "ax = default.plot(kind='bar', legend=True, alpha=0.7, label='Default')\n",
        "fig.suptitle('Defaults Percentage Per Loan Approval Year', fontsize=20)\n",
        "plt.xlabel('Year', fontsize=16)\n",
        "plt.ylabel('Percentage', fontsize=16)\n",
        "plt.xticks(rotation=45, ticks = [0,5,10,15,20,25], labels=[1990,1995,2000,2005,2010,2015], fontsize=12)\n",
        "plt.yticks(fontsize=12)"
      ],
      "execution_count": null,
      "outputs": [
        {
          "output_type": "execute_result",
          "data": {
            "text/plain": [
              "(array([ 0.,  5., 10., 15., 20., 25., 30., 35., 40., 45.]),\n",
              " <a list of 10 Text major ticklabel objects>)"
            ]
          },
          "metadata": {
            "tags": []
          },
          "execution_count": 84
        },
        {
          "output_type": "display_data",
          "data": {
            "image/png": "[encoded data removed]",
            "text/plain": [
              "<Figure size 864x576 with 1 Axes>"
            ]
          },
          "metadata": {
            "tags": [],
            "needs_background": "light"
          }
        }
      ]
    },
    {
      "cell_type": "markdown",
      "metadata": {
        "id": "MlDH0OZUr6MR"
      },
      "source": [
        "Now let's look at defaults by term."
      ]
    },
    {
      "cell_type": "code",
      "metadata": {
        "id": "sbjWJCLer5Vh",
        "outputId": "3e264e11-aea8-4254-9ac9-e56d7277698f",
        "colab": {
          "base_uri": "https://localhost:8080/",
          "height": 836
        }
      },
      "source": [
        "fig, ax = plt.subplots(figsize=(25, 15))\n",
        "fig = sns.boxplot(x='default', y='term', data=df, showfliers=True)"
      ],
      "execution_count": null,
      "outputs": [
        {
          "output_type": "display_data",
          "data": {
            "image/png": "[encoded data removed]",
            "text/plain": [
              "<Figure size 1800x1080 with 1 Axes>"
            ]
          },
          "metadata": {
            "tags": [],
            "needs_background": "light"
          }
        }
      ]
    },
    {
      "cell_type": "markdown",
      "metadata": {
        "id": "zlEDF0J8seNB"
      },
      "source": [
        "Create a new column with the term in years instead of months"
      ]
    },
    {
      "cell_type": "code",
      "metadata": {
        "id": "7CFqfBSksdaj"
      },
      "source": [
        "df['termbyyears'] = df['term'] / 12"
      ],
      "execution_count": null,
      "outputs": []
    },
    {
      "cell_type": "code",
      "metadata": {
        "id": "RDfqJp_gslgi",
        "outputId": "cb8c2307-6c36-4bcc-9098-73e3b1094419",
        "colab": {
          "base_uri": "https://localhost:8080/",
          "height": 280
        }
      },
      "source": [
        "df['termbyyears'].plot(kind='hist')"
      ],
      "execution_count": null,
      "outputs": [
        {
          "output_type": "execute_result",
          "data": {
            "text/plain": [
              "<matplotlib.axes._subplots.AxesSubplot at 0x7fbe670245c0>"
            ]
          },
          "metadata": {
            "tags": []
          },
          "execution_count": 87
        },
        {
          "output_type": "display_data",
          "data": {
            "image/png": "[encoded data removed]",
            "text/plain": [
              "<Figure size 432x288 with 1 Axes>"
            ]
          },
          "metadata": {
            "tags": [],
            "needs_background": "light"
          }
        }
      ]
    },
    {
      "cell_type": "markdown",
      "metadata": {
        "id": "E_YAmK7usqaZ"
      },
      "source": [
        "Create a new column that rounds the term by years to nearest year in intervals of 5. We do this so our graphs will be a little easier to read."
      ]
    },
    {
      "cell_type": "code",
      "metadata": {
        "id": "OL61CfZdsnrF"
      },
      "source": [
        "def custom_round(x, base=5):\n",
        "    return int(base * round(float(x)/base))\n",
        "\n",
        "df['termbyyearsrounded5'] = df['termbyyears'].apply(lambda x: custom_round(x, base=5))"
      ],
      "execution_count": null,
      "outputs": []
    },
    {
      "cell_type": "code",
      "metadata": {
        "id": "b-WZ5THQs4OQ"
      },
      "source": [
        "default_by_term = df.groupby('termbyyearsrounded5')['default'].sum()"
      ],
      "execution_count": null,
      "outputs": []
    },
    {
      "cell_type": "code",
      "metadata": {
        "id": "irqhq0t_s5Ng",
        "outputId": "fe0d5075-3f32-49ed-9097-a63104e0b4a1",
        "colab": {
          "base_uri": "https://localhost:8080/",
          "height": 214
        }
      },
      "source": [
        "default_by_term"
      ],
      "execution_count": null,
      "outputs": [
        {
          "output_type": "execute_result",
          "data": {
            "text/plain": [
              "termbyyearsrounded5\n",
              "0     39194\n",
              "5     88914\n",
              "10    13307\n",
              "15     3505\n",
              "20     2997\n",
              "25      890\n",
              "30       30\n",
              "35       15\n",
              "40        1\n",
              "45        0\n",
              "Name: default, dtype: int64"
            ]
          },
          "metadata": {
            "tags": []
          },
          "execution_count": 108
        }
      ]
    },
    {
      "cell_type": "code",
      "metadata": {
        "id": "qIvJaJblJmai",
        "outputId": "725f0e35-037a-46a7-c67e-f02ee7be2714",
        "colab": {
          "base_uri": "https://localhost:8080/",
          "height": 352
        }
      },
      "source": [
        "default_by_term.reset_index()"
      ],
      "execution_count": null,
      "outputs": [
        {
          "output_type": "execute_result",
          "data": {
            "text/html": [
              "<div>\n",
              "<style scoped>\n",
              "    .dataframe tbody tr th:only-of-type {\n",
              "        vertical-align: middle;\n",
              "    }\n",
              "\n",
              "    .dataframe tbody tr th {\n",
              "        vertical-align: top;\n",
              "    }\n",
              "\n",
              "    .dataframe thead th {\n",
              "        text-align: right;\n",
              "    }\n",
              "</style>\n",
              "<table border=\"1\" class=\"dataframe\">\n",
              "  <thead>\n",
              "    <tr style=\"text-align: right;\">\n",
              "      <th></th>\n",
              "      <th>termbyyearsrounded5</th>\n",
              "      <th>default</th>\n",
              "    </tr>\n",
              "  </thead>\n",
              "  <tbody>\n",
              "    <tr>\n",
              "      <th>0</th>\n",
              "      <td>0</td>\n",
              "      <td>39194</td>\n",
              "    </tr>\n",
              "    <tr>\n",
              "      <th>1</th>\n",
              "      <td>5</td>\n",
              "      <td>88914</td>\n",
              "    </tr>\n",
              "    <tr>\n",
              "      <th>2</th>\n",
              "      <td>10</td>\n",
              "      <td>13307</td>\n",
              "    </tr>\n",
              "    <tr>\n",
              "      <th>3</th>\n",
              "      <td>15</td>\n",
              "      <td>3505</td>\n",
              "    </tr>\n",
              "    <tr>\n",
              "      <th>4</th>\n",
              "      <td>20</td>\n",
              "      <td>2997</td>\n",
              "    </tr>\n",
              "    <tr>\n",
              "      <th>5</th>\n",
              "      <td>25</td>\n",
              "      <td>890</td>\n",
              "    </tr>\n",
              "    <tr>\n",
              "      <th>6</th>\n",
              "      <td>30</td>\n",
              "      <td>30</td>\n",
              "    </tr>\n",
              "    <tr>\n",
              "      <th>7</th>\n",
              "      <td>35</td>\n",
              "      <td>15</td>\n",
              "    </tr>\n",
              "    <tr>\n",
              "      <th>8</th>\n",
              "      <td>40</td>\n",
              "      <td>1</td>\n",
              "    </tr>\n",
              "    <tr>\n",
              "      <th>9</th>\n",
              "      <td>45</td>\n",
              "      <td>0</td>\n",
              "    </tr>\n",
              "  </tbody>\n",
              "</table>\n",
              "</div>"
            ],
            "text/plain": [
              "   termbyyearsrounded5  default\n",
              "0                    0    39194\n",
              "1                    5    88914\n",
              "2                   10    13307\n",
              "3                   15     3505\n",
              "4                   20     2997\n",
              "5                   25      890\n",
              "6                   30       30\n",
              "7                   35       15\n",
              "8                   40        1\n",
              "9                   45        0"
            ]
          },
          "metadata": {
            "tags": []
          },
          "execution_count": 109
        }
      ]
    },
    {
      "cell_type": "code",
      "metadata": {
        "id": "OMZsqEPDs908",
        "outputId": "d2b02ab9-92e2-4d1c-fb1f-a3ac66d36097",
        "colab": {
          "base_uri": "https://localhost:8080/",
          "height": 518
        }
      },
      "source": [
        "ax = default_by_term.plot(kind='bar', figsize=(12, 8), title='Number of Defaults by Term in Years', grid=True)\n",
        "ax.set_xlabel('Length of Term in Years', fontsize=14)\n",
        "ax.set_ylabel('Number of Defaults');"
      ],
      "execution_count": null,
      "outputs": [
        {
          "output_type": "display_data",
          "data": {
            "image/png": "[encoded data removed]",
            "text/plain": [
              "<Figure size 864x576 with 1 Axes>"
            ]
          },
          "metadata": {
            "tags": [],
            "needs_background": "light"
          }
        }
      ]
    },
    {
      "cell_type": "code",
      "metadata": {
        "id": "hJBIErkrtOWY"
      },
      "source": [
        "df_0 = df[df['termbyyearsrounded5']==0]\n",
        "df_5 = df[df['termbyyearsrounded5']==5]\n",
        "df_10 = df[df['termbyyearsrounded5']==10]\n",
        "df_15 = df[df['termbyyearsrounded5']==15]\n",
        "df_20 = df[df['termbyyearsrounded5']==20]\n",
        "df_25 = df[df['termbyyearsrounded5']==25]\n",
        "df_30 = df[df['termbyyearsrounded5']==30]\n",
        "df_35 = df[df['termbyyearsrounded5']==35]\n",
        "df_40 = df[df['termbyyearsrounded5']==40]\n",
        "df_45 = df[df['termbyyearsrounded5']==45]"
      ],
      "execution_count": null,
      "outputs": []
    },
    {
      "cell_type": "code",
      "metadata": {
        "id": "zSxRK4YvuM39"
      },
      "source": [
        "default_by_term = default_by_term.reset_index()"
      ],
      "execution_count": null,
      "outputs": []
    },
    {
      "cell_type": "code",
      "metadata": {
        "id": "5KxYFUTBuiTv"
      },
      "source": [
        "default_by_term['default_percentage'] = default_by_term['default']"
      ],
      "execution_count": null,
      "outputs": []
    },
    {
      "cell_type": "code",
      "metadata": {
        "id": "vfj0Y37VuVC6"
      },
      "source": [
        "default_by_term['default_percentage'][0] = 100 * default_by_term['default'][0] / df_0.shape[0]\n",
        "default_by_term['default_percentage'][1] = 100 * default_by_term['default'][1] / df_5.shape[0]\n",
        "default_by_term['default_percentage'][2] = 100 * default_by_term['default'][2] / df_10.shape[0]\n",
        "default_by_term['default_percentage'][3] = 100 * default_by_term['default'][3] / df_15.shape[0]\n",
        "default_by_term['default_percentage'][4] = 100 * default_by_term['default'][4] / df_20.shape[0]\n",
        "default_by_term['default_percentage'][5] = 100 * default_by_term['default'][5] / df_25.shape[0]\n",
        "default_by_term['default_percentage'][6] = 100 * default_by_term['default'][6] / df_30.shape[0]\n",
        "default_by_term['default_percentage'][7] = 100 * default_by_term['default'][7] / df_35.shape[0]\n",
        "default_by_term['default_percentage'][8] = 100 * default_by_term['default'][8] / df_40.shape[0]\n",
        "default_by_term['default_percentage'][9] = 100 * default_by_term['default'][9] / df_45.shape[0]"
      ],
      "execution_count": null,
      "outputs": []
    },
    {
      "cell_type": "code",
      "metadata": {
        "id": "nHABDcKhulyy",
        "outputId": "a36fa1df-584c-48c9-9e20-da2dd616355d",
        "colab": {
          "base_uri": "https://localhost:8080/",
          "height": 352
        }
      },
      "source": [
        "default_by_term"
      ],
      "execution_count": null,
      "outputs": [
        {
          "output_type": "execute_result",
          "data": {
            "text/html": [
              "<div>\n",
              "<style scoped>\n",
              "    .dataframe tbody tr th:only-of-type {\n",
              "        vertical-align: middle;\n",
              "    }\n",
              "\n",
              "    .dataframe tbody tr th {\n",
              "        vertical-align: top;\n",
              "    }\n",
              "\n",
              "    .dataframe thead th {\n",
              "        text-align: right;\n",
              "    }\n",
              "</style>\n",
              "<table border=\"1\" class=\"dataframe\">\n",
              "  <thead>\n",
              "    <tr style=\"text-align: right;\">\n",
              "      <th></th>\n",
              "      <th>termbyyearsrounded5</th>\n",
              "      <th>default</th>\n",
              "      <th>default_percentage</th>\n",
              "    </tr>\n",
              "  </thead>\n",
              "  <tbody>\n",
              "    <tr>\n",
              "      <th>0</th>\n",
              "      <td>0</td>\n",
              "      <td>39194</td>\n",
              "      <td>54</td>\n",
              "    </tr>\n",
              "    <tr>\n",
              "      <th>1</th>\n",
              "      <td>5</td>\n",
              "      <td>88914</td>\n",
              "      <td>18</td>\n",
              "    </tr>\n",
              "    <tr>\n",
              "      <th>2</th>\n",
              "      <td>10</td>\n",
              "      <td>13307</td>\n",
              "      <td>10</td>\n",
              "    </tr>\n",
              "    <tr>\n",
              "      <th>3</th>\n",
              "      <td>15</td>\n",
              "      <td>3505</td>\n",
              "      <td>8</td>\n",
              "    </tr>\n",
              "    <tr>\n",
              "      <th>4</th>\n",
              "      <td>20</td>\n",
              "      <td>2997</td>\n",
              "      <td>2</td>\n",
              "    </tr>\n",
              "    <tr>\n",
              "      <th>5</th>\n",
              "      <td>25</td>\n",
              "      <td>890</td>\n",
              "      <td>1</td>\n",
              "    </tr>\n",
              "    <tr>\n",
              "      <th>6</th>\n",
              "      <td>30</td>\n",
              "      <td>30</td>\n",
              "      <td>15</td>\n",
              "    </tr>\n",
              "    <tr>\n",
              "      <th>7</th>\n",
              "      <td>35</td>\n",
              "      <td>15</td>\n",
              "      <td>46</td>\n",
              "    </tr>\n",
              "    <tr>\n",
              "      <th>8</th>\n",
              "      <td>40</td>\n",
              "      <td>1</td>\n",
              "      <td>25</td>\n",
              "    </tr>\n",
              "    <tr>\n",
              "      <th>9</th>\n",
              "      <td>45</td>\n",
              "      <td>0</td>\n",
              "      <td>0</td>\n",
              "    </tr>\n",
              "  </tbody>\n",
              "</table>\n",
              "</div>"
            ],
            "text/plain": [
              "   termbyyearsrounded5  default  default_percentage\n",
              "0                    0    39194                  54\n",
              "1                    5    88914                  18\n",
              "2                   10    13307                  10\n",
              "3                   15     3505                   8\n",
              "4                   20     2997                   2\n",
              "5                   25      890                   1\n",
              "6                   30       30                  15\n",
              "7                   35       15                  46\n",
              "8                   40        1                  25\n",
              "9                   45        0                   0"
            ]
          },
          "metadata": {
            "tags": []
          },
          "execution_count": 115
        }
      ]
    },
    {
      "cell_type": "markdown",
      "metadata": {
        "id": "ZNPGF_h3IArm"
      },
      "source": [
        "Now we will select only the terms that have more than 50 loans so we can get a more accurate representation."
      ]
    },
    {
      "cell_type": "code",
      "metadata": {
        "id": "9RtCXck0HZZo"
      },
      "source": [
        "default_by_term = default_by_term[default_by_term['default'] > 50]"
      ],
      "execution_count": null,
      "outputs": []
    },
    {
      "cell_type": "code",
      "metadata": {
        "id": "1a44YidVH9tR",
        "outputId": "4eaa2f3c-e2c3-48b6-d5e5-aaf33991a8f5",
        "colab": {
          "base_uri": "https://localhost:8080/",
          "height": 231
        }
      },
      "source": [
        "default_by_term"
      ],
      "execution_count": null,
      "outputs": [
        {
          "output_type": "execute_result",
          "data": {
            "text/html": [
              "<div>\n",
              "<style scoped>\n",
              "    .dataframe tbody tr th:only-of-type {\n",
              "        vertical-align: middle;\n",
              "    }\n",
              "\n",
              "    .dataframe tbody tr th {\n",
              "        vertical-align: top;\n",
              "    }\n",
              "\n",
              "    .dataframe thead th {\n",
              "        text-align: right;\n",
              "    }\n",
              "</style>\n",
              "<table border=\"1\" class=\"dataframe\">\n",
              "  <thead>\n",
              "    <tr style=\"text-align: right;\">\n",
              "      <th></th>\n",
              "      <th>termbyyearsrounded5</th>\n",
              "      <th>default</th>\n",
              "      <th>default_percentage</th>\n",
              "    </tr>\n",
              "  </thead>\n",
              "  <tbody>\n",
              "    <tr>\n",
              "      <th>0</th>\n",
              "      <td>0</td>\n",
              "      <td>39194</td>\n",
              "      <td>54</td>\n",
              "    </tr>\n",
              "    <tr>\n",
              "      <th>1</th>\n",
              "      <td>5</td>\n",
              "      <td>88914</td>\n",
              "      <td>18</td>\n",
              "    </tr>\n",
              "    <tr>\n",
              "      <th>2</th>\n",
              "      <td>10</td>\n",
              "      <td>13307</td>\n",
              "      <td>10</td>\n",
              "    </tr>\n",
              "    <tr>\n",
              "      <th>3</th>\n",
              "      <td>15</td>\n",
              "      <td>3505</td>\n",
              "      <td>8</td>\n",
              "    </tr>\n",
              "    <tr>\n",
              "      <th>4</th>\n",
              "      <td>20</td>\n",
              "      <td>2997</td>\n",
              "      <td>2</td>\n",
              "    </tr>\n",
              "    <tr>\n",
              "      <th>5</th>\n",
              "      <td>25</td>\n",
              "      <td>890</td>\n",
              "      <td>1</td>\n",
              "    </tr>\n",
              "  </tbody>\n",
              "</table>\n",
              "</div>"
            ],
            "text/plain": [
              "   termbyyearsrounded5  default  default_percentage\n",
              "0                    0    39194                  54\n",
              "1                    5    88914                  18\n",
              "2                   10    13307                  10\n",
              "3                   15     3505                   8\n",
              "4                   20     2997                   2\n",
              "5                   25      890                   1"
            ]
          },
          "metadata": {
            "tags": []
          },
          "execution_count": 117
        }
      ]
    },
    {
      "cell_type": "code",
      "metadata": {
        "id": "ikgfD9WIupx_",
        "outputId": "03670892-85a6-4ee8-882b-0665ad47efb0",
        "colab": {
          "base_uri": "https://localhost:8080/",
          "height": 518
        }
      },
      "source": [
        "ax = default_by_term.plot(kind='bar', x='termbyyearsrounded5', y='default_percentage', title='Percentage of Defaults by Term in Years', figsize=(12, 8), grid=True, legend=False)\n",
        "ax.set_xlabel('Length of Term in Years', fontsize=14)\n",
        "ax.set_ylabel('Percentage of Defaults per Term', fontsize=14);\n"
      ],
      "execution_count": null,
      "outputs": [
        {
          "output_type": "display_data",
          "data": {
            "image/png": "[encoded data removed]",
            "text/plain": [
              "<Figure size 864x576 with 1 Axes>"
            ]
          },
          "metadata": {
            "tags": [],
            "needs_background": "light"
          }
        }
      ]
    },
    {
      "cell_type": "markdown",
      "metadata": {
        "id": "6EAnUGiautGK"
      },
      "source": [
        "An interpretation of this graph is that 54% of all loans with a term of 0 years (rounded) defaulted, 18% of all loans with a term of about 5 years (rounded) defaulted, etc."
      ]
    },
    {
      "cell_type": "markdown",
      "metadata": {
        "id": "_i_tnNSzw6Lc"
      },
      "source": [
        "Next let's look at franchise. Since we could not find what each franchise code meant, we will create a new column for whether or not the business is a franchise (0 = not a franchise, 1 = franchise)"
      ]
    },
    {
      "cell_type": "code",
      "metadata": {
        "id": "uF4bzBxOwIKI"
      },
      "source": [
        "df['franchise'] = df['franchisecode']"
      ],
      "execution_count": null,
      "outputs": []
    },
    {
      "cell_type": "code",
      "metadata": {
        "id": "WaPCnIQtyCWY"
      },
      "source": [
        "df['franchise'] = df['franchise'].replace(1, 0)"
      ],
      "execution_count": null,
      "outputs": []
    },
    {
      "cell_type": "code",
      "metadata": {
        "id": "Zq8mgHD5yHeX"
      },
      "source": [
        "df['franchise'] = df['franchise'].where(df['franchise'] == 0, 1)"
      ],
      "execution_count": null,
      "outputs": []
    },
    {
      "cell_type": "code",
      "metadata": {
        "id": "Nd52a5mZyLx6",
        "outputId": "e7dfd984-db98-4fc2-ab24-7b41f4ffa587",
        "colab": {
          "base_uri": "https://localhost:8080/",
          "height": 68
        }
      },
      "source": [
        "df['franchise'].value_counts()"
      ],
      "execution_count": null,
      "outputs": [
        {
          "output_type": "execute_result",
          "data": {
            "text/plain": [
              "0    816199\n",
              "1     50713\n",
              "Name: franchise, dtype: int64"
            ]
          },
          "metadata": {
            "tags": []
          },
          "execution_count": 103
        }
      ]
    },
    {
      "cell_type": "code",
      "metadata": {
        "id": "YI39p5UdK8ck"
      },
      "source": [
        "franchise = df[df['franchise']==1]\n",
        "nonfranchise = df[df['franchise']==0]"
      ],
      "execution_count": null,
      "outputs": []
    },
    {
      "cell_type": "code",
      "metadata": {
        "id": "MAaCXU6pyTOM"
      },
      "source": [
        "franchise_default = df.groupby('franchise')['default'].sum()"
      ],
      "execution_count": null,
      "outputs": []
    },
    {
      "cell_type": "code",
      "metadata": {
        "id": "LL5PJzW7yVlA",
        "outputId": "3161af3d-c02a-4adb-d1bd-efa4db3b0b99",
        "colab": {
          "base_uri": "https://localhost:8080/",
          "height": 85
        }
      },
      "source": [
        "franchise_default"
      ],
      "execution_count": null,
      "outputs": [
        {
          "output_type": "execute_result",
          "data": {
            "text/plain": [
              "franchise\n",
              "0    141148\n",
              "1      7705\n",
              "Name: default, dtype: int64"
            ]
          },
          "metadata": {
            "tags": []
          },
          "execution_count": 106
        }
      ]
    },
    {
      "cell_type": "code",
      "metadata": {
        "id": "VQk0iarhKs7q"
      },
      "source": [
        "franchise_default = franchise_default.reset_index()"
      ],
      "execution_count": null,
      "outputs": []
    },
    {
      "cell_type": "code",
      "metadata": {
        "id": "EJ8Qo73JKyJ8"
      },
      "source": [
        "franchise_default['default percentages'] = franchise_default['default']"
      ],
      "execution_count": null,
      "outputs": []
    },
    {
      "cell_type": "code",
      "metadata": {
        "id": "MaGHhFQBKypE"
      },
      "source": [
        "franchise_default['default percentages'][0] = 100 * franchise_default['default'][0] / nonfranchise.shape[0] \n",
        "franchise_default['default percentages'][1] = 100 * franchise_default['default'][1] / franchise.shape[0] "
      ],
      "execution_count": null,
      "outputs": []
    },
    {
      "cell_type": "code",
      "metadata": {
        "id": "BH0WjkSlKzG6",
        "outputId": "449fe846-e5fd-4ed4-9dc7-adfb289f904e",
        "colab": {
          "base_uri": "https://localhost:8080/",
          "height": 111
        }
      },
      "source": [
        "franchise_default"
      ],
      "execution_count": null,
      "outputs": [
        {
          "output_type": "execute_result",
          "data": {
            "text/html": [
              "<div>\n",
              "<style scoped>\n",
              "    .dataframe tbody tr th:only-of-type {\n",
              "        vertical-align: middle;\n",
              "    }\n",
              "\n",
              "    .dataframe tbody tr th {\n",
              "        vertical-align: top;\n",
              "    }\n",
              "\n",
              "    .dataframe thead th {\n",
              "        text-align: right;\n",
              "    }\n",
              "</style>\n",
              "<table border=\"1\" class=\"dataframe\">\n",
              "  <thead>\n",
              "    <tr style=\"text-align: right;\">\n",
              "      <th></th>\n",
              "      <th>franchise</th>\n",
              "      <th>default</th>\n",
              "      <th>default percentages</th>\n",
              "    </tr>\n",
              "  </thead>\n",
              "  <tbody>\n",
              "    <tr>\n",
              "      <th>0</th>\n",
              "      <td>0</td>\n",
              "      <td>141148</td>\n",
              "      <td>17</td>\n",
              "    </tr>\n",
              "    <tr>\n",
              "      <th>1</th>\n",
              "      <td>1</td>\n",
              "      <td>7705</td>\n",
              "      <td>15</td>\n",
              "    </tr>\n",
              "  </tbody>\n",
              "</table>\n",
              "</div>"
            ],
            "text/plain": [
              "   franchise  default  default percentages\n",
              "0          0   141148                   17\n",
              "1          1     7705                   15"
            ]
          },
          "metadata": {
            "tags": []
          },
          "execution_count": 110
        }
      ]
    },
    {
      "cell_type": "markdown",
      "metadata": {
        "id": "JdhtBiHWMDEL"
      },
      "source": [
        "After seeing whether a business was a franchise or not, we calculated how many of them defaulted, and calculated the corresponding percentages."
      ]
    },
    {
      "cell_type": "code",
      "metadata": {
        "id": "pLu_eKZeyoyZ",
        "outputId": "99efdcfa-14cb-41d6-9e61-8afd672e12c6",
        "colab": {
          "base_uri": "https://localhost:8080/",
          "height": 509
        }
      },
      "source": [
        "ax = franchise_default.plot(kind='bar', x='franchise', y='default percentages', figsize=(12, 8), title='Percentages of Defaults for Franchises and Non-Franchises', grid=True, legend=False)\n",
        "ax.set_xlabel('Non-Franchise(0) or Franchise(1)')\n",
        "ax.set_ylabel('Percentage of Defaults');"
      ],
      "execution_count": null,
      "outputs": [
        {
          "output_type": "display_data",
          "data": {
            "image/png": "[encoded data removed]",
            "text/plain": [
              "<Figure size 864x576 with 1 Axes>"
            ]
          },
          "metadata": {
            "tags": [],
            "needs_background": "light"
          }
        }
      ]
    },
    {
      "cell_type": "code",
      "metadata": {
        "id": "pc_TVhwrzHUF"
      },
      "source": [
        "franchise_default = franchise[franchise['default']==1]\n",
        "nonfranchise_default = nonfranchise[nonfranchise['default']==1]"
      ],
      "execution_count": null,
      "outputs": []
    },
    {
      "cell_type": "code",
      "metadata": {
        "id": "pYdquxDWzS1l",
        "outputId": "c884c5d1-e984-43ff-db9a-c400ed7c38ce",
        "colab": {
          "base_uri": "https://localhost:8080/",
          "height": 34
        }
      },
      "source": [
        "print(f'Percent of franchises that defaulted: {100 * franchise_default.shape[0] / franchise.shape[0]:.2f}%')"
      ],
      "execution_count": null,
      "outputs": [
        {
          "output_type": "stream",
          "text": [
            "Percent of franchises that defaulted: 15.19%\n"
          ],
          "name": "stdout"
        }
      ]
    },
    {
      "cell_type": "code",
      "metadata": {
        "id": "0LWcvT9fzXvx",
        "outputId": "9ba4665e-edbf-49ba-87cd-96ff7a94c741",
        "colab": {
          "base_uri": "https://localhost:8080/",
          "height": 52
        }
      },
      "source": [
        "print(f'Percent of nonfranchises that defaulted: {100 * nonfranchise_default.shape[0] / nonfranchise.shape[0]:.2f}%')"
      ],
      "execution_count": null,
      "outputs": [
        {
          "output_type": "stream",
          "text": [
            "Percent of nonfranchises that defaulted: 17.29%\n"
          ],
          "name": "stdout"
        }
      ]
    },
    {
      "cell_type": "markdown",
      "metadata": {
        "id": "elMeOuiiGFRo"
      },
      "source": [
        "# Trying out Models"
      ]
    },
    {
      "cell_type": "markdown",
      "metadata": {
        "id": "LdigCXJgGKlJ"
      },
      "source": [
        "###Logistic Regression###"
      ]
    },
    {
      "cell_type": "code",
      "metadata": {
        "id": "CwdTfuVUMe04"
      },
      "source": [
        "clf1 = LogisticRegression()"
      ],
      "execution_count": null,
      "outputs": []
    },
    {
      "cell_type": "code",
      "metadata": {
        "id": "UBtZzlkzMkhf"
      },
      "source": [
        "train, test = train_test_split(df, test_size=0.3, random_state=0)"
      ],
      "execution_count": null,
      "outputs": []
    },
    {
      "cell_type": "markdown",
      "metadata": {
        "id": "_qsHmsa6M6zR"
      },
      "source": [
        "Let's check if our data is imbalanced."
      ]
    },
    {
      "cell_type": "code",
      "metadata": {
        "id": "4hSzc4pvMpB0",
        "outputId": "3a0a1bad-f3c4-47ba-dbc7-cb9f2903f30c",
        "colab": {
          "base_uri": "https://localhost:8080/",
          "height": 65
        }
      },
      "source": [
        "train['default'].value_counts()"
      ],
      "execution_count": null,
      "outputs": [
        {
          "output_type": "execute_result",
          "data": {
            "text/plain": [
              "0    503015\n",
              "1    103823\n",
              "Name: default, dtype: int64"
            ]
          },
          "metadata": {
            "tags": []
          },
          "execution_count": 114
        }
      ]
    },
    {
      "cell_type": "markdown",
      "metadata": {
        "id": "NNN7Kvi_M94l"
      },
      "source": [
        "Let's undersample our data."
      ]
    },
    {
      "cell_type": "code",
      "metadata": {
        "id": "SQZmEzI2MyXq"
      },
      "source": [
        "train_no_df = train[train['default'] == 0]\n",
        "train_no_df = train_no_df.sample(103823)\n",
        "\n",
        "train_yes_df = train[train['default'] == 1]\n",
        "\n",
        "train = pd.concat([train_no_df, train_yes_df])"
      ],
      "execution_count": null,
      "outputs": []
    },
    {
      "cell_type": "code",
      "metadata": {
        "id": "nBwp9-zsM4bo",
        "outputId": "cab7cded-ceba-47b8-c42b-53fcf066745b",
        "colab": {
          "base_uri": "https://localhost:8080/",
          "height": 65
        }
      },
      "source": [
        "train['default'].value_counts()"
      ],
      "execution_count": null,
      "outputs": [
        {
          "output_type": "execute_result",
          "data": {
            "text/plain": [
              "1    103823\n",
              "0    103823\n",
              "Name: default, dtype: int64"
            ]
          },
          "metadata": {
            "tags": []
          },
          "execution_count": 116
        }
      ]
    },
    {
      "cell_type": "code",
      "metadata": {
        "id": "RB9nVgXVNFT0",
        "outputId": "0bca6f42-e725-45a7-c93c-0e20507ce0dc",
        "colab": {
          "base_uri": "https://localhost:8080/",
          "height": 131
        }
      },
      "source": [
        "train.columns"
      ],
      "execution_count": null,
      "outputs": [
        {
          "output_type": "execute_result",
          "data": {
            "text/plain": [
              "Index(['loannr_chkdgt', 'name', 'city', 'state', 'zip', 'bank', 'bankstate',\n",
              "       'approvaldate', 'approvalfy', 'term', 'noemp', 'newexist', 'createjob',\n",
              "       'retainedjob', 'franchisecode', 'urbanrural', 'revlinecr', 'lowdoc',\n",
              "       'disbursementdate', 'disbursementgross', 'chgoffpringr', 'grappv',\n",
              "       'sba_appv', 'default', 'industry', 'termbyyears', 'termbyyearsrounded5',\n",
              "       'franchise'],\n",
              "      dtype='object')"
            ]
          },
          "metadata": {
            "tags": []
          },
          "execution_count": 117
        }
      ]
    },
    {
      "cell_type": "code",
      "metadata": {
        "id": "Tdo9V5UVNA0P"
      },
      "source": [
        "feat_cols = ['term', 'noemp', 'createjob', 'retainedjob', 'disbursementgross', 'grappv', 'sba_appv']\n",
        "target_col = 'default'\n",
        "\n",
        "X_train = train[feat_cols]\n",
        "y_train = train[target_col]\n",
        "\n",
        "X_test = test[feat_cols]\n",
        "y_test = test[target_col]"
      ],
      "execution_count": null,
      "outputs": []
    },
    {
      "cell_type": "markdown",
      "metadata": {
        "id": "OCAnAKwqU2PW"
      },
      "source": [
        "Fit the model"
      ]
    },
    {
      "cell_type": "code",
      "metadata": {
        "id": "tCKiByfZNuEO",
        "outputId": "7796eb11-0fa0-4b48-c316-371b0d26f5d8",
        "colab": {
          "base_uri": "https://localhost:8080/",
          "height": 98
        }
      },
      "source": [
        "clf1.fit(X_train, y_train)"
      ],
      "execution_count": null,
      "outputs": [
        {
          "output_type": "execute_result",
          "data": {
            "text/plain": [
              "LogisticRegression(C=1.0, class_weight=None, dual=False, fit_intercept=True,\n",
              "                   intercept_scaling=1, l1_ratio=None, max_iter=100,\n",
              "                   multi_class='auto', n_jobs=None, penalty='l2',\n",
              "                   random_state=None, solver='lbfgs', tol=0.0001, verbose=0,\n",
              "                   warm_start=False)"
            ]
          },
          "metadata": {
            "tags": []
          },
          "execution_count": 119
        }
      ]
    },
    {
      "cell_type": "markdown",
      "metadata": {
        "id": "t2ZmcBmvU7lK"
      },
      "source": [
        "Test the model"
      ]
    },
    {
      "cell_type": "code",
      "metadata": {
        "id": "X-Q8hHKKN-us",
        "outputId": "3c7f2d53-8cf8-464e-b0d7-8fd04bb10b12",
        "colab": {
          "base_uri": "https://localhost:8080/",
          "height": 181
        }
      },
      "source": [
        "test_preds = clf1.predict(X_test)\n",
        "\n",
        "for i in range(10):\n",
        "    # We use [i] for test_pred because it's a list\n",
        "    # We use .iloc[i] for y_test because it's a Pandas Series/DataFrame\n",
        "    print(f'Predicted = {test_preds[i]}, Actual = {y_test.iloc[i]}')"
      ],
      "execution_count": null,
      "outputs": [
        {
          "output_type": "stream",
          "text": [
            "Predicted = 1, Actual = 1\n",
            "Predicted = 0, Actual = 0\n",
            "Predicted = 0, Actual = 0\n",
            "Predicted = 0, Actual = 1\n",
            "Predicted = 0, Actual = 0\n",
            "Predicted = 0, Actual = 1\n",
            "Predicted = 0, Actual = 0\n",
            "Predicted = 0, Actual = 0\n",
            "Predicted = 1, Actual = 1\n",
            "Predicted = 0, Actual = 0\n"
          ],
          "name": "stdout"
        }
      ]
    },
    {
      "cell_type": "markdown",
      "metadata": {
        "id": "4rGLOwQYU-H8"
      },
      "source": [
        "Calculate the probabilities"
      ]
    },
    {
      "cell_type": "code",
      "metadata": {
        "id": "-gsFzehHODq7",
        "outputId": "16c7f4a7-47e4-452c-dbc3-e8feb33e1bc5",
        "colab": {
          "base_uri": "https://localhost:8080/",
          "height": 181
        }
      },
      "source": [
        "test_pred_proba = clf1.predict_proba(X_test)\n",
        "\n",
        "for i in range(10):\n",
        "    # We use [i] for test_pred because it's a list (actually a numpy array, basically the same thing)\n",
        "    # We use .iloc[i] for y_test because it's a Pandas Series/DataFrame\n",
        "    print(f'Predicted: P(\"0\") = {test_pred_proba[i][0]:.3f}, P(\"1\") = {test_pred_proba[i][1]:.3f}, Actual = {y_test.iloc[i]}')"
      ],
      "execution_count": null,
      "outputs": [
        {
          "output_type": "stream",
          "text": [
            "Predicted: P(\"0\") = 0.462, P(\"1\") = 0.538, Actual = 1\n",
            "Predicted: P(\"0\") = 0.695, P(\"1\") = 0.305, Actual = 0\n",
            "Predicted: P(\"0\") = 0.685, P(\"1\") = 0.315, Actual = 0\n",
            "Predicted: P(\"0\") = 0.527, P(\"1\") = 0.473, Actual = 1\n",
            "Predicted: P(\"0\") = 0.632, P(\"1\") = 0.368, Actual = 0\n",
            "Predicted: P(\"0\") = 0.558, P(\"1\") = 0.442, Actual = 1\n",
            "Predicted: P(\"0\") = 0.598, P(\"1\") = 0.402, Actual = 0\n",
            "Predicted: P(\"0\") = 0.666, P(\"1\") = 0.334, Actual = 0\n",
            "Predicted: P(\"0\") = 0.487, P(\"1\") = 0.513, Actual = 1\n",
            "Predicted: P(\"0\") = 0.640, P(\"1\") = 0.360, Actual = 0\n"
          ],
          "name": "stdout"
        }
      ]
    },
    {
      "cell_type": "code",
      "metadata": {
        "id": "50wpqbaYOJH9",
        "outputId": "15130278-72d3-4249-97c5-3b9ff55e507a",
        "colab": {
          "base_uri": "https://localhost:8080/",
          "height": 65
        }
      },
      "source": [
        "pd.Series(test_preds).value_counts()"
      ],
      "execution_count": null,
      "outputs": [
        {
          "output_type": "execute_result",
          "data": {
            "text/plain": [
              "0    239370\n",
              "1     20704\n",
              "dtype: int64"
            ]
          },
          "metadata": {
            "tags": []
          },
          "execution_count": 122
        }
      ]
    },
    {
      "cell_type": "markdown",
      "metadata": {
        "id": "KHQBD4K5VENb"
      },
      "source": [
        "Calculating how many times our model was correct (when predicitions are the same as the test set)"
      ]
    },
    {
      "cell_type": "code",
      "metadata": {
        "id": "NBRKGJ_xOMQt",
        "outputId": "e9a0e59a-9791-4dd5-9972-4562556a8296",
        "colab": {
          "base_uri": "https://localhost:8080/",
          "height": 32
        }
      },
      "source": [
        "correct = 0\n",
        "for i in range(y_test.shape[0]):\n",
        "    if test_preds[i] == y_test.iloc[i]:\n",
        "        correct += 1\n",
        "        \n",
        "print(f'Correct {correct} times ({100 * correct / y_test.shape[0]:.2f}%)')"
      ],
      "execution_count": null,
      "outputs": [
        {
          "output_type": "stream",
          "text": [
            "Correct 211452 times (81.30%)\n"
          ],
          "name": "stdout"
        }
      ]
    },
    {
      "cell_type": "code",
      "metadata": {
        "id": "eIWDa81HOa2O",
        "outputId": "0386043f-d3d5-48aa-e5ab-4b9ec8ece6fc",
        "colab": {
          "base_uri": "https://localhost:8080/",
          "height": 65
        }
      },
      "source": [
        "clf1.coef_"
      ],
      "execution_count": null,
      "outputs": [
        {
          "output_type": "execute_result",
          "data": {
            "text/plain": [
              "array([[-6.81267893e-03, -2.99860481e-04,  2.83201288e-05,\n",
              "         2.21378167e-04,  2.71040752e-06,  2.39332393e-06,\n",
              "        -5.74221035e-06]])"
            ]
          },
          "metadata": {
            "tags": []
          },
          "execution_count": 126
        }
      ]
    },
    {
      "cell_type": "code",
      "metadata": {
        "id": "DZ3RDFkKOcgN",
        "outputId": "c68c7191-945b-4e33-9baa-0bd6f45c0dcc",
        "colab": {
          "base_uri": "https://localhost:8080/",
          "height": 164
        }
      },
      "source": [
        "print(classification_report(y_test, test_preds))"
      ],
      "execution_count": null,
      "outputs": [
        {
          "output_type": "stream",
          "text": [
            "              precision    recall  f1-score   support\n",
            "\n",
            "           0       0.85      0.94      0.89    215044\n",
            "           1       0.41      0.19      0.26     45030\n",
            "\n",
            "    accuracy                           0.81    260074\n",
            "   macro avg       0.63      0.57      0.58    260074\n",
            "weighted avg       0.77      0.81      0.78    260074\n",
            "\n"
          ],
          "name": "stdout"
        }
      ]
    },
    {
      "cell_type": "markdown",
      "metadata": {
        "id": "AwQeitGIVoDD"
      },
      "source": [
        "For 0 (did not default):\n",
        "- 85% precision: out of the businesses we predicted will not default, 85% of them actually did not\n",
        "- 94% recall: out of the businesses who actually did not default, 94% of them did we predict would not default\n",
        "- 89% f1-score: the harmonic mean rather than the normal mean of precision and recall for not default\n",
        "\n",
        "For 1 (default):\n",
        "- 41% precision: out of the businesses we predicted will default, 41% of them actually did\n",
        "- 19% recall: out of the businesses who actually did default, 19% of them did we predict would default\n",
        "- 26% f1-score: the harmonic mean rather than the normal mean of precision and recall for default\n",
        "\n",
        "In general, the model preformed better on predicting the businesses who did not default as seen in the higher precision, recall, and f1-score."
      ]
    },
    {
      "cell_type": "markdown",
      "metadata": {
        "id": "HWe-dRixMptc"
      },
      "source": [
        "Now let's encode our columns just to see what happens. Then we just repeat the process above."
      ]
    },
    {
      "cell_type": "code",
      "metadata": {
        "id": "hDU_rYoT7lfe"
      },
      "source": [
        "df_encoded = df.copy()"
      ],
      "execution_count": null,
      "outputs": []
    },
    {
      "cell_type": "code",
      "metadata": {
        "id": "ykoIPRw27rfb"
      },
      "source": [
        "for c in df_encoded.columns:\n",
        "    if df_encoded[c].dtype == object:\n",
        "        try:\n",
        "            le = LabelEncoder()\n",
        "            le.fit(df_encoded[c].unique())\n",
        "            df_encoded[c] = le.transform(df_encoded[c])\n",
        "        except Exception as e:\n",
        "            print(c)\n",
        "            print(e)"
      ],
      "execution_count": null,
      "outputs": []
    },
    {
      "cell_type": "code",
      "metadata": {
        "id": "JBEFrT469DYq"
      },
      "source": [
        "le = LabelEncoder()\n",
        "le.fit(df_encoded['approvaldate'].unique())\n",
        "df_encoded['approvaldate'] = le.transform(df_encoded['approvaldate'])"
      ],
      "execution_count": null,
      "outputs": []
    },
    {
      "cell_type": "code",
      "metadata": {
        "id": "LDSNIL7k9GJf"
      },
      "source": [
        "le = LabelEncoder()\n",
        "le.fit(df_encoded['disbursementdate'].unique())\n",
        "df_encoded['disbursementdate'] = le.transform(df_encoded['disbursementdate'])"
      ],
      "execution_count": null,
      "outputs": []
    },
    {
      "cell_type": "code",
      "metadata": {
        "id": "lz8UU16rGV4j"
      },
      "source": [
        "clf = LogisticRegression(max_iter=10000)"
      ],
      "execution_count": null,
      "outputs": []
    },
    {
      "cell_type": "code",
      "metadata": {
        "id": "EGmAk4228HCW"
      },
      "source": [
        "train, test = train_test_split(df_encoded, test_size=0.3, random_state=0)"
      ],
      "execution_count": null,
      "outputs": []
    },
    {
      "cell_type": "code",
      "metadata": {
        "id": "BtYvNSZG8Krs",
        "outputId": "e71a3a7b-0c60-4a3a-cffa-c6eec1805dd5",
        "colab": {
          "base_uri": "https://localhost:8080/",
          "height": 65
        }
      },
      "source": [
        "train['default'].value_counts()"
      ],
      "execution_count": null,
      "outputs": [
        {
          "output_type": "execute_result",
          "data": {
            "text/plain": [
              "0    503015\n",
              "1    103823\n",
              "Name: default, dtype: int64"
            ]
          },
          "metadata": {
            "tags": []
          },
          "execution_count": 134
        }
      ]
    },
    {
      "cell_type": "code",
      "metadata": {
        "id": "Hf6-MGHb8Nvr"
      },
      "source": [
        "train_no_df = train[train['default'] == 0]\n",
        "train_no_df = train_no_df.sample(103823)\n",
        "\n",
        "train_yes_df = train[train['default'] == 1]\n",
        "\n",
        "train = pd.concat([train_no_df, train_yes_df])"
      ],
      "execution_count": null,
      "outputs": []
    },
    {
      "cell_type": "code",
      "metadata": {
        "id": "dMD1xbQQ8Tow",
        "outputId": "768e9339-b945-4a34-d53e-fba77a4b895c",
        "colab": {
          "base_uri": "https://localhost:8080/",
          "height": 65
        }
      },
      "source": [
        "train['default'].value_counts()"
      ],
      "execution_count": null,
      "outputs": [
        {
          "output_type": "execute_result",
          "data": {
            "text/plain": [
              "1    103823\n",
              "0    103823\n",
              "Name: default, dtype: int64"
            ]
          },
          "metadata": {
            "tags": []
          },
          "execution_count": 136
        }
      ]
    },
    {
      "cell_type": "code",
      "metadata": {
        "id": "HLfxJfA2-3ho",
        "outputId": "7c096f03-69c2-4de6-b657-9b3f0282ad37",
        "colab": {
          "base_uri": "https://localhost:8080/",
          "height": 32
        }
      },
      "source": [
        "train.shape"
      ],
      "execution_count": null,
      "outputs": [
        {
          "output_type": "execute_result",
          "data": {
            "text/plain": [
              "(207646, 28)"
            ]
          },
          "metadata": {
            "tags": []
          },
          "execution_count": 137
        }
      ]
    },
    {
      "cell_type": "code",
      "metadata": {
        "id": "jww8qHGJ8cd6"
      },
      "source": [
        "feat_cols = ['city', 'state', 'zip', 'bank', 'bankstate', 'approvaldate', 'approvalfy', 'term', 'noemp', 'newexist', 'createjob', \n",
        "             'retainedjob', 'franchisecode', 'urbanrural', 'revlinecr', 'lowdoc', 'disbursementdate', 'disbursementgross', 'grappv', 'sba_appv', 'industry']\n",
        "target_col = 'default'\n",
        "\n",
        "X_train = train[feat_cols]\n",
        "y_train = train[target_col]\n",
        "\n",
        "X_test = test[feat_cols]\n",
        "y_test = test[target_col]"
      ],
      "execution_count": null,
      "outputs": []
    },
    {
      "cell_type": "code",
      "metadata": {
        "id": "yjviTtUH_EhC",
        "outputId": "86e2f94a-c71a-48dd-87a2-e1d0487476e1",
        "colab": {
          "base_uri": "https://localhost:8080/",
          "height": 98
        }
      },
      "source": [
        "clf.fit(X_train, y_train)"
      ],
      "execution_count": null,
      "outputs": [
        {
          "output_type": "execute_result",
          "data": {
            "text/plain": [
              "LogisticRegression(C=1.0, class_weight=None, dual=False, fit_intercept=True,\n",
              "                   intercept_scaling=1, l1_ratio=None, max_iter=10000,\n",
              "                   multi_class='auto', n_jobs=None, penalty='l2',\n",
              "                   random_state=None, solver='lbfgs', tol=0.0001, verbose=0,\n",
              "                   warm_start=False)"
            ]
          },
          "metadata": {
            "tags": []
          },
          "execution_count": 139
        }
      ]
    },
    {
      "cell_type": "code",
      "metadata": {
        "id": "-3icdMSN9M_Q",
        "outputId": "72dad3f9-ab8e-4697-97b3-d6f1e6be71a8",
        "colab": {
          "base_uri": "https://localhost:8080/",
          "height": 181
        }
      },
      "source": [
        "test_preds = clf.predict(X_test)\n",
        "\n",
        "for i in range(10):\n",
        "    # We use [i] for test_pred because it's a list (actually a numpy array, basically the same thing)\n",
        "    # We use .iloc[i] for y_test because it's a Pandas Series/DataFrame\n",
        "    print(f'Predicted = {test_preds[i]}, Actual = {y_test.iloc[i]}')"
      ],
      "execution_count": null,
      "outputs": [
        {
          "output_type": "stream",
          "text": [
            "Predicted = 1, Actual = 1\n",
            "Predicted = 0, Actual = 0\n",
            "Predicted = 0, Actual = 0\n",
            "Predicted = 1, Actual = 1\n",
            "Predicted = 1, Actual = 0\n",
            "Predicted = 1, Actual = 1\n",
            "Predicted = 0, Actual = 0\n",
            "Predicted = 0, Actual = 0\n",
            "Predicted = 1, Actual = 1\n",
            "Predicted = 1, Actual = 0\n"
          ],
          "name": "stdout"
        }
      ]
    },
    {
      "cell_type": "code",
      "metadata": {
        "id": "YglwwNsg9Xz7",
        "outputId": "a1c54072-133f-4e26-d9fd-d0f0cb54b9f4",
        "colab": {
          "base_uri": "https://localhost:8080/",
          "height": 181
        }
      },
      "source": [
        "test_pred_proba = clf.predict_proba(X_test)\n",
        "\n",
        "for i in range(10):\n",
        "    # We use [i] for test_pred because it's a list (actually a numpy array, basically the same thing)\n",
        "    # We use .iloc[i] for y_test because it's a Pandas Series/DataFrame\n",
        "    print(f'Predicted: P(\"0\") = {test_pred_proba[i][0]:.3f}, P(\"1\") = {test_pred_proba[i][1]:.3f}, Actual = {y_test.iloc[i]}')"
      ],
      "execution_count": null,
      "outputs": [
        {
          "output_type": "stream",
          "text": [
            "Predicted: P(\"0\") = 0.292, P(\"1\") = 0.708, Actual = 1\n",
            "Predicted: P(\"0\") = 0.752, P(\"1\") = 0.248, Actual = 0\n",
            "Predicted: P(\"0\") = 0.748, P(\"1\") = 0.252, Actual = 0\n",
            "Predicted: P(\"0\") = 0.146, P(\"1\") = 0.854, Actual = 1\n",
            "Predicted: P(\"0\") = 0.241, P(\"1\") = 0.759, Actual = 0\n",
            "Predicted: P(\"0\") = 0.271, P(\"1\") = 0.729, Actual = 1\n",
            "Predicted: P(\"0\") = 0.503, P(\"1\") = 0.497, Actual = 0\n",
            "Predicted: P(\"0\") = 0.769, P(\"1\") = 0.231, Actual = 0\n",
            "Predicted: P(\"0\") = 0.149, P(\"1\") = 0.851, Actual = 1\n",
            "Predicted: P(\"0\") = 0.441, P(\"1\") = 0.559, Actual = 0\n"
          ],
          "name": "stdout"
        }
      ]
    },
    {
      "cell_type": "code",
      "metadata": {
        "id": "QZgzWSo99msv",
        "outputId": "b3493702-cca2-4bf8-bf5e-441e5c67c3a3",
        "colab": {
          "base_uri": "https://localhost:8080/",
          "height": 65
        }
      },
      "source": [
        "pd.Series(test_preds).value_counts()"
      ],
      "execution_count": null,
      "outputs": [
        {
          "output_type": "execute_result",
          "data": {
            "text/plain": [
              "0    161390\n",
              "1     98684\n",
              "dtype: int64"
            ]
          },
          "metadata": {
            "tags": []
          },
          "execution_count": 142
        }
      ]
    },
    {
      "cell_type": "code",
      "metadata": {
        "id": "rI90VZSiBDy7",
        "outputId": "5e1b7b40-76e0-47c1-92fa-e869358d0b52",
        "colab": {
          "base_uri": "https://localhost:8080/",
          "height": 32
        }
      },
      "source": [
        "correct = 0\n",
        "for i in range(y_test.shape[0]):\n",
        "    if test_preds[i] == y_test.iloc[i]:\n",
        "        correct += 1\n",
        "        \n",
        "print(f'Correct {correct} times ({100 * correct / y_test.shape[0]:.2f}%)')"
      ],
      "execution_count": null,
      "outputs": [
        {
          "output_type": "stream",
          "text": [
            "Correct 190254 times (73.15%)\n"
          ],
          "name": "stdout"
        }
      ]
    },
    {
      "cell_type": "code",
      "metadata": {
        "id": "yuCH8x9FBMfA",
        "outputId": "7a26a56d-8d66-4f80-cd03-99d6c94d443f",
        "colab": {
          "base_uri": "https://localhost:8080/",
          "height": 65
        }
      },
      "source": [
        "train['default'].value_counts(normalize=True)"
      ],
      "execution_count": null,
      "outputs": [
        {
          "output_type": "execute_result",
          "data": {
            "text/plain": [
              "1    0.5\n",
              "0    0.5\n",
              "Name: default, dtype: float64"
            ]
          },
          "metadata": {
            "tags": []
          },
          "execution_count": 144
        }
      ]
    },
    {
      "cell_type": "code",
      "metadata": {
        "id": "R_YQULwpBPJo",
        "outputId": "fdeca228-d727-43bd-a49b-277fcec904f6",
        "colab": {
          "base_uri": "https://localhost:8080/",
          "height": 32
        }
      },
      "source": [
        "correct = 0\n",
        "for i in range(y_test.shape[0]):\n",
        "    if 1 == y_test.iloc[i]:\n",
        "        correct += 1\n",
        "        \n",
        "print(f'Correct {correct} times ({100 * correct / y_test.shape[0]:.2f}%)')"
      ],
      "execution_count": null,
      "outputs": [
        {
          "output_type": "stream",
          "text": [
            "Correct 45030 times (17.31%)\n"
          ],
          "name": "stdout"
        }
      ]
    },
    {
      "cell_type": "code",
      "metadata": {
        "id": "Kn6-3B0tBSd2",
        "outputId": "2a6e4d56-6306-4376-88d0-726f17d132b5",
        "colab": {
          "base_uri": "https://localhost:8080/",
          "height": 131
        }
      },
      "source": [
        "clf.coef_"
      ],
      "execution_count": null,
      "outputs": [
        {
          "output_type": "execute_result",
          "data": {
            "text/plain": [
              "array([[-2.19590039e-06, -6.28273615e-04,  3.03651754e-06,\n",
              "        -7.54132186e-05, -2.01880943e-04,  1.12512405e-03,\n",
              "         6.74029525e-04, -2.14472122e-02, -8.50326555e-04,\n",
              "         1.16269621e-05,  3.20979762e-04,  2.18654220e-05,\n",
              "         3.05755694e-06,  3.77409851e-05,  6.56509999e-06,\n",
              "        -2.13913029e-05, -1.15122664e-03, -2.13585325e-06,\n",
              "         5.13333265e-06, -2.13528953e-06,  1.89547926e-04]])"
            ]
          },
          "metadata": {
            "tags": []
          },
          "execution_count": 146
        }
      ]
    },
    {
      "cell_type": "code",
      "metadata": {
        "id": "ajl8DqfICWEl",
        "outputId": "2d654a11-b572-4218-b813-598a98a1dece",
        "colab": {
          "base_uri": "https://localhost:8080/",
          "height": 164
        }
      },
      "source": [
        "print(classification_report(y_test, test_preds))"
      ],
      "execution_count": null,
      "outputs": [
        {
          "output_type": "stream",
          "text": [
            "              precision    recall  f1-score   support\n",
            "\n",
            "           0       0.95      0.71      0.81    215044\n",
            "           1       0.37      0.82      0.51     45030\n",
            "\n",
            "    accuracy                           0.73    260074\n",
            "   macro avg       0.66      0.77      0.66    260074\n",
            "weighted avg       0.85      0.73      0.76    260074\n",
            "\n"
          ],
          "name": "stdout"
        }
      ]
    },
    {
      "cell_type": "markdown",
      "metadata": {
        "id": "Kvua1WK-YCCv"
      },
      "source": [
        "For 0 (did not default):\n",
        "- 95% precision: out of the businesses we predicted will not default, 95% of them actually did not\n",
        "- 71% recall: out of the businesses who actually did not default, 71% of them did we predict would not default\n",
        "- 81% f1-score: the harmonic mean rather than the normal mean of precision and recall for not default\n",
        "\n",
        "For 1 (default):\n",
        "- 37% precision: out of the businesses we predicted will default, 37% of them actually did\n",
        "- 82% recall: out of the businesses who actually did default, 82% of them did we predict would default\n",
        "- 51% f1-score: the harmonic mean rather than the normal mean of precision and recall for default\n",
        "\n",
        "In general, the model preformed better on predicting the businesses who did not default as seen in the higher precision and f1-score."
      ]
    },
    {
      "cell_type": "markdown",
      "metadata": {
        "id": "AKwpluuiGZMe"
      },
      "source": [
        "###Nearest Neighboors###"
      ]
    },
    {
      "cell_type": "code",
      "metadata": {
        "id": "SqDmPOTKNBUK"
      },
      "source": [
        "df_new = df\n",
        "df_new = df_new.drop(['approvalfy', 'disbursementdate', 'chgoffpringr', 'name', 'city', 'zip', 'noemp', 'newexist', 'createjob', 'retainedjob','urbanrural', 'lowdoc', 'grappv', 'sba_appv'], axis='columns')  #We don't want these columns for this"
      ],
      "execution_count": null,
      "outputs": []
    },
    {
      "cell_type": "code",
      "metadata": {
        "id": "ne9TonfSPryM"
      },
      "source": [
        "for c in df_new.columns:\n",
        "  if c != 'default':  \n",
        "    if df_new[c].dtype == object:  #If it is a string, then encode it. \n",
        "        try:  \n",
        "            le = LabelEncoder()           \n",
        "            le.fit(df_new[c].unique())    \n",
        "            df_new[c] = le.transform(df_new[c])  \n",
        "        except Exception as e:         \n",
        "            print(c)         \n",
        "            print(e)"
      ],
      "execution_count": null,
      "outputs": []
    },
    {
      "cell_type": "code",
      "metadata": {
        "id": "rXuN3z8AQckO"
      },
      "source": [
        "le = LabelEncoder()\n",
        "le.fit(df_new['approvaldate'].unique())\n",
        "df_new['approvaldate'] = le.transform(df_new['approvaldate'])"
      ],
      "execution_count": null,
      "outputs": []
    },
    {
      "cell_type": "code",
      "metadata": {
        "id": "0SP48NeXFcnP"
      },
      "source": [
        "from sklearn.model_selection import train_test_split\n",
        "y = df_new.default\n",
        "X = df_new.drop(['default'], axis=1)\n",
        "train_X, test_X, train_y, test_y = train_test_split(X, y, test_size=0.25, random_state=123)"
      ],
      "execution_count": null,
      "outputs": []
    },
    {
      "cell_type": "code",
      "metadata": {
        "id": "cBOHIcuTGeSb"
      },
      "source": [
        "from sklearn.neighbors import KNeighborsClassifier"
      ],
      "execution_count": null,
      "outputs": []
    },
    {
      "cell_type": "code",
      "metadata": {
        "id": "c0VOSkWxE61f",
        "outputId": "29f6b047-59d3-4dbc-8d4c-773618490857",
        "colab": {
          "base_uri": "https://localhost:8080/",
          "height": 65
        }
      },
      "source": [
        "nn_clf = KNeighborsClassifier()\n",
        "nn_clf.fit(train_X, train_y)"
      ],
      "execution_count": null,
      "outputs": [
        {
          "output_type": "execute_result",
          "data": {
            "text/plain": [
              "KNeighborsClassifier(algorithm='auto', leaf_size=30, metric='minkowski',\n",
              "                     metric_params=None, n_jobs=None, n_neighbors=5, p=2,\n",
              "                     weights='uniform')"
            ]
          },
          "metadata": {
            "tags": []
          },
          "execution_count": 154
        }
      ]
    },
    {
      "cell_type": "code",
      "metadata": {
        "id": "98va6fDZE8eM",
        "outputId": "eaea2b93-23a6-4b26-c496-0d3c27431d8f",
        "colab": {
          "base_uri": "https://localhost:8080/",
          "height": 32
        }
      },
      "source": [
        "nn_clf.predict(test_X)"
      ],
      "execution_count": null,
      "outputs": [
        {
          "output_type": "execute_result",
          "data": {
            "text/plain": [
              "array([0, 0, 0, ..., 0, 0, 0])"
            ]
          },
          "metadata": {
            "tags": []
          },
          "execution_count": 155
        }
      ]
    },
    {
      "cell_type": "code",
      "metadata": {
        "id": "yTVu6OrLE-FJ",
        "outputId": "ab37f024-93d9-4c76-ee65-af895427382a",
        "colab": {
          "base_uri": "https://localhost:8080/",
          "height": 131
        }
      },
      "source": [
        "nn_clf.predict_proba(test_X)"
      ],
      "execution_count": null,
      "outputs": [
        {
          "output_type": "execute_result",
          "data": {
            "text/plain": [
              "array([[1. , 0. ],\n",
              "       [0.8, 0.2],\n",
              "       [0.6, 0.4],\n",
              "       ...,\n",
              "       [1. , 0. ],\n",
              "       [0.8, 0.2],\n",
              "       [1. , 0. ]])"
            ]
          },
          "metadata": {
            "tags": []
          },
          "execution_count": 156
        }
      ]
    },
    {
      "cell_type": "code",
      "metadata": {
        "id": "lGqUgHI5E_XK",
        "outputId": "f7d0114a-ce57-4737-8973-d996a6d34048",
        "colab": {
          "base_uri": "https://localhost:8080/",
          "height": 164
        }
      },
      "source": [
        "y_pred_nn = nn_clf.predict(test_X)\n",
        "print(classification_report(test_y, y_pred_nn))"
      ],
      "execution_count": null,
      "outputs": [
        {
          "output_type": "stream",
          "text": [
            "              precision    recall  f1-score   support\n",
            "\n",
            "           0       0.84      0.94      0.89    179492\n",
            "           1       0.33      0.15      0.20     37236\n",
            "\n",
            "    accuracy                           0.80    216728\n",
            "   macro avg       0.59      0.54      0.55    216728\n",
            "weighted avg       0.75      0.80      0.77    216728\n",
            "\n"
          ],
          "name": "stdout"
        }
      ]
    },
    {
      "cell_type": "code",
      "metadata": {
        "id": "rd00MUpQFA1h",
        "outputId": "758f5f44-d88c-4a44-8066-f0cca8ef8e7b",
        "colab": {
          "base_uri": "https://localhost:8080/",
          "height": 741
        }
      },
      "source": [
        "# Different number of neighbors used for prediction\n",
        "for n_neighbors in [1, 5, 10, 15]:\n",
        "    #  Build the classifier\n",
        "    nn_clf = KNeighborsClassifier(n_neighbors=n_neighbors)\n",
        "    \n",
        "    # Train it\n",
        "    nn_clf.fit(train_X, train_y)\n",
        "    \n",
        "    # Make predictions on the test set\n",
        "    y_pred_nn = nn_clf.predict(test_X)\n",
        "    \n",
        "    # Print the classification report\n",
        "    print(f'{n_neighbors} neighbors')\n",
        "    print(classification_report(test_y, y_pred_nn))\n",
        "    print('='*40)"
      ],
      "execution_count": null,
      "outputs": [
        {
          "output_type": "stream",
          "text": [
            "1 neighbors\n",
            "              precision    recall  f1-score   support\n",
            "\n",
            "           0       0.84      0.84      0.84    179492\n",
            "           1       0.25      0.25      0.25     37236\n",
            "\n",
            "    accuracy                           0.74    216728\n",
            "   macro avg       0.55      0.55      0.55    216728\n",
            "weighted avg       0.74      0.74      0.74    216728\n",
            "\n",
            "========================================\n",
            "5 neighbors\n",
            "              precision    recall  f1-score   support\n",
            "\n",
            "           0       0.84      0.94      0.89    179492\n",
            "           1       0.33      0.15      0.20     37236\n",
            "\n",
            "    accuracy                           0.80    216728\n",
            "   macro avg       0.59      0.54      0.55    216728\n",
            "weighted avg       0.75      0.80      0.77    216728\n",
            "\n",
            "========================================\n",
            "10 neighbors\n",
            "              precision    recall  f1-score   support\n",
            "\n",
            "           0       0.83      0.98      0.90    179492\n",
            "           1       0.39      0.06      0.11     37236\n",
            "\n",
            "    accuracy                           0.82    216728\n",
            "   macro avg       0.61      0.52      0.51    216728\n",
            "weighted avg       0.76      0.82      0.77    216728\n",
            "\n",
            "========================================\n",
            "15 neighbors\n",
            "              precision    recall  f1-score   support\n",
            "\n",
            "           0       0.84      0.98      0.90    179492\n",
            "           1       0.39      0.07      0.12     37236\n",
            "\n",
            "    accuracy                           0.82    216728\n",
            "   macro avg       0.61      0.52      0.51    216728\n",
            "weighted avg       0.76      0.82      0.77    216728\n",
            "\n",
            "========================================\n"
          ],
          "name": "stdout"
        }
      ]
    },
    {
      "cell_type": "code",
      "metadata": {
        "id": "i0nmswRtFFwH",
        "outputId": "61a059d6-92fc-4c47-c690-2773e1f05d18",
        "colab": {
          "base_uri": "https://localhost:8080/",
          "height": 32
        }
      },
      "source": [
        "knn = KNeighborsClassifier(n_neighbors=15)\n",
        "knn.fit(train_X, train_y)\n",
        "\n",
        "preds = knn.predict(test_X)\n",
        "\n",
        "acc = knn.score(test_X, test_y)\n",
        "print(f'Test set accuracy: {100*acc:.2f}%')"
      ],
      "execution_count": null,
      "outputs": [
        {
          "output_type": "stream",
          "text": [
            "Test set accuracy: 82.11%\n"
          ],
          "name": "stdout"
        }
      ]
    },
    {
      "cell_type": "markdown",
      "metadata": {
        "id": "dNcBO0urGfF8"
      },
      "source": [
        "### XGBoost ###"
      ]
    },
    {
      "cell_type": "markdown",
      "metadata": {
        "id": "5I2rtn5LneC8"
      },
      "source": [
        "Let's try bulding a model using XGBoost!"
      ]
    },
    {
      "cell_type": "code",
      "metadata": {
        "id": "cQt0WT9iGuf0"
      },
      "source": [
        "df_encoded = df\n",
        "df_encoded = df_encoded.drop(['approvalfy', 'disbursementdate', 'chgoffpringr', 'termbyyears', 'franchise', 'termbyyearsrounded5'], axis='columns')  #We don't want these columns for this"
      ],
      "execution_count": null,
      "outputs": []
    },
    {
      "cell_type": "code",
      "metadata": {
        "id": "y3Bh29DQiMWz"
      },
      "source": [
        "df_encoded['approvaldate'] = df_encoded['approvaldate'].astype('str') #We want this column but we need it to be a string"
      ],
      "execution_count": null,
      "outputs": []
    },
    {
      "cell_type": "markdown",
      "metadata": {
        "id": "ayXcJMi1noGb"
      },
      "source": [
        "Import LabelEncoder so that we can make all of our strings into numeric values"
      ]
    },
    {
      "cell_type": "code",
      "metadata": {
        "id": "CAv1A4LOacrL"
      },
      "source": [
        "from sklearn.preprocessing import LabelEncoder"
      ],
      "execution_count": null,
      "outputs": []
    },
    {
      "cell_type": "code",
      "metadata": {
        "id": "D5cJ9qX4KzaT"
      },
      "source": [
        "for c in df_encoded.columns:\n",
        "  if c != 'default':  \n",
        "    if df_encoded[c].dtype == object:  #If it is a string, then encode it. \n",
        "        try:  \n",
        "            le = LabelEncoder()           \n",
        "            le.fit(df_encoded[c].unique())    \n",
        "            df_encoded[c] = le.transform(df_encoded[c])  \n",
        "        except Exception as e:         \n",
        "            print(c)         \n",
        "            print(e)"
      ],
      "execution_count": null,
      "outputs": []
    },
    {
      "cell_type": "markdown",
      "metadata": {
        "id": "EaVV7gynnzoq"
      },
      "source": [
        "As you can see, the amount of defaults is a small percentage of our total dataset."
      ]
    },
    {
      "cell_type": "code",
      "metadata": {
        "id": "oOhazHt_Gnix",
        "outputId": "7ac875bb-2c90-4618-e969-90fcfe4c5ed8",
        "colab": {
          "base_uri": "https://localhost:8080/",
          "height": 68
        }
      },
      "source": [
        "df_encoded['default'].value_counts()"
      ],
      "execution_count": null,
      "outputs": [
        {
          "output_type": "execute_result",
          "data": {
            "text/plain": [
              "0    718059\n",
              "1    148853\n",
              "Name: default, dtype: int64"
            ]
          },
          "metadata": {
            "tags": []
          },
          "execution_count": 118
        }
      ]
    },
    {
      "cell_type": "markdown",
      "metadata": {
        "id": "5MO2JYYin5Cl"
      },
      "source": [
        "To fix this, let's do oversampling where we duplicate the defaulted data."
      ]
    },
    {
      "cell_type": "code",
      "metadata": {
        "id": "DgJ7SQgxrElG"
      },
      "source": [
        "def oversample(df, column, value):\n",
        "  train_1_df = df[df[column] == 1]\n",
        "  train_1_df = train_1_df.sample(value, replace=True)  #This duplicates the rows that are defaults\n",
        "\n",
        "\n",
        "  train_0_df = df[df[column] == 0]\n",
        "\n",
        "  df = pd.concat([train_0_df, train_1_df])\n",
        "\n",
        "  return df"
      ],
      "execution_count": null,
      "outputs": []
    },
    {
      "cell_type": "code",
      "metadata": {
        "id": "534_mAj4awg8"
      },
      "source": [
        "df_encoded = oversample(df_encoded, 'default', 718062)"
      ],
      "execution_count": null,
      "outputs": []
    },
    {
      "cell_type": "markdown",
      "metadata": {
        "id": "WvY994w8oEKX"
      },
      "source": [
        "Below you can see we now have around 1.4 million data points to train and test with."
      ]
    },
    {
      "cell_type": "code",
      "metadata": {
        "id": "hUZ6U6Iysc53",
        "outputId": "f02d5080-5960-4763-b6ee-90dbcf107e0a",
        "colab": {
          "base_uri": "https://localhost:8080/",
          "height": 34
        }
      },
      "source": [
        "df_encoded.shape"
      ],
      "execution_count": null,
      "outputs": [
        {
          "output_type": "execute_result",
          "data": {
            "text/plain": [
              "(1436121, 22)"
            ]
          },
          "metadata": {
            "tags": []
          },
          "execution_count": 121
        }
      ]
    },
    {
      "cell_type": "markdown",
      "metadata": {
        "id": "KArZwJeFoLd5"
      },
      "source": [
        "Now let's split the data into training and test sets."
      ]
    },
    {
      "cell_type": "code",
      "metadata": {
        "id": "Rc9WHO7ybbuU"
      },
      "source": [
        "from sklearn.model_selection import train_test_split\n",
        "y = df_encoded.default  #We just want the default here\n",
        "X = df_encoded.drop(['default'], axis=1)  #Every column except the defaults\n",
        "train_X, test_X, train_y, test_y = train_test_split(X, y, test_size=0.25, random_state=123)"
      ],
      "execution_count": null,
      "outputs": []
    },
    {
      "cell_type": "markdown",
      "metadata": {
        "id": "kgEbEgmkoViI"
      },
      "source": [
        "Now we can do XGBoost."
      ]
    },
    {
      "cell_type": "code",
      "metadata": {
        "id": "leH8Be1_bhEa",
        "outputId": "57bfb421-aefe-4c02-8112-0ca9d38de759",
        "colab": {
          "base_uri": "https://localhost:8080/",
          "height": 136
        }
      },
      "source": [
        "import xgboost as xgb\n",
        "model2 = xgb.XGBClassifier()\n",
        "model2.fit(train_X, train_y)"
      ],
      "execution_count": null,
      "outputs": [
        {
          "output_type": "execute_result",
          "data": {
            "text/plain": [
              "XGBClassifier(base_score=0.5, booster='gbtree', colsample_bylevel=1,\n",
              "              colsample_bynode=1, colsample_bytree=1, gamma=0,\n",
              "              learning_rate=0.1, max_delta_step=0, max_depth=3,\n",
              "              min_child_weight=1, missing=None, n_estimators=100, n_jobs=1,\n",
              "              nthread=None, objective='binary:logistic', random_state=0,\n",
              "              reg_alpha=0, reg_lambda=1, scale_pos_weight=1, seed=None,\n",
              "              silent=None, subsample=1, verbosity=1)"
            ]
          },
          "metadata": {
            "tags": []
          },
          "execution_count": 123
        }
      ]
    },
    {
      "cell_type": "code",
      "metadata": {
        "id": "t3RnzSKYblpw",
        "outputId": "ef058cc7-dacd-451c-f15f-0d11319291a9",
        "colab": {
          "base_uri": "https://localhost:8080/",
          "height": 34
        }
      },
      "source": [
        "from sklearn.metrics import accuracy_score\n",
        "pred2 = model2.predict(test_X)\n",
        "print(\"Accuracy for model: %.2f\" % (accuracy_score(test_y, pred2) * 100))"
      ],
      "execution_count": null,
      "outputs": [
        {
          "output_type": "stream",
          "text": [
            "Accuracy for model: 90.37\n"
          ],
          "name": "stdout"
        }
      ]
    },
    {
      "cell_type": "markdown",
      "metadata": {
        "id": "ES8APM-Load0"
      },
      "source": [
        "The model accuracy is 90% which is really good but let's check some other metrics to make sure."
      ]
    },
    {
      "cell_type": "code",
      "metadata": {
        "id": "bpoGTsabiSRF",
        "outputId": "218c3e19-f6a5-4f11-cf1b-cf1f796041e1",
        "colab": {
          "base_uri": "https://localhost:8080/",
          "height": 170
        }
      },
      "source": [
        "from sklearn.metrics import classification_report\n",
        "pred = model2.predict(test_X)\n",
        "print(classification_report(test_y, pred))"
      ],
      "execution_count": null,
      "outputs": [
        {
          "output_type": "stream",
          "text": [
            "              precision    recall  f1-score   support\n",
            "\n",
            "           0       0.91      0.90      0.90    179496\n",
            "           1       0.90      0.91      0.90    179535\n",
            "\n",
            "    accuracy                           0.90    359031\n",
            "   macro avg       0.90      0.90      0.90    359031\n",
            "weighted avg       0.90      0.90      0.90    359031\n",
            "\n"
          ],
          "name": "stdout"
        }
      ]
    },
    {
      "cell_type": "markdown",
      "metadata": {
        "id": "RHwctvZiogn6"
      },
      "source": [
        "As we can see, this model performs very well. The precision and recall are very close together meaning that the model is predicting the ones that default just as good as the ones that do not default. Super great results."
      ]
    },
    {
      "cell_type": "markdown",
      "metadata": {
        "id": "myw_ei3-os-7"
      },
      "source": [
        "Lastly, we can look at the features below. Term seems to be really important to predicting whether a loan will default. Other columns that are important are the approval date, bank, franchise code, state, and identifier."
      ]
    },
    {
      "cell_type": "code",
      "metadata": {
        "id": "WMQ-9fgJks_1"
      },
      "source": [
        "featuredf = pd.DataFrame(model2.feature_importances_, train_X.columns)"
      ],
      "execution_count": null,
      "outputs": []
    },
    {
      "cell_type": "code",
      "metadata": {
        "id": "fu-qOma8kPrG"
      },
      "source": [
        "featuredf = featuredf.sort_values(by=0, ascending=False)\n",
        "featuredf[0] = featuredf[0]*100\n",
        "featuredf = featuredf[:10]"
      ],
      "execution_count": null,
      "outputs": []
    },
    {
      "cell_type": "code",
      "metadata": {
        "id": "saCNKi-wiUjQ",
        "outputId": "54ebfc85-3a1d-425b-d8e5-17607ddf358d",
        "colab": {
          "base_uri": "https://localhost:8080/",
          "height": 511
        }
      },
      "source": [
        "plt.figure(figsize=(20, 8))\n",
        "\n",
        "x = featuredf.index\n",
        "y = featuredf[0]\n",
        "\n",
        "plt.title('Important Columns', fontsize =20)\n",
        "plt.bar(x, y)\n",
        "plt.xticks(rotation=45, fontsize = 12)\n",
        "plt.ylabel('Percent', fontsize=14);"
      ],
      "execution_count": null,
      "outputs": [
        {
          "output_type": "display_data",
          "data": {
            "image/png": "[encoded data removed]",
            "text/plain": [
              "<Figure size 1440x576 with 1 Axes>"
            ]
          },
          "metadata": {
            "tags": [],
            "needs_background": "light"
          }
        }
      ]
    },
    {
      "cell_type": "markdown",
      "metadata": {
        "id": "FXUiixdHNwHm"
      },
      "source": [
        "# Popular Banks\n",
        "\n"
      ]
    },
    {
      "cell_type": "code",
      "metadata": {
        "id": "Udx0noSFat7S",
        "outputId": "186f0be7-9211-4dc0-ecb3-2128810c1ac8",
        "colab": {
          "base_uri": "https://localhost:8080/",
          "height": 204
        }
      },
      "source": [
        "df['bank'].value_counts()[:10]"
      ],
      "execution_count": null,
      "outputs": [
        {
          "output_type": "execute_result",
          "data": {
            "text/plain": [
              "BANK OF AMERICA NATL ASSOC        79376\n",
              "WELLS FARGO BANK NATL ASSOC       61572\n",
              "JPMORGAN CHASE BANK NATL ASSOC    47083\n",
              "U.S. BANK NATIONAL ASSOCIATION    34178\n",
              "CITIZENS BANK NATL ASSOC          32250\n",
              "PNC BANK, NATIONAL ASSOCIATION    25712\n",
              "BBCN BANK                         22764\n",
              "CAPITAL ONE NATL ASSOC            22144\n",
              "MANUFACTURERS & TRADERS TR CO     10904\n",
              "READYCAP LENDING, LLC             10579\n",
              "Name: bank, dtype: int64"
            ]
          },
          "metadata": {
            "tags": []
          },
          "execution_count": 207
        }
      ]
    },
    {
      "cell_type": "markdown",
      "metadata": {
        "id": "HNPQIrwva9a7"
      },
      "source": [
        "Were going to look at Bank of America, Chase, Capital One, and Wells Fargo as these are very popular and larger banks."
      ]
    },
    {
      "cell_type": "markdown",
      "metadata": {
        "id": "Yc5GCX2djmV3"
      },
      "source": [
        "First lets make a dataframe only consisting of the four banks we are going to analyze."
      ]
    },
    {
      "cell_type": "code",
      "metadata": {
        "id": "0PfpJAMRa-ph"
      },
      "source": [
        "popularbanks_df = df[(df['bank']== 'WELLS FARGO BANK NATL ASSOC') | (df['bank']== 'CAPITAL ONE NATL ASSOC') | (df['bank']== 'JPMORGAN CHASE BANK NATL ASSOC') | (df['bank']== 'BANK OF AMERICA NATL ASSOC')]"
      ],
      "execution_count": null,
      "outputs": []
    },
    {
      "cell_type": "code",
      "metadata": {
        "id": "UdVjt1N3bEoy",
        "outputId": "86a6231f-f1dc-4375-b0df-6d3e7618875e",
        "colab": {
          "base_uri": "https://localhost:8080/",
          "height": 513
        }
      },
      "source": [
        "popularbanks_df.head()"
      ],
      "execution_count": null,
      "outputs": [
        {
          "output_type": "execute_result",
          "data": {
            "text/html": [
              "<div>\n",
              "<style scoped>\n",
              "    .dataframe tbody tr th:only-of-type {\n",
              "        vertical-align: middle;\n",
              "    }\n",
              "\n",
              "    .dataframe tbody tr th {\n",
              "        vertical-align: top;\n",
              "    }\n",
              "\n",
              "    .dataframe thead th {\n",
              "        text-align: right;\n",
              "    }\n",
              "</style>\n",
              "<table border=\"1\" class=\"dataframe\">\n",
              "  <thead>\n",
              "    <tr style=\"text-align: right;\">\n",
              "      <th></th>\n",
              "      <th>loannr_chkdgt</th>\n",
              "      <th>name</th>\n",
              "      <th>city</th>\n",
              "      <th>state</th>\n",
              "      <th>zip</th>\n",
              "      <th>bank</th>\n",
              "      <th>bankstate</th>\n",
              "      <th>approvaldate</th>\n",
              "      <th>approvalfy</th>\n",
              "      <th>term</th>\n",
              "      <th>noemp</th>\n",
              "      <th>newexist</th>\n",
              "      <th>createjob</th>\n",
              "      <th>retainedjob</th>\n",
              "      <th>franchisecode</th>\n",
              "      <th>urbanrural</th>\n",
              "      <th>revlinecr</th>\n",
              "      <th>lowdoc</th>\n",
              "      <th>disbursementdate</th>\n",
              "      <th>disbursementgross</th>\n",
              "      <th>chgoffpringr</th>\n",
              "      <th>grappv</th>\n",
              "      <th>sba_appv</th>\n",
              "      <th>default</th>\n",
              "      <th>industry</th>\n",
              "      <th>termbyyears</th>\n",
              "      <th>termbyyearsrounded5</th>\n",
              "      <th>franchise</th>\n",
              "    </tr>\n",
              "  </thead>\n",
              "  <tbody>\n",
              "    <tr>\n",
              "      <th>6</th>\n",
              "      <td>1000093009</td>\n",
              "      <td>MIDDLE ATLANTIC SPORTS CO INC</td>\n",
              "      <td>UNION</td>\n",
              "      <td>NJ</td>\n",
              "      <td>7083</td>\n",
              "      <td>WELLS FARGO BANK NATL ASSOC</td>\n",
              "      <td>SD</td>\n",
              "      <td>1980-06-02</td>\n",
              "      <td>1980</td>\n",
              "      <td>45</td>\n",
              "      <td>45</td>\n",
              "      <td>2.0</td>\n",
              "      <td>0</td>\n",
              "      <td>0</td>\n",
              "      <td>0</td>\n",
              "      <td>0</td>\n",
              "      <td>N</td>\n",
              "      <td>N</td>\n",
              "      <td>1980-07-22</td>\n",
              "      <td>600000.0</td>\n",
              "      <td>208959.0</td>\n",
              "      <td>600000.0</td>\n",
              "      <td>499998.0</td>\n",
              "      <td>1</td>\n",
              "      <td>Unknown</td>\n",
              "      <td>3.75</td>\n",
              "      <td>5</td>\n",
              "      <td>0</td>\n",
              "    </tr>\n",
              "    <tr>\n",
              "      <th>11</th>\n",
              "      <td>1000144007</td>\n",
              "      <td>PROFESSIONAL ELEVATOR SERVICES</td>\n",
              "      <td>CHICAGO</td>\n",
              "      <td>IL</td>\n",
              "      <td>60605</td>\n",
              "      <td>BANK OF AMERICA NATL ASSOC</td>\n",
              "      <td>OR</td>\n",
              "      <td>1997-02-28</td>\n",
              "      <td>1997</td>\n",
              "      <td>60</td>\n",
              "      <td>24</td>\n",
              "      <td>1.0</td>\n",
              "      <td>0</td>\n",
              "      <td>0</td>\n",
              "      <td>1</td>\n",
              "      <td>0</td>\n",
              "      <td>N</td>\n",
              "      <td>N</td>\n",
              "      <td>1997-11-30</td>\n",
              "      <td>150000.0</td>\n",
              "      <td>0.0</td>\n",
              "      <td>300000.0</td>\n",
              "      <td>225000.0</td>\n",
              "      <td>0</td>\n",
              "      <td>construction</td>\n",
              "      <td>5.00</td>\n",
              "      <td>5</td>\n",
              "      <td>0</td>\n",
              "    </tr>\n",
              "    <tr>\n",
              "      <th>15</th>\n",
              "      <td>1000244002</td>\n",
              "      <td>ENVIRONMENTAL ROOFING SYSTEMS,</td>\n",
              "      <td>OKLAHOMA CITY</td>\n",
              "      <td>OK</td>\n",
              "      <td>73112</td>\n",
              "      <td>BANK OF AMERICA NATL ASSOC</td>\n",
              "      <td>NC</td>\n",
              "      <td>1997-02-28</td>\n",
              "      <td>1997</td>\n",
              "      <td>12</td>\n",
              "      <td>5</td>\n",
              "      <td>2.0</td>\n",
              "      <td>0</td>\n",
              "      <td>0</td>\n",
              "      <td>1</td>\n",
              "      <td>0</td>\n",
              "      <td>N</td>\n",
              "      <td>N</td>\n",
              "      <td>1997-09-30</td>\n",
              "      <td>350000.0</td>\n",
              "      <td>0.0</td>\n",
              "      <td>350000.0</td>\n",
              "      <td>262500.0</td>\n",
              "      <td>0</td>\n",
              "      <td>wholesale trade</td>\n",
              "      <td>1.00</td>\n",
              "      <td>0</td>\n",
              "      <td>0</td>\n",
              "    </tr>\n",
              "    <tr>\n",
              "      <th>16</th>\n",
              "      <td>1000254005</td>\n",
              "      <td>ARK MAMAGEMENT ENTERPRISES INC</td>\n",
              "      <td>MIDLAND</td>\n",
              "      <td>TX</td>\n",
              "      <td>79701</td>\n",
              "      <td>WELLS FARGO BANK NATL ASSOC</td>\n",
              "      <td>TX</td>\n",
              "      <td>1997-02-28</td>\n",
              "      <td>1997</td>\n",
              "      <td>60</td>\n",
              "      <td>5</td>\n",
              "      <td>1.0</td>\n",
              "      <td>0</td>\n",
              "      <td>0</td>\n",
              "      <td>1</td>\n",
              "      <td>0</td>\n",
              "      <td>N</td>\n",
              "      <td>Y</td>\n",
              "      <td>1997-06-30</td>\n",
              "      <td>70000.0</td>\n",
              "      <td>0.0</td>\n",
              "      <td>70000.0</td>\n",
              "      <td>56000.0</td>\n",
              "      <td>0</td>\n",
              "      <td>Unknown</td>\n",
              "      <td>5.00</td>\n",
              "      <td>5</td>\n",
              "      <td>0</td>\n",
              "    </tr>\n",
              "    <tr>\n",
              "      <th>17</th>\n",
              "      <td>1000264008</td>\n",
              "      <td>FAIRFAX COURT SUBWAY, INC.</td>\n",
              "      <td>CENTREVILLE</td>\n",
              "      <td>VA</td>\n",
              "      <td>20120</td>\n",
              "      <td>BANK OF AMERICA NATL ASSOC</td>\n",
              "      <td>MD</td>\n",
              "      <td>1997-02-28</td>\n",
              "      <td>1997</td>\n",
              "      <td>60</td>\n",
              "      <td>16</td>\n",
              "      <td>1.0</td>\n",
              "      <td>0</td>\n",
              "      <td>0</td>\n",
              "      <td>1</td>\n",
              "      <td>0</td>\n",
              "      <td>N</td>\n",
              "      <td>Y</td>\n",
              "      <td>1997-07-31</td>\n",
              "      <td>100000.0</td>\n",
              "      <td>0.0</td>\n",
              "      <td>100000.0</td>\n",
              "      <td>80000.0</td>\n",
              "      <td>0</td>\n",
              "      <td>Unknown</td>\n",
              "      <td>5.00</td>\n",
              "      <td>5</td>\n",
              "      <td>0</td>\n",
              "    </tr>\n",
              "  </tbody>\n",
              "</table>\n",
              "</div>"
            ],
            "text/plain": [
              "    loannr_chkdgt  ... franchise\n",
              "6      1000093009  ...         0\n",
              "11     1000144007  ...         0\n",
              "15     1000244002  ...         0\n",
              "16     1000254005  ...         0\n",
              "17     1000264008  ...         0\n",
              "\n",
              "[5 rows x 28 columns]"
            ]
          },
          "metadata": {
            "tags": []
          },
          "execution_count": 209
        }
      ]
    },
    {
      "cell_type": "code",
      "metadata": {
        "id": "K5onDDVMbOSP",
        "outputId": "45f5188f-1b6d-4e6d-b372-63bf401df919",
        "colab": {
          "base_uri": "https://localhost:8080/",
          "height": 102
        }
      },
      "source": [
        "popularbanks_df['bank'].value_counts()"
      ],
      "execution_count": null,
      "outputs": [
        {
          "output_type": "execute_result",
          "data": {
            "text/plain": [
              "BANK OF AMERICA NATL ASSOC        79376\n",
              "WELLS FARGO BANK NATL ASSOC       61572\n",
              "JPMORGAN CHASE BANK NATL ASSOC    47083\n",
              "CAPITAL ONE NATL ASSOC            22144\n",
              "Name: bank, dtype: int64"
            ]
          },
          "metadata": {
            "tags": []
          },
          "execution_count": 210
        }
      ]
    },
    {
      "cell_type": "markdown",
      "metadata": {
        "id": "biBlzGktkE3G"
      },
      "source": [
        "Now we are going to take a look at the defaults of each bank "
      ]
    },
    {
      "cell_type": "code",
      "metadata": {
        "id": "w6fiFZ0AbTpb"
      },
      "source": [
        "popdefault= popularbanks_df[popularbanks_df['default']==1]"
      ],
      "execution_count": null,
      "outputs": []
    },
    {
      "cell_type": "markdown",
      "metadata": {
        "id": "z8XCe1iaAiok"
      },
      "source": [
        "We will find the percentage of defaults each bank has"
      ]
    },
    {
      "cell_type": "code",
      "metadata": {
        "id": "PSagZeb_mSw4",
        "outputId": "019319fa-3bc2-4a4a-c915-04cf3afb95fb",
        "colab": {
          "base_uri": "https://localhost:8080/",
          "height": 102
        }
      },
      "source": [
        "(popdefault['bank'].value_counts() / popularbanks_df['bank'].value_counts()).sort_values(ascending=True) "
      ],
      "execution_count": null,
      "outputs": [
        {
          "output_type": "execute_result",
          "data": {
            "text/plain": [
              "WELLS FARGO BANK NATL ASSOC       0.144173\n",
              "BANK OF AMERICA NATL ASSOC        0.239254\n",
              "JPMORGAN CHASE BANK NATL ASSOC    0.277000\n",
              "CAPITAL ONE NATL ASSOC            0.414379\n",
              "Name: bank, dtype: float64"
            ]
          },
          "metadata": {
            "tags": []
          },
          "execution_count": 212
        }
      ]
    },
    {
      "cell_type": "code",
      "metadata": {
        "id": "b451krcIbYJY"
      },
      "source": [
        "popbankdefault = (popdefault['bank'].value_counts() / popularbanks_df['bank'].value_counts()*100).sort_values(ascending=True) "
      ],
      "execution_count": null,
      "outputs": []
    },
    {
      "cell_type": "markdown",
      "metadata": {
        "id": "kebaFB4GAgjz"
      },
      "source": [
        "Now we will plot this on a bar graph"
      ]
    },
    {
      "cell_type": "code",
      "metadata": {
        "id": "O0A2QR9UbfQl",
        "outputId": "058fecb7-656a-446d-f505-6d8e072455ba",
        "colab": {
          "base_uri": "https://localhost:8080/",
          "height": 540
        }
      },
      "source": [
        "plt.figure(figsize=(12,8))\n",
        "plt.barh(popbankdefault.index, popbankdefault, alpha=0.5, )\n",
        "plt.grid()\n",
        "plt.title('Default Percentage per Bank', fontsize =20)\n",
        "plt.xlabel('Percentage', fontsize=16)\n",
        "plt.yticks(fontsize=12)"
      ],
      "execution_count": null,
      "outputs": [
        {
          "output_type": "execute_result",
          "data": {
            "text/plain": [
              "([0, 1, 2, 3], <a list of 4 Text major ticklabel objects>)"
            ]
          },
          "metadata": {
            "tags": []
          },
          "execution_count": 216
        },
        {
          "output_type": "display_data",
          "data": {
            "image/png": "[encoded data removed]",
            "text/plain": [
              "<Figure size 864x576 with 1 Axes>"
            ]
          },
          "metadata": {
            "tags": [],
            "needs_background": "light"
          }
        }
      ]
    },
    {
      "cell_type": "markdown",
      "metadata": {
        "id": "6IHMzOfUbvuM"
      },
      "source": [
        "Lets make functions for each bank to be able to easily analyze each one. "
      ]
    },
    {
      "cell_type": "code",
      "metadata": {
        "id": "sZQCTrl7buEx"
      },
      "source": [
        "f_capitalone = popularbanks_df[popularbanks_df['bank']=='CAPITAL ONE NATL ASSOC']\n",
        "f_chase = popularbanks_df[popularbanks_df['bank']=='JPMORGAN CHASE BANK NATL ASSOC']\n",
        "f_bankofamerica = popularbanks_df[popularbanks_df['bank']=='BANK OF AMERICA NATL ASSOC']\n",
        "f_wellsfargo = popularbanks_df[popularbanks_df['bank']=='WELLS FARGO BANK NATL ASSOC']"
      ],
      "execution_count": null,
      "outputs": []
    },
    {
      "cell_type": "markdown",
      "metadata": {
        "id": "yKK4XiL6lJVp"
      },
      "source": [
        "Analyzing the average term of each bank\n"
      ]
    },
    {
      "cell_type": "code",
      "metadata": {
        "id": "HzrmodwNb76P",
        "outputId": "3d8add32-4137-4d6c-c52a-302d08ebd559",
        "colab": {
          "base_uri": "https://localhost:8080/",
          "height": 32
        }
      },
      "source": [
        "f_capitalone['term'].mean() # finding the average term length"
      ],
      "execution_count": null,
      "outputs": [
        {
          "output_type": "execute_result",
          "data": {
            "text/plain": [
              "66.8835350433526"
            ]
          },
          "metadata": {
            "tags": []
          },
          "execution_count": 185
        }
      ]
    },
    {
      "cell_type": "code",
      "metadata": {
        "id": "0UItIR_lcN5e",
        "outputId": "638dab87-95f8-423a-d8f0-025acb8a4356",
        "colab": {
          "base_uri": "https://localhost:8080/",
          "height": 32
        }
      },
      "source": [
        "f_chase['term'].mean()  # finding the average term length"
      ],
      "execution_count": null,
      "outputs": [
        {
          "output_type": "execute_result",
          "data": {
            "text/plain": [
              "76.23704946583693"
            ]
          },
          "metadata": {
            "tags": []
          },
          "execution_count": 186
        }
      ]
    },
    {
      "cell_type": "code",
      "metadata": {
        "id": "WlMPd4A8ciHB",
        "outputId": "8f1fd5aa-471b-45ad-8a04-0b3e37d90e98",
        "colab": {
          "base_uri": "https://localhost:8080/",
          "height": 32
        }
      },
      "source": [
        "f_bankofamerica['term'].mean() # finding the average term"
      ],
      "execution_count": null,
      "outputs": [
        {
          "output_type": "execute_result",
          "data": {
            "text/plain": [
              "72.33026355573473"
            ]
          },
          "metadata": {
            "tags": []
          },
          "execution_count": 187
        }
      ]
    },
    {
      "cell_type": "code",
      "metadata": {
        "id": "nvpYxbArdgTj",
        "outputId": "fc86d24e-b39c-4ce5-81d4-b899924632bc",
        "colab": {
          "base_uri": "https://localhost:8080/",
          "height": 32
        }
      },
      "source": [
        "f_wellsfargo['term'].mean() # finding the average term"
      ],
      "execution_count": null,
      "outputs": [
        {
          "output_type": "execute_result",
          "data": {
            "text/plain": [
              "119.87798025076333"
            ]
          },
          "metadata": {
            "tags": []
          },
          "execution_count": 188
        }
      ]
    },
    {
      "cell_type": "markdown",
      "metadata": {
        "id": "gbsy3zfBlXvJ"
      },
      "source": [
        "Its interesting to see that the bank with the higher percentage of defaults (Capital One, 41%) has the lowest average term (66 months) and the bank with the lowest percentage of defaults (Wells Fargo, 14%) has the highest average term (119 months)."
      ]
    }
  ]
}